{
 "cells": [
  {
   "cell_type": "markdown",
   "metadata": {},
   "source": [
    "Importing all the necessary libraries."
   ]
  },
  {
   "cell_type": "code",
   "execution_count": 74,
   "metadata": {},
   "outputs": [],
   "source": [
    "import pandas as pd\n",
    "import numpy as np\n",
    "\n",
    "import seaborn as sns"
   ]
  },
  {
   "cell_type": "code",
   "execution_count": 75,
   "metadata": {},
   "outputs": [],
   "source": [
    "#!wget https://www.kaggle.com/datasets/camnugent/california-housing-prices?select=housing.csv"
   ]
  },
  {
   "cell_type": "markdown",
   "metadata": {},
   "source": [
    "Reading the data"
   ]
  },
  {
   "cell_type": "code",
   "execution_count": 76,
   "metadata": {},
   "outputs": [],
   "source": [
    "df_data = pd.read_csv(\"california-housing-prices.csv\")"
   ]
  },
  {
   "cell_type": "markdown",
   "metadata": {},
   "source": [
    "To have a look"
   ]
  },
  {
   "cell_type": "code",
   "execution_count": 77,
   "metadata": {},
   "outputs": [
    {
     "data": {
      "text/html": [
       "<div>\n",
       "<style scoped>\n",
       "    .dataframe tbody tr th:only-of-type {\n",
       "        vertical-align: middle;\n",
       "    }\n",
       "\n",
       "    .dataframe tbody tr th {\n",
       "        vertical-align: top;\n",
       "    }\n",
       "\n",
       "    .dataframe thead th {\n",
       "        text-align: right;\n",
       "    }\n",
       "</style>\n",
       "<table border=\"1\" class=\"dataframe\">\n",
       "  <thead>\n",
       "    <tr style=\"text-align: right;\">\n",
       "      <th></th>\n",
       "      <th>longitude</th>\n",
       "      <th>latitude</th>\n",
       "      <th>housing_median_age</th>\n",
       "      <th>total_rooms</th>\n",
       "      <th>total_bedrooms</th>\n",
       "      <th>population</th>\n",
       "      <th>households</th>\n",
       "      <th>median_income</th>\n",
       "      <th>median_house_value</th>\n",
       "      <th>ocean_proximity</th>\n",
       "    </tr>\n",
       "  </thead>\n",
       "  <tbody>\n",
       "    <tr>\n",
       "      <th>0</th>\n",
       "      <td>-122.23</td>\n",
       "      <td>37.88</td>\n",
       "      <td>41.0</td>\n",
       "      <td>880.0</td>\n",
       "      <td>129.0</td>\n",
       "      <td>322.0</td>\n",
       "      <td>126.0</td>\n",
       "      <td>8.3252</td>\n",
       "      <td>452600.0</td>\n",
       "      <td>NEAR BAY</td>\n",
       "    </tr>\n",
       "    <tr>\n",
       "      <th>1</th>\n",
       "      <td>-122.22</td>\n",
       "      <td>37.86</td>\n",
       "      <td>21.0</td>\n",
       "      <td>7099.0</td>\n",
       "      <td>1106.0</td>\n",
       "      <td>2401.0</td>\n",
       "      <td>1138.0</td>\n",
       "      <td>8.3014</td>\n",
       "      <td>358500.0</td>\n",
       "      <td>NEAR BAY</td>\n",
       "    </tr>\n",
       "    <tr>\n",
       "      <th>2</th>\n",
       "      <td>-122.24</td>\n",
       "      <td>37.85</td>\n",
       "      <td>52.0</td>\n",
       "      <td>1467.0</td>\n",
       "      <td>190.0</td>\n",
       "      <td>496.0</td>\n",
       "      <td>177.0</td>\n",
       "      <td>7.2574</td>\n",
       "      <td>352100.0</td>\n",
       "      <td>NEAR BAY</td>\n",
       "    </tr>\n",
       "    <tr>\n",
       "      <th>3</th>\n",
       "      <td>-122.25</td>\n",
       "      <td>37.85</td>\n",
       "      <td>52.0</td>\n",
       "      <td>1274.0</td>\n",
       "      <td>235.0</td>\n",
       "      <td>558.0</td>\n",
       "      <td>219.0</td>\n",
       "      <td>5.6431</td>\n",
       "      <td>341300.0</td>\n",
       "      <td>NEAR BAY</td>\n",
       "    </tr>\n",
       "    <tr>\n",
       "      <th>4</th>\n",
       "      <td>-122.25</td>\n",
       "      <td>37.85</td>\n",
       "      <td>52.0</td>\n",
       "      <td>1627.0</td>\n",
       "      <td>280.0</td>\n",
       "      <td>565.0</td>\n",
       "      <td>259.0</td>\n",
       "      <td>3.8462</td>\n",
       "      <td>342200.0</td>\n",
       "      <td>NEAR BAY</td>\n",
       "    </tr>\n",
       "  </tbody>\n",
       "</table>\n",
       "</div>"
      ],
      "text/plain": [
       "   longitude  latitude  housing_median_age  total_rooms  total_bedrooms  \\\n",
       "0    -122.23     37.88                41.0        880.0           129.0   \n",
       "1    -122.22     37.86                21.0       7099.0          1106.0   \n",
       "2    -122.24     37.85                52.0       1467.0           190.0   \n",
       "3    -122.25     37.85                52.0       1274.0           235.0   \n",
       "4    -122.25     37.85                52.0       1627.0           280.0   \n",
       "\n",
       "   population  households  median_income  median_house_value ocean_proximity  \n",
       "0       322.0       126.0         8.3252            452600.0        NEAR BAY  \n",
       "1      2401.0      1138.0         8.3014            358500.0        NEAR BAY  \n",
       "2       496.0       177.0         7.2574            352100.0        NEAR BAY  \n",
       "3       558.0       219.0         5.6431            341300.0        NEAR BAY  \n",
       "4       565.0       259.0         3.8462            342200.0        NEAR BAY  "
      ]
     },
     "execution_count": 77,
     "metadata": {},
     "output_type": "execute_result"
    }
   ],
   "source": [
    "df_data.head()"
   ]
  },
  {
   "cell_type": "markdown",
   "metadata": {},
   "source": [
    "Checking the missing values"
   ]
  },
  {
   "cell_type": "code",
   "execution_count": 78,
   "metadata": {},
   "outputs": [
    {
     "data": {
      "text/plain": [
       "longitude               0\n",
       "latitude                0\n",
       "housing_median_age      0\n",
       "total_rooms             0\n",
       "total_bedrooms        207\n",
       "population              0\n",
       "households              0\n",
       "median_income           0\n",
       "median_house_value      0\n",
       "ocean_proximity         0\n",
       "dtype: int64"
      ]
     },
     "execution_count": 78,
     "metadata": {},
     "output_type": "execute_result"
    }
   ],
   "source": [
    "df_data.isnull().sum()"
   ]
  },
  {
   "cell_type": "markdown",
   "metadata": {},
   "source": [
    "Plotting histogram of the column of interest"
   ]
  },
  {
   "cell_type": "code",
   "execution_count": 79,
   "metadata": {},
   "outputs": [
    {
     "data": {
      "text/plain": [
       "<AxesSubplot:xlabel='median_house_value', ylabel='Count'>"
      ]
     },
     "execution_count": 79,
     "metadata": {},
     "output_type": "execute_result"
    },
    {
     "data": {
      "image/png": "[encoded data removed]",
      "text/plain": [
       "<Figure size 640x480 with 1 Axes>"
      ]
     },
     "metadata": {},
     "output_type": "display_data"
    }
   ],
   "source": [
    "sns.histplot(df_data['median_house_value'])"
   ]
  },
  {
   "cell_type": "markdown",
   "metadata": {},
   "source": [
    "Choosing the columns we need for the training"
   ]
  },
  {
   "cell_type": "code",
   "execution_count": 80,
   "metadata": {},
   "outputs": [],
   "source": [
    "\n",
    "df_data = df_data[['longitude', \n",
    "'latitude',\n",
    " 'housing_median_age',\n",
    " 'total_rooms',\n",
    " 'total_bedrooms',\n",
    " 'population',\n",
    " 'households',\n",
    " 'median_income',\n",
    " 'median_house_value']]"
   ]
  },
  {
   "cell_type": "markdown",
   "metadata": {},
   "source": [
    "Printing median of the population"
   ]
  },
  {
   "cell_type": "code",
   "execution_count": 102,
   "metadata": {},
   "outputs": [
    {
     "name": "stdout",
     "output_type": "stream",
     "text": [
      "Median of the population is: 1166.0\n"
     ]
    }
   ],
   "source": [
    "print(f\"Median of the population is: {df_data['population'].median()}\")"
   ]
  },
  {
   "cell_type": "code",
   "execution_count": 82,
   "metadata": {},
   "outputs": [
    {
     "data": {
      "text/plain": [
       "longitude               0\n",
       "latitude                0\n",
       "housing_median_age      0\n",
       "total_rooms             0\n",
       "total_bedrooms        207\n",
       "population              0\n",
       "households              0\n",
       "median_income           0\n",
       "median_house_value      0\n",
       "dtype: int64"
      ]
     },
     "execution_count": 82,
     "metadata": {},
     "output_type": "execute_result"
    }
   ],
   "source": [
    "df_data.isnull().sum()"
   ]
  },
  {
   "cell_type": "markdown",
   "metadata": {},
   "source": [
    "Now we have to spliit original data in to the following tables: \\\\\n",
    "\n",
    "val <- these values are compared values generated by the model after \"consuming\" test data, so difference shows how well model performs! \\\\\n",
    "\n",
    "test <- these are data, which model hasn't seen, we will apply and generate values. \\\\\n",
    "\n",
    "train <- this is used for training for our model \\\\\n",
    "\n",
    "\n",
    "we also need to shuffle the data, in the order to more even distribution and random statistics..."
   ]
  },
  {
   "cell_type": "code",
   "execution_count": 103,
   "metadata": {},
   "outputs": [
    {
     "name": "stdout",
     "output_type": "stream",
     "text": [
      "20640 4128 4128 12384\n"
     ]
    }
   ],
   "source": [
    "n = df_data.shape[0]\n",
    "\n",
    "n_val = int(0.2 * n)\n",
    "n_test =  int(0.2 * n)\n",
    "n_train = n - (n_val + n_test)\n",
    "\n",
    "print(n, n_val, n_test, n_train)\n",
    "\n",
    "idx = np.arange(n)\n",
    "np.random.seed(42)\n",
    "np.random.shuffle(idx)"
   ]
  },
  {
   "cell_type": "markdown",
   "metadata": {},
   "source": [
    "Here happens the data split\n",
    "\n",
    "we also reset index, not to have random indexes"
   ]
  },
  {
   "cell_type": "code",
   "execution_count": 104,
   "metadata": {},
   "outputs": [
    {
     "name": "stdout",
     "output_type": "stream",
     "text": [
      "   longitude  latitude  housing_median_age  total_rooms  total_bedrooms  \\\n",
      "0    -120.26     37.13                33.0       1239.0           250.0   \n",
      "1    -117.91     33.86                26.0       2296.0           570.0   \n",
      "2    -118.36     34.04                48.0       1769.0           429.0   \n",
      "3    -118.15     34.69                32.0       1300.0           234.0   \n",
      "4    -119.97     38.93                24.0        856.0           185.0   \n",
      "\n",
      "   population  households  median_income  median_house_value  \n",
      "0       648.0       227.0         2.0278             58800.0  \n",
      "1      1415.0       527.0         2.4732            165800.0  \n",
      "2       993.0       405.0         2.3214            139400.0  \n",
      "3       712.0       249.0         3.2500            107500.0  \n",
      "4       388.0       108.0         3.1806            107200.0  \n"
     ]
    }
   ],
   "source": [
    "df_train = df_data.iloc[idx[:n_train]].copy()\n",
    "df_val = df_data.iloc[idx[n_train:n_train + n_val]].copy()\n",
    "df_test = df_data.iloc[idx[n_train + n_val:]].copy()\n",
    "\n",
    "df_train.reset_index(drop=True, inplace=True)\n",
    "df_test.reset_index(drop=True, inplace=True)\n",
    "df_val.reset_index(drop=True, inplace=True)\n",
    "print(df_test.head())"
   ]
  },
  {
   "cell_type": "markdown",
   "metadata": {},
   "source": [
    "Applying log1p transformation for target values, no idea yet why"
   ]
  },
  {
   "cell_type": "code",
   "execution_count": 105,
   "metadata": {},
   "outputs": [],
   "source": [
    "y_train = np.log1p(df_train.median_house_value.values)\n",
    "y_val = np.log1p(df_val.median_house_value.values)\n",
    "y_test = np.log1p(df_test.median_house_value.values)"
   ]
  },
  {
   "cell_type": "markdown",
   "metadata": {},
   "source": [
    "https://stackoverflow.com/questions/13411544/delete-a-column-from-a-pandas-dataframe\n",
    "\n",
    "deleting column from dataframe, in place, so it is not neccesary to reassign"
   ]
  },
  {
   "cell_type": "code",
   "execution_count": 106,
   "metadata": {},
   "outputs": [],
   "source": [
    "df_train.drop('median_house_value', axis=1, inplace=True)\n",
    "df_test.drop('median_house_value', axis=1, inplace=True)\n",
    "df_val.drop('median_house_value', axis=1, inplace=True)"
   ]
  },
  {
   "cell_type": "code",
   "execution_count": 88,
   "metadata": {},
   "outputs": [
    {
     "data": {
      "text/html": [
       "<div>\n",
       "<style scoped>\n",
       "    .dataframe tbody tr th:only-of-type {\n",
       "        vertical-align: middle;\n",
       "    }\n",
       "\n",
       "    .dataframe tbody tr th {\n",
       "        vertical-align: top;\n",
       "    }\n",
       "\n",
       "    .dataframe thead th {\n",
       "        text-align: right;\n",
       "    }\n",
       "</style>\n",
       "<table border=\"1\" class=\"dataframe\">\n",
       "  <thead>\n",
       "    <tr style=\"text-align: right;\">\n",
       "      <th></th>\n",
       "      <th>longitude</th>\n",
       "      <th>latitude</th>\n",
       "      <th>housing_median_age</th>\n",
       "      <th>total_rooms</th>\n",
       "      <th>total_bedrooms</th>\n",
       "      <th>population</th>\n",
       "      <th>households</th>\n",
       "      <th>median_income</th>\n",
       "    </tr>\n",
       "  </thead>\n",
       "  <tbody>\n",
       "    <tr>\n",
       "      <th>0</th>\n",
       "      <td>-119.01</td>\n",
       "      <td>36.06</td>\n",
       "      <td>25.0</td>\n",
       "      <td>1505.0</td>\n",
       "      <td>NaN</td>\n",
       "      <td>1392.0</td>\n",
       "      <td>359.0</td>\n",
       "      <td>1.6812</td>\n",
       "    </tr>\n",
       "    <tr>\n",
       "      <th>1</th>\n",
       "      <td>-119.46</td>\n",
       "      <td>35.14</td>\n",
       "      <td>30.0</td>\n",
       "      <td>2943.0</td>\n",
       "      <td>NaN</td>\n",
       "      <td>1565.0</td>\n",
       "      <td>584.0</td>\n",
       "      <td>2.5313</td>\n",
       "    </tr>\n",
       "    <tr>\n",
       "      <th>2</th>\n",
       "      <td>-122.44</td>\n",
       "      <td>37.80</td>\n",
       "      <td>52.0</td>\n",
       "      <td>3830.0</td>\n",
       "      <td>NaN</td>\n",
       "      <td>1310.0</td>\n",
       "      <td>963.0</td>\n",
       "      <td>3.4801</td>\n",
       "    </tr>\n",
       "    <tr>\n",
       "      <th>3</th>\n",
       "      <td>-118.72</td>\n",
       "      <td>34.28</td>\n",
       "      <td>17.0</td>\n",
       "      <td>3051.0</td>\n",
       "      <td>NaN</td>\n",
       "      <td>1705.0</td>\n",
       "      <td>495.0</td>\n",
       "      <td>5.7376</td>\n",
       "    </tr>\n",
       "    <tr>\n",
       "      <th>4</th>\n",
       "      <td>-121.93</td>\n",
       "      <td>36.62</td>\n",
       "      <td>34.0</td>\n",
       "      <td>2351.0</td>\n",
       "      <td>NaN</td>\n",
       "      <td>1063.0</td>\n",
       "      <td>428.0</td>\n",
       "      <td>3.7250</td>\n",
       "    </tr>\n",
       "  </tbody>\n",
       "</table>\n",
       "</div>"
      ],
      "text/plain": [
       "   longitude  latitude  housing_median_age  total_rooms  total_bedrooms  \\\n",
       "0    -119.01     36.06                25.0       1505.0             NaN   \n",
       "1    -119.46     35.14                30.0       2943.0             NaN   \n",
       "2    -122.44     37.80                52.0       3830.0             NaN   \n",
       "3    -118.72     34.28                17.0       3051.0             NaN   \n",
       "4    -121.93     36.62                34.0       2351.0             NaN   \n",
       "\n",
       "   population  households  median_income  \n",
       "0      1392.0       359.0         1.6812  \n",
       "1      1565.0       584.0         2.5313  \n",
       "2      1310.0       963.0         3.4801  \n",
       "3      1705.0       495.0         5.7376  \n",
       "4      1063.0       428.0         3.7250  "
      ]
     },
     "execution_count": 88,
     "metadata": {},
     "output_type": "execute_result"
    }
   ],
   "source": [
    "df_train.head()"
   ]
  },
  {
   "cell_type": "code",
   "execution_count": 109,
   "metadata": {},
   "outputs": [],
   "source": [
    "#df_train.isnull().sum()"
   ]
  },
  {
   "cell_type": "code",
   "execution_count": 108,
   "metadata": {},
   "outputs": [],
   "source": [
    "#df_test.isnull().sum()"
   ]
  },
  {
   "cell_type": "code",
   "execution_count": 107,
   "metadata": {},
   "outputs": [],
   "source": [
    "#df_val.isnull().sum()"
   ]
  },
  {
   "cell_type": "code",
   "execution_count": 110,
   "metadata": {},
   "outputs": [],
   "source": [
    "#df_val.head()"
   ]
  },
  {
   "cell_type": "code",
   "execution_count": 116,
   "metadata": {},
   "outputs": [],
   "source": [
    "def train_linear_regression(X, y):\n",
    "    ones = np.ones(X.shape[0])\n",
    "    X = np.column_stack([ones, X])\n",
    "\n",
    "    XTX = X.T.dot(X)\n",
    "    XTX_inv = np.linalg.inv(XTX)\n",
    "    w_full = XTX_inv.dot(X.T).dot(y)\n",
    "    \n",
    "    return w_full[0], w_full[1:]\n",
    "\n",
    "def rmse(y, y_pred):\n",
    "    se = (y - y_pred) ** 2\n",
    "    mse = se.mean()\n",
    "    return np.sqrt(mse)"
   ]
  },
  {
   "cell_type": "code",
   "execution_count": 130,
   "metadata": {},
   "outputs": [
    {
     "name": "stdout",
     "output_type": "stream",
     "text": [
      "longitude             -119.555670\n",
      "latitude                35.610346\n",
      "housing_median_age      28.699855\n",
      "total_rooms           2619.001453\n",
      "total_bedrooms         533.480332\n",
      "population            1413.292151\n",
      "households             495.653666\n",
      "median_income            3.871533\n",
      "dtype: float64\n"
     ]
    }
   ],
   "source": [
    "#Filling the missing data with 0\n",
    "def filler_X_0(data):\n",
    "    data = data.fillna(0)\n",
    "    X = data.values\n",
    "    return X\n",
    "\n",
    "mean_for_filling = df_train.mean()\n",
    "print(mean_for_filling)\n",
    "\n",
    "def filler_X_mean(data):\n",
    "    data = data.fillna(mean_for_filling)\n",
    "    X = data.values\n",
    "    return X"
   ]
  },
  {
   "cell_type": "code",
   "execution_count": 128,
   "metadata": {},
   "outputs": [
    {
     "name": "stdout",
     "output_type": "stream",
     "text": [
      "RMSE score when filling missing values with 0 is: 0.34\n"
     ]
    }
   ],
   "source": [
    "X_train = filler_X_0(df_train)\n",
    "w0, w = train_linear_regression(X_train, y_train)\n",
    "y_pred = w0 + X_train.dot(w)\n",
    "print(f\"RMSE score when filling missing values with 0 is: {round(rmse(y_train, y_pred), 2)}\")"
   ]
  },
  {
   "cell_type": "code",
   "execution_count": 131,
   "metadata": {},
   "outputs": [
    {
     "name": "stdout",
     "output_type": "stream",
     "text": [
      "RMSE score with mean is: 0.34\n"
     ]
    }
   ],
   "source": [
    "X_train = filler_X_mean(df_train)\n",
    "w0, w = train_linear_regression(X_train, y_train)\n",
    "y_pred = w0 + X_train.dot(w)\n",
    "print(f\"RMSE score with mean is: {round(rmse(y_train, y_pred), 2)}\")"
   ]
  },
  {
   "cell_type": "markdown",
   "metadata": {},
   "source": [
    "in the case of 0 - RMSE score: 0.34\n",
    "in the case of mean - RMSE score: 0.34"
   ]
  },
  {
   "cell_type": "code",
   "execution_count": 132,
   "metadata": {},
   "outputs": [],
   "source": [
    "def train_linear_regression_reg(X, y, r=0.0):\n",
    "    ones = np.ones(X.shape[0])\n",
    "    X = np.column_stack([ones, X])\n",
    "\n",
    "    XTX = X.T.dot(X)\n",
    "    reg = r * np.eye(XTX.shape[0])\n",
    "    XTX = XTX + reg\n",
    "\n",
    "    XTX_inv = np.linalg.inv(XTX)\n",
    "    w_full = XTX_inv.dot(X.T).dot(y)\n",
    "    \n",
    "    return w_full[0], w_full[1:]"
   ]
  },
  {
   "cell_type": "code",
   "execution_count": 133,
   "metadata": {},
   "outputs": [
    {
     "name": "stdout",
     "output_type": "stream",
     "text": [
      "r = 0, w_0 = -11.686975241951535, w[1:]= [-2.82087184e-01  2.91329621e-03 -8.64531514e-06  1.50811922e-04\n",
      " -2.08205659e-04  5.69546573e-04  1.71308139e-01]\n",
      "train RMSE = 0.34\n",
      "val RMSE = 0.33\n",
      "r = 1e-06, w_0 = -11.686959176015243, w[1:]= [-2.82087030e-01  2.91329904e-03 -8.64535103e-06  1.50811874e-04\n",
      " -2.08205662e-04  5.69546853e-04  1.71308163e-01]\n",
      "train RMSE = 0.34\n",
      "val RMSE = 0.33\n",
      "r = 0.0001, w_0 = -11.685368865560173, w[1:]= [-2.82071863e-01  2.91357892e-03 -8.64890458e-06  1.50807091e-04\n",
      " -2.08205964e-04  5.69574487e-04  1.71310631e-01]\n",
      "train RMSE = 0.34\n",
      "val RMSE = 0.33\n",
      "r = 0.001, w_0 = -11.670931318018726, w[1:]= [-2.81934164e-01  2.91611982e-03 -8.68116523e-06  1.50763669e-04\n",
      " -2.08208710e-04  5.69825364e-04  1.71333037e-01]\n",
      "train RMSE = 0.34\n",
      "val RMSE = 0.33\n",
      "r = 0.01, w_0 = -11.52849358574261, w[1:]= [-2.80575653e-01  2.94118780e-03 -8.99944134e-06  1.50335271e-04\n",
      " -2.08235797e-04  5.72300466e-04  1.71554081e-01]\n",
      "train RMSE = 0.34\n",
      "val RMSE = 0.33\n",
      "r = 0.1, w_0 = -10.274500282274886, w[1:]= [-2.68615534e-01  3.16188191e-03 -1.18014337e-05  1.46563566e-04\n",
      " -2.08474264e-04  5.94090735e-04  1.73500060e-01]\n",
      "train RMSE = 0.34\n",
      "val RMSE = 0.33\n",
      "r = 1, w_0 = -4.920480897828485, w[1:]= [-2.17547809e-01  4.10418096e-03 -2.37625053e-05  1.30451605e-04\n",
      " -2.09492203e-04  6.87124351e-04  1.81806293e-01]\n",
      "train RMSE = 0.35\n",
      "val RMSE = 0.33\n",
      "r = 5, w_0 = -1.4820957456416166, w[1:]= [-1.84731285e-01  4.70952286e-03 -3.14290750e-05  1.20048781e-04\n",
      " -2.10144516e-04  7.46860607e-04  1.87125535e-01]\n",
      "train RMSE = 0.35\n",
      "val RMSE = 0.34\n",
      "r = 10, w_0 = -0.7899311831833699, w[1:]= [-1.78100022e-01  4.83161595e-03 -3.29541256e-05  1.17886470e-04\n",
      " -2.10274098e-04  7.58872926e-04  1.88177852e-01]\n",
      "train RMSE = 0.35\n",
      "val RMSE = 0.34\n"
     ]
    }
   ],
   "source": [
    "# question 4,. which r gives the best RMSE?\n",
    "# fill missing values with 0\n",
    "X_train = filler_X_0(df_train)\n",
    "X_val = filler_X_0(df_val)\n",
    "\n",
    "r_values = [0, 0.000001, 0.0001, 0.001, 0.01, 0.1, 1, 5, 10]\n",
    "train_rmses = []\n",
    "val_rmses = []\n",
    "\n",
    "for r in r_values:\n",
    "    w_0, w = train_linear_regression_reg(X_train, y_train, r=r)\n",
    "    y_pred_train = w_0 + X_train.dot(w)\n",
    "    y_pred_val = w_0 + X_val.dot(w)\n",
    "    print('r = {0}, w_0 = {1}, w[1:]= {2}'.format(r, w_0, w[1:]))\n",
    "    train_rmses.append(round(rmse(y_train, y_pred_train),2))\n",
    "    print('train RMSE = {0}'.format(round(rmse(y_train, y_pred_train),2)))\n",
    "    val_rmses.append(round(rmse(y_val, y_pred_val),2))\n",
    "    print('val RMSE = {0}'.format(round(rmse(y_val, y_pred_val),2)))"
   ]
  },
  {
   "cell_type": "code",
   "execution_count": 144,
   "metadata": {},
   "outputs": [
    {
     "name": "stdout",
     "output_type": "stream",
     "text": [
      "Using seed = 0, Train RMSE = 0.343, Validation RMSE = 0.339\n",
      "Using seed = 1, Train RMSE = 0.343, Validation RMSE = 0.336\n",
      "Using seed = 2, Train RMSE = 0.341, Validation RMSE = 0.332\n",
      "Using seed = 3, Train RMSE = 0.342, Validation RMSE = 0.341\n",
      "Using seed = 4, Train RMSE = 0.343, Validation RMSE = 0.339\n",
      "Using seed = 5, Train RMSE = 0.342, Validation RMSE = 0.343\n",
      "Using seed = 6, Train RMSE = 0.339, Validation RMSE = 0.345\n",
      "Using seed = 7, Train RMSE = 0.34, Validation RMSE = 0.34\n",
      "Using seed = 8, Train RMSE = 0.337, Validation RMSE = 0.347\n",
      "Using seed = 9, Train RMSE = 0.341, Validation RMSE = 0.337\n"
     ]
    }
   ],
   "source": [
    "seed_lst = [0, 1, 2, 3, 4, 5, 6, 7, 8, 9]\n",
    "train_rmses = []\n",
    "val_rmses = []\n",
    "\n",
    "n = df_data.shape[0]\n",
    "\n",
    "for i in seed_lst:\n",
    "    n_val = int(0.2 * n)\n",
    "    n_test =  int(0.2 * n)\n",
    "    n_train = n - (n_val + n_test)\n",
    "    \n",
    "    idx = np.arange(n)\n",
    "    np.random.seed(i)\n",
    "    np.random.shuffle(idx)\n",
    "\n",
    "    df_train = df_data.iloc[idx[:n_train]].copy()\n",
    "    df_val = df_data.iloc[idx[n_train:n_train + n_val]].copy()\n",
    "    df_test = df_data.iloc[idx[n_train + n_val:]].copy()\n",
    "\n",
    "    df_train.reset_index(drop=True, inplace=True)\n",
    "    df_test.reset_index(drop=True, inplace=True)\n",
    "    df_val.reset_index(drop=True, inplace=True)\n",
    "\n",
    "    y_train = np.log1p(df_train.median_house_value.values)\n",
    "    y_val = np.log1p(df_val.median_house_value.values)\n",
    "    y_test = np.log1p(df_test.median_house_value.values)\n",
    "\n",
    "    df_train.drop('median_house_value', axis=1, inplace=True)\n",
    "    df_test.drop('median_house_value', axis=1, inplace=True)\n",
    "    df_val.drop('median_house_value', axis=1, inplace=True)\n",
    "\n",
    "    X_train = filler_X_0(df_train)\n",
    "    w_0, w = train_linear_regression(X_train, y_train)\n",
    "    y_pred_train = w_0 + X_train.dot(w)\n",
    "\n",
    "    train_rmses.append(rmse(y_train, y_pred_train))\n",
    "    \n",
    "    X_val = filler_X_0(df_val)\n",
    "    y_pred_val = w_0 + X_val.dot(w)\n",
    "    \n",
    "    val_rmses.append(rmse(y_val, y_pred_val))\n",
    "    \n",
    "    print('Using seed = {0}, Train RMSE = {1}, Validation RMSE = {2}'.format(i, round(rmse(y_train, y_pred_train), 3), round(rmse(y_val, y_pred_val), 3)))"
   ]
  },
  {
   "cell_type": "code",
   "execution_count": 146,
   "metadata": {},
   "outputs": [
    {
     "name": "stdout",
     "output_type": "stream",
     "text": [
      "The standard deviation of the Validation RMSEs is 0.004\n"
     ]
    }
   ],
   "source": [
    "print('The standard deviation of the Validation RMSEs is {0}'.format(round(np.std(val_rmses),3)))"
   ]
  },
  {
   "cell_type": "code",
   "execution_count": 179,
   "metadata": {},
   "outputs": [
    {
     "name": "stdout",
     "output_type": "stream",
     "text": [
      "(12384, 9)\n",
      "(4128, 9)\n",
      "(12384,)\n",
      "(4128,)\n",
      "(16512, 8)\n",
      "(16512,)\n",
      "RMSE on the combined training/validation set is 0.34\n",
      "RMSE on the test set is 0.345\n"
     ]
    }
   ],
   "source": [
    "np.random.seed(9)\n",
    "\n",
    "# split the data 60/20/20 \n",
    "\n",
    "n = df_data.shape[0]\n",
    "\n",
    "n_val = int(0.2 * n)\n",
    "n_test = int(0.2 * n)\n",
    "n_train = n - (n_val + n_test)\n",
    "\n",
    "idx = np.arange(n)\n",
    "np.random.shuffle(idx)\n",
    "\n",
    "df_shuffled = df_data.iloc[idx]\n",
    "\n",
    "df_train = df_shuffled.iloc[:n_train].copy()\n",
    "df_val = df_shuffled.iloc[n_train:n_train+n_val].copy()\n",
    "df_test = df_shuffled.iloc[n_train+n_val:].copy()\n",
    "print(df_train.shape)\n",
    "print(df_val.shape)\n",
    "\n",
    "# separate price from the original dataframe\n",
    "y_train_orig = df_train['median_house_value'].values\n",
    "y_val_orig = df_val['median_house_value'].values\n",
    "y_test_orig = df_test['median_house_value'].values\n",
    "print(y_train_orig.shape)\n",
    "print(y_val_orig.shape)\n",
    "\n",
    "y_train = np.log1p(df_train['median_house_value'].values)\n",
    "y_val = np.log1p(df_val['median_house_value'].values)\n",
    "y_test = np.log1p(df_test['median_house_value'].values)\n",
    "\n",
    "df_train.drop('median_house_value', axis=1, inplace=True)\n",
    "df_test.drop('median_house_value', axis=1, inplace=True)\n",
    "df_val.drop('median_house_value', axis=1, inplace=True)\n",
    "\n",
    "# combine training and validation datasets\n",
    "df_train_val = pd.concat([df_train, df_val])\n",
    "y_train_val = np.concatenate((y_train, y_val), axis=None)\n",
    "\n",
    "print(df_train_val.shape)\n",
    "print(y_train_val.shape)\n",
    "\n",
    "X_train_val = filler_X_0(df_train_val)\n",
    "w_0, w = train_linear_regression_reg(X_train_val, y_train_val, r=0.001)\n",
    "y_train_val_pred = w_0 + X_train_val.dot(w)\n",
    "\n",
    "print('RMSE on the combined training/validation set is {0}'.format(round(rmse(y_train_val, y_train_val_pred),3)))\n",
    "\n",
    "X_test = filler_X_0(df_test)\n",
    "y_test_pred = w_0 + X_test.dot(w)\n",
    "\n",
    "print('RMSE on the test set is {0}'.format(round(rmse(y_test, y_test_pred),3)))"
   ]
  }
 ],
 "metadata": {
  "kernelspec": {
   "display_name": "Python 3.9.12 ('base')",
   "language": "python",
   "name": "python3"
  },
  "language_info": {
   "codemirror_mode": {
    "name": "ipython",
    "version": 3
   },
   "file_extension": ".py",
   "mimetype": "text/x-python",
   "name": "python",
   "nbconvert_exporter": "python",
   "pygments_lexer": "ipython3",
   "version": "3.9.13"
  },
  "orig_nbformat": 4,
  "vscode": {
   "interpreter": {
    "hash": "ad2bdc8ecc057115af97d19610ffacc2b4e99fae6737bb82f5d7fb13d2f2c186"
   }
  }
 },
 "nbformat": 4,
 "nbformat_minor": 2
}
