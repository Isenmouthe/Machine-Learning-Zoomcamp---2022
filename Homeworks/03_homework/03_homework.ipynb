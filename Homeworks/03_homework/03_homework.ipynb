{
 "cells": [
  {
   "cell_type": "code",
   "execution_count": 183,
   "metadata": {},
   "outputs": [],
   "source": [
    "import pandas as pd\n",
    "import numpy as np\n",
    "\n",
    "import matplotlib.pyplot as plt\n",
    "import seaborn as sns\n",
    "\n",
    "from sklearn.model_selection import train_test_split\n",
    "from sklearn.metrics import mutual_info_score, accuracy_score, mean_squared_error\n",
    "from sklearn.feature_extraction import DictVectorizer\n",
    "from sklearn.preprocessing import OneHotEncoder\n",
    "from sklearn.linear_model import LogisticRegression, Ridge"
   ]
  },
  {
   "cell_type": "code",
   "execution_count": 184,
   "metadata": {},
   "outputs": [],
   "source": [
    "# !wget https://raw.githubusercontent.com/alexeygrigorev/datasets/master/housing.csv"
   ]
  },
  {
   "cell_type": "code",
   "execution_count": 185,
   "metadata": {},
   "outputs": [],
   "source": [
    "df_data = pd.read_csv('housing.csv')"
   ]
  },
  {
   "cell_type": "code",
   "execution_count": 186,
   "metadata": {},
   "outputs": [
    {
     "data": {
      "text/html": [
       "<div>\n",
       "<style scoped>\n",
       "    .dataframe tbody tr th:only-of-type {\n",
       "        vertical-align: middle;\n",
       "    }\n",
       "\n",
       "    .dataframe tbody tr th {\n",
       "        vertical-align: top;\n",
       "    }\n",
       "\n",
       "    .dataframe thead th {\n",
       "        text-align: right;\n",
       "    }\n",
       "</style>\n",
       "<table border=\"1\" class=\"dataframe\">\n",
       "  <thead>\n",
       "    <tr style=\"text-align: right;\">\n",
       "      <th></th>\n",
       "      <th>longitude</th>\n",
       "      <th>latitude</th>\n",
       "      <th>housing_median_age</th>\n",
       "      <th>total_rooms</th>\n",
       "      <th>total_bedrooms</th>\n",
       "      <th>population</th>\n",
       "      <th>households</th>\n",
       "      <th>median_income</th>\n",
       "      <th>median_house_value</th>\n",
       "      <th>ocean_proximity</th>\n",
       "    </tr>\n",
       "  </thead>\n",
       "  <tbody>\n",
       "    <tr>\n",
       "      <th>0</th>\n",
       "      <td>-122.23</td>\n",
       "      <td>37.88</td>\n",
       "      <td>41.0</td>\n",
       "      <td>880.0</td>\n",
       "      <td>129.0</td>\n",
       "      <td>322.0</td>\n",
       "      <td>126.0</td>\n",
       "      <td>8.3252</td>\n",
       "      <td>452600.0</td>\n",
       "      <td>NEAR BAY</td>\n",
       "    </tr>\n",
       "    <tr>\n",
       "      <th>1</th>\n",
       "      <td>-122.22</td>\n",
       "      <td>37.86</td>\n",
       "      <td>21.0</td>\n",
       "      <td>7099.0</td>\n",
       "      <td>1106.0</td>\n",
       "      <td>2401.0</td>\n",
       "      <td>1138.0</td>\n",
       "      <td>8.3014</td>\n",
       "      <td>358500.0</td>\n",
       "      <td>NEAR BAY</td>\n",
       "    </tr>\n",
       "    <tr>\n",
       "      <th>2</th>\n",
       "      <td>-122.24</td>\n",
       "      <td>37.85</td>\n",
       "      <td>52.0</td>\n",
       "      <td>1467.0</td>\n",
       "      <td>190.0</td>\n",
       "      <td>496.0</td>\n",
       "      <td>177.0</td>\n",
       "      <td>7.2574</td>\n",
       "      <td>352100.0</td>\n",
       "      <td>NEAR BAY</td>\n",
       "    </tr>\n",
       "    <tr>\n",
       "      <th>3</th>\n",
       "      <td>-122.25</td>\n",
       "      <td>37.85</td>\n",
       "      <td>52.0</td>\n",
       "      <td>1274.0</td>\n",
       "      <td>235.0</td>\n",
       "      <td>558.0</td>\n",
       "      <td>219.0</td>\n",
       "      <td>5.6431</td>\n",
       "      <td>341300.0</td>\n",
       "      <td>NEAR BAY</td>\n",
       "    </tr>\n",
       "    <tr>\n",
       "      <th>4</th>\n",
       "      <td>-122.25</td>\n",
       "      <td>37.85</td>\n",
       "      <td>52.0</td>\n",
       "      <td>1627.0</td>\n",
       "      <td>280.0</td>\n",
       "      <td>565.0</td>\n",
       "      <td>259.0</td>\n",
       "      <td>3.8462</td>\n",
       "      <td>342200.0</td>\n",
       "      <td>NEAR BAY</td>\n",
       "    </tr>\n",
       "  </tbody>\n",
       "</table>\n",
       "</div>"
      ],
      "text/plain": [
       "   longitude  latitude  housing_median_age  total_rooms  total_bedrooms  \\\n",
       "0    -122.23     37.88                41.0        880.0           129.0   \n",
       "1    -122.22     37.86                21.0       7099.0          1106.0   \n",
       "2    -122.24     37.85                52.0       1467.0           190.0   \n",
       "3    -122.25     37.85                52.0       1274.0           235.0   \n",
       "4    -122.25     37.85                52.0       1627.0           280.0   \n",
       "\n",
       "   population  households  median_income  median_house_value ocean_proximity  \n",
       "0       322.0       126.0         8.3252            452600.0        NEAR BAY  \n",
       "1      2401.0      1138.0         8.3014            358500.0        NEAR BAY  \n",
       "2       496.0       177.0         7.2574            352100.0        NEAR BAY  \n",
       "3       558.0       219.0         5.6431            341300.0        NEAR BAY  \n",
       "4       565.0       259.0         3.8462            342200.0        NEAR BAY  "
      ]
     },
     "execution_count": 186,
     "metadata": {},
     "output_type": "execute_result"
    }
   ],
   "source": [
    "df_data.head()"
   ]
  },
  {
   "cell_type": "code",
   "execution_count": 187,
   "metadata": {},
   "outputs": [],
   "source": [
    "base = ['latitude',\n",
    "'longitude',\n",
    "'housing_median_age',\n",
    "'total_rooms',\n",
    "'total_bedrooms',\n",
    "'population',\n",
    "'households',\n",
    "'median_income',\n",
    "'median_house_value',\n",
    "'ocean_proximity']"
   ]
  },
  {
   "cell_type": "code",
   "execution_count": 188,
   "metadata": {},
   "outputs": [],
   "source": [
    "df_base = df_data[base]"
   ]
  },
  {
   "cell_type": "code",
   "execution_count": 189,
   "metadata": {},
   "outputs": [
    {
     "name": "stdout",
     "output_type": "stream",
     "text": [
      "['ocean_proximity']\n"
     ]
    },
    {
     "data": {
      "text/html": [
       "<div>\n",
       "<style scoped>\n",
       "    .dataframe tbody tr th:only-of-type {\n",
       "        vertical-align: middle;\n",
       "    }\n",
       "\n",
       "    .dataframe tbody tr th {\n",
       "        vertical-align: top;\n",
       "    }\n",
       "\n",
       "    .dataframe thead th {\n",
       "        text-align: right;\n",
       "    }\n",
       "</style>\n",
       "<table border=\"1\" class=\"dataframe\">\n",
       "  <thead>\n",
       "    <tr style=\"text-align: right;\">\n",
       "      <th></th>\n",
       "      <th>latitude</th>\n",
       "      <th>longitude</th>\n",
       "      <th>housing_median_age</th>\n",
       "      <th>total_rooms</th>\n",
       "      <th>total_bedrooms</th>\n",
       "      <th>population</th>\n",
       "      <th>households</th>\n",
       "      <th>median_income</th>\n",
       "      <th>median_house_value</th>\n",
       "      <th>ocean_proximity</th>\n",
       "    </tr>\n",
       "  </thead>\n",
       "  <tbody>\n",
       "    <tr>\n",
       "      <th>0</th>\n",
       "      <td>37.88</td>\n",
       "      <td>-122.23</td>\n",
       "      <td>41.0</td>\n",
       "      <td>880.0</td>\n",
       "      <td>129.0</td>\n",
       "      <td>322.0</td>\n",
       "      <td>126.0</td>\n",
       "      <td>8.3252</td>\n",
       "      <td>452600.0</td>\n",
       "      <td>NEAR BAY</td>\n",
       "    </tr>\n",
       "    <tr>\n",
       "      <th>1</th>\n",
       "      <td>37.86</td>\n",
       "      <td>-122.22</td>\n",
       "      <td>21.0</td>\n",
       "      <td>7099.0</td>\n",
       "      <td>1106.0</td>\n",
       "      <td>2401.0</td>\n",
       "      <td>1138.0</td>\n",
       "      <td>8.3014</td>\n",
       "      <td>358500.0</td>\n",
       "      <td>NEAR BAY</td>\n",
       "    </tr>\n",
       "    <tr>\n",
       "      <th>2</th>\n",
       "      <td>37.85</td>\n",
       "      <td>-122.24</td>\n",
       "      <td>52.0</td>\n",
       "      <td>1467.0</td>\n",
       "      <td>190.0</td>\n",
       "      <td>496.0</td>\n",
       "      <td>177.0</td>\n",
       "      <td>7.2574</td>\n",
       "      <td>352100.0</td>\n",
       "      <td>NEAR BAY</td>\n",
       "    </tr>\n",
       "    <tr>\n",
       "      <th>3</th>\n",
       "      <td>37.85</td>\n",
       "      <td>-122.25</td>\n",
       "      <td>52.0</td>\n",
       "      <td>1274.0</td>\n",
       "      <td>235.0</td>\n",
       "      <td>558.0</td>\n",
       "      <td>219.0</td>\n",
       "      <td>5.6431</td>\n",
       "      <td>341300.0</td>\n",
       "      <td>NEAR BAY</td>\n",
       "    </tr>\n",
       "    <tr>\n",
       "      <th>4</th>\n",
       "      <td>37.85</td>\n",
       "      <td>-122.25</td>\n",
       "      <td>52.0</td>\n",
       "      <td>1627.0</td>\n",
       "      <td>280.0</td>\n",
       "      <td>565.0</td>\n",
       "      <td>259.0</td>\n",
       "      <td>3.8462</td>\n",
       "      <td>342200.0</td>\n",
       "      <td>NEAR BAY</td>\n",
       "    </tr>\n",
       "  </tbody>\n",
       "</table>\n",
       "</div>"
      ],
      "text/plain": [
       "   latitude  longitude  housing_median_age  total_rooms  total_bedrooms  \\\n",
       "0     37.88    -122.23                41.0        880.0           129.0   \n",
       "1     37.86    -122.22                21.0       7099.0          1106.0   \n",
       "2     37.85    -122.24                52.0       1467.0           190.0   \n",
       "3     37.85    -122.25                52.0       1274.0           235.0   \n",
       "4     37.85    -122.25                52.0       1627.0           280.0   \n",
       "\n",
       "   population  households  median_income  median_house_value ocean_proximity  \n",
       "0       322.0       126.0         8.3252            452600.0        NEAR BAY  \n",
       "1      2401.0      1138.0         8.3014            358500.0        NEAR BAY  \n",
       "2       496.0       177.0         7.2574            352100.0        NEAR BAY  \n",
       "3       558.0       219.0         5.6431            341300.0        NEAR BAY  \n",
       "4       565.0       259.0         3.8462            342200.0        NEAR BAY  "
      ]
     },
     "execution_count": 189,
     "metadata": {},
     "output_type": "execute_result"
    }
   ],
   "source": [
    "df_base.columns = df_base.columns.str.lower().str.replace(' ', '_')\n",
    "categorical_columns = list(df_base.dtypes[df_base.dtypes == 'object'].index)\n",
    "print(categorical_columns)\n",
    "df_base.head()"
   ]
  },
  {
   "cell_type": "code",
   "execution_count": 190,
   "metadata": {},
   "outputs": [
    {
     "name": "stdout",
     "output_type": "stream",
     "text": [
      "['latitude', 'longitude', 'housing_median_age', 'total_rooms', 'total_bedrooms', 'population', 'households', 'median_income', 'median_house_value', 'ocean_proximity']\n",
      "latitude                0\n",
      "longitude               0\n",
      "housing_median_age      0\n",
      "total_rooms             0\n",
      "total_bedrooms        207\n",
      "population              0\n",
      "households              0\n",
      "median_income           0\n",
      "median_house_value      0\n",
      "ocean_proximity         0\n",
      "dtype: int64\n"
     ]
    },
    {
     "data": {
      "text/plain": [
       "latitude              0\n",
       "longitude             0\n",
       "housing_median_age    0\n",
       "total_rooms           0\n",
       "total_bedrooms        0\n",
       "population            0\n",
       "households            0\n",
       "median_income         0\n",
       "median_house_value    0\n",
       "ocean_proximity       0\n",
       "dtype: int64"
      ]
     },
     "execution_count": 190,
     "metadata": {},
     "output_type": "execute_result"
    }
   ],
   "source": [
    "col = list(df_base)\n",
    "print(col)\n",
    "\n",
    "print(df_base.isnull().sum())\n",
    "\n",
    "\n",
    "df_base_filled = df_base.fillna(0)\n",
    "\n",
    "#this works but is it neccesary though?\n",
    "# for i in col:\n",
    "#     if df_base[i].isnull().sum() > 0:\n",
    "#         df_base_filled = df_base.fillna(0)\n",
    "\n",
    "df_base_filled.isnull().sum()"
   ]
  },
  {
   "cell_type": "code",
   "execution_count": 191,
   "metadata": {},
   "outputs": [
    {
     "data": {
      "text/plain": [
       "<1H OCEAN     9136\n",
       "INLAND        6551\n",
       "NEAR OCEAN    2658\n",
       "NEAR BAY      2290\n",
       "ISLAND           5\n",
       "Name: ocean_proximity, dtype: int64"
      ]
     },
     "execution_count": 191,
     "metadata": {},
     "output_type": "execute_result"
    }
   ],
   "source": [
    "df_base_filled['ocean_proximity'].value_counts()"
   ]
  },
  {
   "cell_type": "code",
   "execution_count": 192,
   "metadata": {},
   "outputs": [
    {
     "name": "stdout",
     "output_type": "stream",
     "text": [
      "<1H OCEAN\n"
     ]
    }
   ],
   "source": [
    "print(f'<1H OCEAN')"
   ]
  },
  {
   "cell_type": "code",
   "execution_count": 193,
   "metadata": {},
   "outputs": [
    {
     "data": {
      "text/html": [
       "<div>\n",
       "<style scoped>\n",
       "    .dataframe tbody tr th:only-of-type {\n",
       "        vertical-align: middle;\n",
       "    }\n",
       "\n",
       "    .dataframe tbody tr th {\n",
       "        vertical-align: top;\n",
       "    }\n",
       "\n",
       "    .dataframe thead th {\n",
       "        text-align: right;\n",
       "    }\n",
       "</style>\n",
       "<table border=\"1\" class=\"dataframe\">\n",
       "  <thead>\n",
       "    <tr style=\"text-align: right;\">\n",
       "      <th></th>\n",
       "      <th>latitude</th>\n",
       "      <th>longitude</th>\n",
       "      <th>housing_median_age</th>\n",
       "      <th>total_rooms</th>\n",
       "      <th>total_bedrooms</th>\n",
       "      <th>population</th>\n",
       "      <th>households</th>\n",
       "      <th>median_income</th>\n",
       "      <th>median_house_value</th>\n",
       "      <th>ocean_proximity</th>\n",
       "      <th>rooms_per_household</th>\n",
       "      <th>bedrooms_per_room</th>\n",
       "      <th>population_per_household</th>\n",
       "    </tr>\n",
       "  </thead>\n",
       "  <tbody>\n",
       "    <tr>\n",
       "      <th>0</th>\n",
       "      <td>37.88</td>\n",
       "      <td>-122.23</td>\n",
       "      <td>41.0</td>\n",
       "      <td>880.0</td>\n",
       "      <td>129.0</td>\n",
       "      <td>322.0</td>\n",
       "      <td>126.0</td>\n",
       "      <td>8.3252</td>\n",
       "      <td>452600.0</td>\n",
       "      <td>NEAR BAY</td>\n",
       "      <td>6.984127</td>\n",
       "      <td>0.146591</td>\n",
       "      <td>2.555556</td>\n",
       "    </tr>\n",
       "    <tr>\n",
       "      <th>1</th>\n",
       "      <td>37.86</td>\n",
       "      <td>-122.22</td>\n",
       "      <td>21.0</td>\n",
       "      <td>7099.0</td>\n",
       "      <td>1106.0</td>\n",
       "      <td>2401.0</td>\n",
       "      <td>1138.0</td>\n",
       "      <td>8.3014</td>\n",
       "      <td>358500.0</td>\n",
       "      <td>NEAR BAY</td>\n",
       "      <td>6.238137</td>\n",
       "      <td>0.155797</td>\n",
       "      <td>2.109842</td>\n",
       "    </tr>\n",
       "    <tr>\n",
       "      <th>2</th>\n",
       "      <td>37.85</td>\n",
       "      <td>-122.24</td>\n",
       "      <td>52.0</td>\n",
       "      <td>1467.0</td>\n",
       "      <td>190.0</td>\n",
       "      <td>496.0</td>\n",
       "      <td>177.0</td>\n",
       "      <td>7.2574</td>\n",
       "      <td>352100.0</td>\n",
       "      <td>NEAR BAY</td>\n",
       "      <td>8.288136</td>\n",
       "      <td>0.129516</td>\n",
       "      <td>2.802260</td>\n",
       "    </tr>\n",
       "    <tr>\n",
       "      <th>3</th>\n",
       "      <td>37.85</td>\n",
       "      <td>-122.25</td>\n",
       "      <td>52.0</td>\n",
       "      <td>1274.0</td>\n",
       "      <td>235.0</td>\n",
       "      <td>558.0</td>\n",
       "      <td>219.0</td>\n",
       "      <td>5.6431</td>\n",
       "      <td>341300.0</td>\n",
       "      <td>NEAR BAY</td>\n",
       "      <td>5.817352</td>\n",
       "      <td>0.184458</td>\n",
       "      <td>2.547945</td>\n",
       "    </tr>\n",
       "    <tr>\n",
       "      <th>4</th>\n",
       "      <td>37.85</td>\n",
       "      <td>-122.25</td>\n",
       "      <td>52.0</td>\n",
       "      <td>1627.0</td>\n",
       "      <td>280.0</td>\n",
       "      <td>565.0</td>\n",
       "      <td>259.0</td>\n",
       "      <td>3.8462</td>\n",
       "      <td>342200.0</td>\n",
       "      <td>NEAR BAY</td>\n",
       "      <td>6.281853</td>\n",
       "      <td>0.172096</td>\n",
       "      <td>2.181467</td>\n",
       "    </tr>\n",
       "  </tbody>\n",
       "</table>\n",
       "</div>"
      ],
      "text/plain": [
       "   latitude  longitude  housing_median_age  total_rooms  total_bedrooms  \\\n",
       "0     37.88    -122.23                41.0        880.0           129.0   \n",
       "1     37.86    -122.22                21.0       7099.0          1106.0   \n",
       "2     37.85    -122.24                52.0       1467.0           190.0   \n",
       "3     37.85    -122.25                52.0       1274.0           235.0   \n",
       "4     37.85    -122.25                52.0       1627.0           280.0   \n",
       "\n",
       "   population  households  median_income  median_house_value ocean_proximity  \\\n",
       "0       322.0       126.0         8.3252            452600.0        NEAR BAY   \n",
       "1      2401.0      1138.0         8.3014            358500.0        NEAR BAY   \n",
       "2       496.0       177.0         7.2574            352100.0        NEAR BAY   \n",
       "3       558.0       219.0         5.6431            341300.0        NEAR BAY   \n",
       "4       565.0       259.0         3.8462            342200.0        NEAR BAY   \n",
       "\n",
       "   rooms_per_household  bedrooms_per_room  population_per_household  \n",
       "0             6.984127           0.146591                  2.555556  \n",
       "1             6.238137           0.155797                  2.109842  \n",
       "2             8.288136           0.129516                  2.802260  \n",
       "3             5.817352           0.184458                  2.547945  \n",
       "4             6.281853           0.172096                  2.181467  "
      ]
     },
     "execution_count": 193,
     "metadata": {},
     "output_type": "execute_result"
    }
   ],
   "source": [
    "df_base_filled['rooms_per_household'] = (df_base_filled['total_rooms'] / df_base_filled['households'])\n",
    "df_base_filled['bedrooms_per_room'] = (df_base_filled['total_bedrooms'] / df_base_filled['total_rooms'])\n",
    "df_base_filled['population_per_household'] = (df_base_filled['population'] / df_base_filled['households'])\n",
    "\n",
    "df_base_filled.head()"
   ]
  },
  {
   "cell_type": "code",
   "execution_count": 194,
   "metadata": {},
   "outputs": [
    {
     "name": "stdout",
     "output_type": "stream",
     "text": [
      "(12384, 13) (4128, 13) (4128, 13)\n"
     ]
    }
   ],
   "source": [
    "#X_train, X_test, y_train, y_test = train_test_split(df_base_filled, test_size=0.4, random_state=0)\n",
    "df_temp_train, df_test = train_test_split(df_base_filled, test_size=0.2, random_state=42)\n",
    "df_train, df_val = train_test_split(df_temp_train, test_size=0.25, random_state=42)\n",
    "\n",
    "print(df_train.shape, df_val.shape, df_test.shape)"
   ]
  },
  {
   "cell_type": "code",
   "execution_count": 195,
   "metadata": {},
   "outputs": [],
   "source": [
    "df_train = df_train.reset_index(drop=True)\n",
    "df_val = df_val.reset_index(drop=True)\n",
    "df_test = df_test.reset_index(drop=True)\n",
    "\n",
    "y_train = df_train['median_house_value'].values\n",
    "y_val = df_val['median_house_value'].values\n",
    "y_test = df_test['median_house_value'].values\n",
    "\n",
    "df_train.drop('median_house_value', axis=1, inplace=True)\n",
    "df_val.drop('median_house_value', axis=1, inplace=True)\n",
    "df_test.drop('median_house_value', axis=1, inplace=True)"
   ]
  },
  {
   "cell_type": "code",
   "execution_count": 196,
   "metadata": {},
   "outputs": [
    {
     "data": {
      "text/plain": [
       "<AxesSubplot:>"
      ]
     },
     "execution_count": 196,
     "metadata": {},
     "output_type": "execute_result"
    },
    {
     "data": {
      "image/png": "[encoded data removed]",
      "text/plain": [
       "<Figure size 1200x800 with 2 Axes>"
      ]
     },
     "metadata": {},
     "output_type": "display_data"
    }
   ],
   "source": [
    "plt.figure(figsize = (12,8))\n",
    "\n",
    "sns.heatmap(df_base_filled.corr(), annot=True)"
   ]
  },
  {
   "cell_type": "markdown",
   "metadata": {},
   "source": [
    "\n",
    "    total_bedrooms and households --- 0.97\n",
    "    total_bedrooms and total_rooms --- 0.92\n",
    "    population and households --- 0.91\n",
    "    population_per_household and total_rooms --- -0.025\n"
   ]
  },
  {
   "cell_type": "code",
   "execution_count": 197,
   "metadata": {},
   "outputs": [
    {
     "name": "stdout",
     "output_type": "stream",
     "text": [
      "206856.0\n"
     ]
    }
   ],
   "source": [
    "mean_val = df_base_filled['median_house_value'].mean()\n",
    "print(round(mean_val, 0))\n",
    "\n",
    "y_train_above_average = np.where(y_train >= mean_val, 1, 0)\n",
    "y_val_above_average = np.where(y_val >= mean_val, 1, 0)\n",
    "y_test_above_average = np.where(y_test >= mean_val, 1, 0)"
   ]
  },
  {
   "cell_type": "code",
   "execution_count": 198,
   "metadata": {},
   "outputs": [
    {
     "name": "stdout",
     "output_type": "stream",
     "text": [
      "Categorical column is: 'ocean_proximity' \n"
     ]
    }
   ],
   "source": [
    "#finding categorical labels... \n",
    "df_train.dtypes\n",
    "print(f\"Categorical column is: 'ocean_proximity' \")"
   ]
  },
  {
   "cell_type": "code",
   "execution_count": 199,
   "metadata": {},
   "outputs": [
    {
     "name": "stdout",
     "output_type": "stream",
     "text": [
      "Mutual information between categorical and binary data is: 0.1\n"
     ]
    }
   ],
   "source": [
    "print(f\"Mutual information between categorical and binary data is: {round(mutual_info_score(y_train_above_average, df_train['ocean_proximity']), 2)}\")"
   ]
  },
  {
   "cell_type": "code",
   "execution_count": 200,
   "metadata": {},
   "outputs": [
    {
     "data": {
      "text/html": [
       "<style>#sk-container-id-5 {color: black;background-color: white;}#sk-container-id-5 pre{padding: 0;}#sk-container-id-5 div.sk-toggleable {background-color: white;}#sk-container-id-5 label.sk-toggleable__label {cursor: pointer;display: block;width: 100%;margin-bottom: 0;padding: 0.3em;box-sizing: border-box;text-align: center;}#sk-container-id-5 label.sk-toggleable__label-arrow:before {content: \"▸\";float: left;margin-right: 0.25em;color: #696969;}#sk-container-id-5 label.sk-toggleable__label-arrow:hover:before {color: black;}#sk-container-id-5 div.sk-estimator:hover label.sk-toggleable__label-arrow:before {color: black;}#sk-container-id-5 div.sk-toggleable__content {max-height: 0;max-width: 0;overflow: hidden;text-align: left;background-color: #f0f8ff;}#sk-container-id-5 div.sk-toggleable__content pre {margin: 0.2em;color: black;border-radius: 0.25em;background-color: #f0f8ff;}#sk-container-id-5 input.sk-toggleable__control:checked~div.sk-toggleable__content {max-height: 200px;max-width: 100%;overflow: auto;}#sk-container-id-5 input.sk-toggleable__control:checked~label.sk-toggleable__label-arrow:before {content: \"▾\";}#sk-container-id-5 div.sk-estimator input.sk-toggleable__control:checked~label.sk-toggleable__label {background-color: #d4ebff;}#sk-container-id-5 div.sk-label input.sk-toggleable__control:checked~label.sk-toggleable__label {background-color: #d4ebff;}#sk-container-id-5 input.sk-hidden--visually {border: 0;clip: rect(1px 1px 1px 1px);clip: rect(1px, 1px, 1px, 1px);height: 1px;margin: -1px;overflow: hidden;padding: 0;position: absolute;width: 1px;}#sk-container-id-5 div.sk-estimator {font-family: monospace;background-color: #f0f8ff;border: 1px dotted black;border-radius: 0.25em;box-sizing: border-box;margin-bottom: 0.5em;}#sk-container-id-5 div.sk-estimator:hover {background-color: #d4ebff;}#sk-container-id-5 div.sk-parallel-item::after {content: \"\";width: 100%;border-bottom: 1px solid gray;flex-grow: 1;}#sk-container-id-5 div.sk-label:hover label.sk-toggleable__label {background-color: #d4ebff;}#sk-container-id-5 div.sk-serial::before {content: \"\";position: absolute;border-left: 1px solid gray;box-sizing: border-box;top: 0;bottom: 0;left: 50%;z-index: 0;}#sk-container-id-5 div.sk-serial {display: flex;flex-direction: column;align-items: center;background-color: white;padding-right: 0.2em;padding-left: 0.2em;position: relative;}#sk-container-id-5 div.sk-item {position: relative;z-index: 1;}#sk-container-id-5 div.sk-parallel {display: flex;align-items: stretch;justify-content: center;background-color: white;position: relative;}#sk-container-id-5 div.sk-item::before, #sk-container-id-5 div.sk-parallel-item::before {content: \"\";position: absolute;border-left: 1px solid gray;box-sizing: border-box;top: 0;bottom: 0;left: 50%;z-index: -1;}#sk-container-id-5 div.sk-parallel-item {display: flex;flex-direction: column;z-index: 1;position: relative;background-color: white;}#sk-container-id-5 div.sk-parallel-item:first-child::after {align-self: flex-end;width: 50%;}#sk-container-id-5 div.sk-parallel-item:last-child::after {align-self: flex-start;width: 50%;}#sk-container-id-5 div.sk-parallel-item:only-child::after {width: 0;}#sk-container-id-5 div.sk-dashed-wrapped {border: 1px dashed gray;margin: 0 0.4em 0.5em 0.4em;box-sizing: border-box;padding-bottom: 0.4em;background-color: white;}#sk-container-id-5 div.sk-label label {font-family: monospace;font-weight: bold;display: inline-block;line-height: 1.2em;}#sk-container-id-5 div.sk-label-container {text-align: center;}#sk-container-id-5 div.sk-container {/* jupyter's `normalize.less` sets `[hidden] { display: none; }` but bootstrap.min.css set `[hidden] { display: none !important; }` so we also need the `!important` here to be able to override the default hidden behavior on the sphinx rendered scikit-learn.org. See: https://github.com/scikit-learn/scikit-learn/issues/21755 */display: inline-block !important;position: relative;}#sk-container-id-5 div.sk-text-repr-fallback {display: none;}</style><div id=\"sk-container-id-5\" class=\"sk-top-container\"><div class=\"sk-text-repr-fallback\"><pre>LogisticRegression(max_iter=1000, random_state=42, solver=&#x27;liblinear&#x27;)</pre><b>In a Jupyter environment, please rerun this cell to show the HTML representation or trust the notebook. <br />On GitHub, the HTML representation is unable to render, please try loading this page with nbviewer.org.</b></div><div class=\"sk-container\" hidden><div class=\"sk-item\"><div class=\"sk-estimator sk-toggleable\"><input class=\"sk-toggleable__control sk-hidden--visually\" id=\"sk-estimator-id-5\" type=\"checkbox\" checked><label for=\"sk-estimator-id-5\" class=\"sk-toggleable__label sk-toggleable__label-arrow\">LogisticRegression</label><div class=\"sk-toggleable__content\"><pre>LogisticRegression(max_iter=1000, random_state=42, solver=&#x27;liblinear&#x27;)</pre></div></div></div></div></div>"
      ],
      "text/plain": [
       "LogisticRegression(max_iter=1000, random_state=42, solver='liblinear')"
      ]
     },
     "execution_count": 200,
     "metadata": {},
     "output_type": "execute_result"
    }
   ],
   "source": [
    "divec = DictVectorizer(sparse=False)\n",
    "\n",
    "train_dict = df_train.to_dict(orient='records')\n",
    "X_train = divec.fit_transform(train_dict)\n",
    "\n",
    "val_dict = df_val.to_dict(orient='records')\n",
    "X_val = divec.transform(val_dict)\n",
    "\n",
    "model = LogisticRegression(solver='liblinear', C=1.0, max_iter=1000, random_state=42)\n",
    "model.fit(X_train, y_train_above_average)"
   ]
  },
  {
   "cell_type": "code",
   "execution_count": 201,
   "metadata": {},
   "outputs": [
    {
     "data": {
      "text/plain": [
       "-0.06226206219069978"
      ]
     },
     "execution_count": 201,
     "metadata": {},
     "output_type": "execute_result"
    }
   ],
   "source": [
    "model.intercept_[0]"
   ]
  },
  {
   "cell_type": "code",
   "execution_count": 202,
   "metadata": {},
   "outputs": [
    {
     "data": {
      "text/plain": [
       "array([ 0.113,  0.004,  0.036,  0.103,  0.083,  1.196,  0.452, -1.599,\n",
       "        0.012,  0.309,  0.763, -0.002,  0.01 , -0.014,  0.002, -0.   ])"
      ]
     },
     "execution_count": 202,
     "metadata": {},
     "output_type": "execute_result"
    }
   ],
   "source": [
    "model.coef_[0].round(3)"
   ]
  },
  {
   "cell_type": "code",
   "execution_count": 203,
   "metadata": {},
   "outputs": [
    {
     "name": "stderr",
     "output_type": "stream",
     "text": [
      "c:\\ProgramData\\Anaconda3\\lib\\site-packages\\sklearn\\utils\\deprecation.py:87: FutureWarning: Function get_feature_names is deprecated; get_feature_names is deprecated in 1.0 and will be removed in 1.2. Please use get_feature_names_out instead.\n",
      "  warnings.warn(msg, category=FutureWarning)\n"
     ]
    },
    {
     "data": {
      "text/plain": [
       "{'bedrooms_per_room': 0.113,\n",
       " 'households': 0.004,\n",
       " 'housing_median_age': 0.036,\n",
       " 'latitude': 0.103,\n",
       " 'longitude': 0.083,\n",
       " 'median_income': 1.196,\n",
       " 'ocean_proximity=<1H OCEAN': 0.452,\n",
       " 'ocean_proximity=INLAND': -1.599,\n",
       " 'ocean_proximity=ISLAND': 0.012,\n",
       " 'ocean_proximity=NEAR BAY': 0.309,\n",
       " 'ocean_proximity=NEAR OCEAN': 0.763,\n",
       " 'population': -0.002,\n",
       " 'population_per_household': 0.01,\n",
       " 'rooms_per_household': -0.014,\n",
       " 'total_bedrooms': 0.002,\n",
       " 'total_rooms': -0.0}"
      ]
     },
     "execution_count": 203,
     "metadata": {},
     "output_type": "execute_result"
    }
   ],
   "source": [
    "dict(zip(dv.get_feature_names(), model.coef_[0].round(3)))"
   ]
  },
  {
   "cell_type": "code",
   "execution_count": 204,
   "metadata": {},
   "outputs": [
    {
     "data": {
      "text/plain": [
       "0.0"
      ]
     },
     "execution_count": 204,
     "metadata": {},
     "output_type": "execute_result"
    }
   ],
   "source": [
    "y_pred = model.predict_proba(X_val)[:, 1]\n",
    "above_avg_price_decision = (y_pred >= 0.5)\n",
    "(y_val == above_avg_price_decision).mean()"
   ]
  },
  {
   "cell_type": "code",
   "execution_count": 205,
   "metadata": {},
   "outputs": [
    {
     "data": {
      "text/plain": [
       "array([0, 0, 1, ..., 1, 1, 0])"
      ]
     },
     "execution_count": 205,
     "metadata": {},
     "output_type": "execute_result"
    }
   ],
   "source": [
    "above_avg_price_decision.astype(int)"
   ]
  },
  {
   "cell_type": "code",
   "execution_count": 206,
   "metadata": {},
   "outputs": [],
   "source": [
    "df_pred = pd.DataFrame()\n",
    "df_pred['probability'] = y_pred\n",
    "df_pred['prediction'] = above_avg_price_decision.astype(int)\n",
    "df_pred['actual'] = y_val_above_average\n",
    "df_pred['correct'] = df_pred.prediction == df_pred.actual"
   ]
  },
  {
   "cell_type": "code",
   "execution_count": 207,
   "metadata": {},
   "outputs": [
    {
     "data": {
      "text/html": [
       "<div>\n",
       "<style scoped>\n",
       "    .dataframe tbody tr th:only-of-type {\n",
       "        vertical-align: middle;\n",
       "    }\n",
       "\n",
       "    .dataframe tbody tr th {\n",
       "        vertical-align: top;\n",
       "    }\n",
       "\n",
       "    .dataframe thead th {\n",
       "        text-align: right;\n",
       "    }\n",
       "</style>\n",
       "<table border=\"1\" class=\"dataframe\">\n",
       "  <thead>\n",
       "    <tr style=\"text-align: right;\">\n",
       "      <th></th>\n",
       "      <th>probability</th>\n",
       "      <th>prediction</th>\n",
       "      <th>actual</th>\n",
       "      <th>correct</th>\n",
       "    </tr>\n",
       "  </thead>\n",
       "  <tbody>\n",
       "    <tr>\n",
       "      <th>0</th>\n",
       "      <td>0.087543</td>\n",
       "      <td>0</td>\n",
       "      <td>0</td>\n",
       "      <td>True</td>\n",
       "    </tr>\n",
       "    <tr>\n",
       "      <th>1</th>\n",
       "      <td>0.159936</td>\n",
       "      <td>0</td>\n",
       "      <td>0</td>\n",
       "      <td>True</td>\n",
       "    </tr>\n",
       "    <tr>\n",
       "      <th>2</th>\n",
       "      <td>0.952086</td>\n",
       "      <td>1</td>\n",
       "      <td>1</td>\n",
       "      <td>True</td>\n",
       "    </tr>\n",
       "    <tr>\n",
       "      <th>3</th>\n",
       "      <td>0.492404</td>\n",
       "      <td>0</td>\n",
       "      <td>1</td>\n",
       "      <td>False</td>\n",
       "    </tr>\n",
       "    <tr>\n",
       "      <th>4</th>\n",
       "      <td>0.979478</td>\n",
       "      <td>1</td>\n",
       "      <td>1</td>\n",
       "      <td>True</td>\n",
       "    </tr>\n",
       "  </tbody>\n",
       "</table>\n",
       "</div>"
      ],
      "text/plain": [
       "   probability  prediction  actual  correct\n",
       "0     0.087543           0       0     True\n",
       "1     0.159936           0       0     True\n",
       "2     0.952086           1       1     True\n",
       "3     0.492404           0       1    False\n",
       "4     0.979478           1       1     True"
      ]
     },
     "execution_count": 207,
     "metadata": {},
     "output_type": "execute_result"
    }
   ],
   "source": [
    "df_pred.head()"
   ]
  },
  {
   "cell_type": "code",
   "execution_count": 208,
   "metadata": {},
   "outputs": [
    {
     "data": {
      "text/plain": [
       "0.84"
      ]
     },
     "execution_count": 208,
     "metadata": {},
     "output_type": "execute_result"
    }
   ],
   "source": [
    "round(df_pred.correct.mean(),2)"
   ]
  },
  {
   "cell_type": "code",
   "execution_count": 209,
   "metadata": {},
   "outputs": [
    {
     "name": "stdout",
     "output_type": "stream",
     "text": [
      "Accuracy for the model with all features is 0.84.\n"
     ]
    }
   ],
   "source": [
    "model = LogisticRegression(solver='liblinear', C=1.0, random_state=42)\n",
    "model.fit(X_train, y_train_above_average)\n",
    "y_pred = model.predict_proba(X_val)[:, 1]\n",
    "above_avg_price_decision = (y_pred >= 0.5)\n",
    "df_pred_all = pd.DataFrame()\n",
    "df_pred_all['probability'] = y_pred\n",
    "df_pred_all['prediction'] = above_avg_price_decision.astype(int)\n",
    "df_pred_all['actual'] = y_val_above_average\n",
    "df_pred_all['correct'] = df_pred_all.prediction == df_pred_all.actual\n",
    "model_1_acc = round(df_pred_all.correct.mean(),2)\n",
    "print('Accuracy for the model with all features is {0}.'.format(model_1_acc))"
   ]
  },
  {
   "cell_type": "code",
   "execution_count": 213,
   "metadata": {},
   "outputs": [],
   "source": [
    "# removed 'latitude'\n",
    "model_2_features = ['longitude', 'housing_median_age', 'total_rooms', 'total_bedrooms', 'population', 'households', 'median_income', 'ocean_proximity']\n",
    "# removed 'longitude'\n",
    "model_3_features = ['latitude', 'housing_median_age', 'total_rooms', 'total_bedrooms', 'population', 'households', 'median_income', 'ocean_proximity']\n",
    "# removed 'housing_median_age'\n",
    "model_4_features = ['latitude', 'longitude', 'total_rooms', 'total_bedrooms', 'population', 'households', 'median_income', 'ocean_proximity']\n",
    "# removed 'total_rooms'\n",
    "model_5_features = ['latitude', 'longitude', 'housing_median_age', 'total_bedrooms', 'population', 'households', 'median_income', 'ocean_proximity']\n",
    "# removed 'total_bedrooms'\n",
    "model_6_features = ['latitude', 'longitude', 'housing_median_age', 'total_rooms', 'population', 'households', 'median_income', 'ocean_proximity']\n",
    "# removed 'population'\n",
    "model_7_features = ['latitude', 'longitude', 'housing_median_age', 'total_rooms', 'total_bedrooms', 'households', 'median_income', 'ocean_proximity']\n",
    "# removed 'households'\n",
    "model_8_features = ['latitude', 'longitude', 'housing_median_age', 'total_rooms', 'total_bedrooms', 'population', 'median_income', 'ocean_proximity']\n",
    "# removed 'median_income'\n",
    "model_9_features = ['latitude', 'longitude', 'housing_median_age', 'total_rooms', 'total_bedrooms', 'population', 'households', 'ocean_proximity']\n",
    "# removed 'ocean_proximity'\n",
    "model_10_features = ['latitude', 'longitude', 'housing_median_age', 'total_rooms', 'total_bedrooms', 'population', 'households', 'median_income']"
   ]
  },
  {
   "cell_type": "markdown",
   "metadata": {},
   "source": [
    "model_02"
   ]
  },
  {
   "cell_type": "code",
   "execution_count": 215,
   "metadata": {},
   "outputs": [
    {
     "name": "stdout",
     "output_type": "stream",
     "text": [
      "Model 2 accuracy is 0.83.\n"
     ]
    },
    {
     "name": "stderr",
     "output_type": "stream",
     "text": [
      "c:\\ProgramData\\Anaconda3\\lib\\site-packages\\sklearn\\utils\\deprecation.py:87: FutureWarning: Function get_feature_names is deprecated; get_feature_names is deprecated in 1.0 and will be removed in 1.2. Please use get_feature_names_out instead.\n",
      "  warnings.warn(msg, category=FutureWarning)\n"
     ]
    }
   ],
   "source": [
    "dicts_train_2 = df_train[model_2_features].to_dict(orient='records')\n",
    "dicts_val_2 = df_val[model_2_features].to_dict(orient='records')\n",
    "dv_2 = DictVectorizer(sparse=False)\n",
    "dv_2.fit(dicts_train_2)\n",
    "X_train_2 = dv_2.transform(dicts_train_2)\n",
    "X_val_2 = dv_2.transform(dicts_val_2)\n",
    "model_2 = LogisticRegression(solver='liblinear', C=1.0, random_state=42)\n",
    "model_2.fit(X_train_2, y_train_above_average)\n",
    "dict(zip(dv_2.get_feature_names(), model_2.coef_[0].round(3)))\n",
    "\n",
    "y_pred_2 = model_2.predict_proba(X_val_2)[:, 1]\n",
    "above_avg_price_decision_2 = (y_pred_2 >= 0.5)\n",
    "df_pred_2 = pd.DataFrame()\n",
    "df_pred_2['probability'] = y_pred_2\n",
    "df_pred_2['prediction'] = above_avg_price_decision_2.astype(int)\n",
    "df_pred_2['actual'] = y_val_above_average\n",
    "df_pred_2['correct'] = df_pred_2.prediction == df_pred_2.actual\n",
    "model_2_acc = round(df_pred_2.correct.mean(),2)\n",
    "print('Model 2 accuracy is {0}.'.format(model_2_acc))"
   ]
  },
  {
   "cell_type": "markdown",
   "metadata": {},
   "source": [
    "model 3"
   ]
  },
  {
   "cell_type": "code",
   "execution_count": 217,
   "metadata": {},
   "outputs": [
    {
     "name": "stdout",
     "output_type": "stream",
     "text": [
      "Model 3 accuracy is 0.83.\n"
     ]
    },
    {
     "name": "stderr",
     "output_type": "stream",
     "text": [
      "c:\\ProgramData\\Anaconda3\\lib\\site-packages\\sklearn\\utils\\deprecation.py:87: FutureWarning: Function get_feature_names is deprecated; get_feature_names is deprecated in 1.0 and will be removed in 1.2. Please use get_feature_names_out instead.\n",
      "  warnings.warn(msg, category=FutureWarning)\n"
     ]
    }
   ],
   "source": [
    "dicts_train_3 = df_train[model_3_features].to_dict(orient='records')\n",
    "dicts_val_3 = df_val[model_3_features].to_dict(orient='records')\n",
    "dv_3 = DictVectorizer(sparse=False)\n",
    "dv_3.fit(dicts_train_3)\n",
    "X_train_3 = dv_3.transform(dicts_train_3)\n",
    "X_val_3 = dv_3.transform(dicts_val_3)\n",
    "model_3 = LogisticRegression(solver='liblinear', C=1.0, random_state=42)\n",
    "model_3.fit(X_train_3, y_train_above_average)\n",
    "dict(zip(dv_3.get_feature_names(), model_3.coef_[0].round(3)))\n",
    "\n",
    "\n",
    "\n",
    "y_pred_3 = model_3.predict_proba(X_val_3)[:, 1]\n",
    "above_avg_price_decision_3 = (y_pred_3 >= 0.5)\n",
    "df_pred_3 = pd.DataFrame()\n",
    "df_pred_3['probability'] = y_pred_3\n",
    "df_pred_3['prediction'] = above_avg_price_decision_3.astype(int)\n",
    "df_pred_3['actual'] = y_val_above_average\n",
    "df_pred_3['correct'] = df_pred_3.prediction == df_pred_3.actual\n",
    "model_3_acc = round(df_pred_3.correct.mean(),2)\n",
    "print('Model 3 accuracy is {0}.'.format(model_3_acc))\n",
    "\n"
   ]
  },
  {
   "cell_type": "markdown",
   "metadata": {},
   "source": [
    "model 4"
   ]
  },
  {
   "cell_type": "code",
   "execution_count": 218,
   "metadata": {},
   "outputs": [
    {
     "name": "stdout",
     "output_type": "stream",
     "text": [
      "Model 4 accuracy is 0.83.\n"
     ]
    },
    {
     "name": "stderr",
     "output_type": "stream",
     "text": [
      "c:\\ProgramData\\Anaconda3\\lib\\site-packages\\sklearn\\utils\\deprecation.py:87: FutureWarning: Function get_feature_names is deprecated; get_feature_names is deprecated in 1.0 and will be removed in 1.2. Please use get_feature_names_out instead.\n",
      "  warnings.warn(msg, category=FutureWarning)\n"
     ]
    }
   ],
   "source": [
    "dicts_train_4 = df_train[model_4_features].to_dict(orient='records')\n",
    "dicts_val_4 = df_val[model_4_features].to_dict(orient='records')\n",
    "dv_4 = DictVectorizer(sparse=False)\n",
    "dv_4.fit(dicts_train_4)\n",
    "X_train_4 = dv_4.transform(dicts_train_4)\n",
    "X_val_4 = dv_4.transform(dicts_val_4)\n",
    "model_4 = LogisticRegression(solver='liblinear', C=1.0, random_state=42)\n",
    "model_4.fit(X_train_4, y_train_above_average)\n",
    "dict(zip(dv_4.get_feature_names(), model_4.coef_[0].round(3)))\n",
    "\n",
    "y_pred_4 = model_4.predict_proba(X_val_4)[:, 1]\n",
    "above_avg_price_decision_4 = (y_pred_4 >= 0.5)\n",
    "df_pred_4 = pd.DataFrame()\n",
    "df_pred_4['probability'] = y_pred_4\n",
    "df_pred_4['prediction'] = above_avg_price_decision_4.astype(int)\n",
    "df_pred_4['actual'] = y_val_above_average\n",
    "df_pred_4['correct'] = df_pred_4.prediction == df_pred_4.actual\n",
    "model_4_acc = round(df_pred_4.correct.mean(),2)\n",
    "print('Model 4 accuracy is {0}.'.format(model_4_acc))"
   ]
  },
  {
   "cell_type": "code",
   "execution_count": 219,
   "metadata": {},
   "outputs": [
    {
     "name": "stdout",
     "output_type": "stream",
     "text": [
      "Model 5 accuracy is 0.84.\n"
     ]
    },
    {
     "name": "stderr",
     "output_type": "stream",
     "text": [
      "c:\\ProgramData\\Anaconda3\\lib\\site-packages\\sklearn\\utils\\deprecation.py:87: FutureWarning: Function get_feature_names is deprecated; get_feature_names is deprecated in 1.0 and will be removed in 1.2. Please use get_feature_names_out instead.\n",
      "  warnings.warn(msg, category=FutureWarning)\n"
     ]
    }
   ],
   "source": [
    "dicts_train_5 = df_train[model_5_features].to_dict(orient='records')\n",
    "dicts_val_5 = df_val[model_5_features].to_dict(orient='records')\n",
    "dv_5 = DictVectorizer(sparse=False)\n",
    "dv_5.fit(dicts_train_5)\n",
    "X_train_5 = dv_5.transform(dicts_train_5)\n",
    "X_val_5 = dv_5.transform(dicts_val_5)\n",
    "model_5 = LogisticRegression(solver='liblinear', C=1.0, random_state=42)\n",
    "model_5.fit(X_train_5, y_train_above_average)\n",
    "dict(zip(dv_5.get_feature_names(), model_5.coef_[0].round(3)))\n",
    "\n",
    "\n",
    "\n",
    "y_pred_5 = model_5.predict_proba(X_val_5)[:, 1]\n",
    "above_avg_price_decision_5 = (y_pred_5 >= 0.5)\n",
    "df_pred_5 = pd.DataFrame()\n",
    "df_pred_5['probability'] = y_pred_5\n",
    "df_pred_5['prediction'] = above_avg_price_decision_5.astype(int)\n",
    "df_pred_5['actual'] = y_val_above_average\n",
    "df_pred_5['correct'] = df_pred_5.prediction == df_pred_5.actual\n",
    "model_5_acc = round(df_pred_5.correct.mean(),2)\n",
    "print('Model 5 accuracy is {0}.'.format(model_5_acc))"
   ]
  },
  {
   "cell_type": "code",
   "execution_count": 220,
   "metadata": {},
   "outputs": [
    {
     "name": "stdout",
     "output_type": "stream",
     "text": [
      "Model 6 accuracy is 0.84.\n"
     ]
    },
    {
     "name": "stderr",
     "output_type": "stream",
     "text": [
      "c:\\ProgramData\\Anaconda3\\lib\\site-packages\\sklearn\\utils\\deprecation.py:87: FutureWarning: Function get_feature_names is deprecated; get_feature_names is deprecated in 1.0 and will be removed in 1.2. Please use get_feature_names_out instead.\n",
      "  warnings.warn(msg, category=FutureWarning)\n"
     ]
    }
   ],
   "source": [
    "dicts_train_6 = df_train[model_6_features].to_dict(orient='records')\n",
    "dicts_val_6 = df_val[model_6_features].to_dict(orient='records')\n",
    "dv_6 = DictVectorizer(sparse=False)\n",
    "dv_6.fit(dicts_train_6)\n",
    "X_train_6 = dv_6.transform(dicts_train_6)\n",
    "X_val_6 = dv_6.transform(dicts_val_6)\n",
    "model_6 = LogisticRegression(solver='liblinear', C=1.0, random_state=42)\n",
    "model_6.fit(X_train_6, y_train_above_average)\n",
    "dict(zip(dv_6.get_feature_names(), model_6.coef_[0].round(3)))\n",
    "\n",
    "y_pred_6 = model_6.predict_proba(X_val_6)[:, 1]\n",
    "above_avg_price_decision_6 = (y_pred_6 >= 0.5)\n",
    "df_pred_6 = pd.DataFrame()\n",
    "df_pred_6['probability'] = y_pred_6\n",
    "df_pred_6['prediction'] = above_avg_price_decision_6.astype(int)\n",
    "df_pred_6['actual'] = y_val_above_average\n",
    "df_pred_6['correct'] = df_pred_6.prediction == df_pred_6.actual\n",
    "model_6_acc = round(df_pred_6.correct.mean(),2)\n",
    "print('Model 6 accuracy is {0}.'.format(model_6_acc))"
   ]
  },
  {
   "cell_type": "code",
   "execution_count": 221,
   "metadata": {},
   "outputs": [
    {
     "name": "stdout",
     "output_type": "stream",
     "text": [
      "Model 7 accuracy is 0.82.\n"
     ]
    },
    {
     "name": "stderr",
     "output_type": "stream",
     "text": [
      "c:\\ProgramData\\Anaconda3\\lib\\site-packages\\sklearn\\utils\\deprecation.py:87: FutureWarning: Function get_feature_names is deprecated; get_feature_names is deprecated in 1.0 and will be removed in 1.2. Please use get_feature_names_out instead.\n",
      "  warnings.warn(msg, category=FutureWarning)\n"
     ]
    }
   ],
   "source": [
    "dicts_train_7 = df_train[model_7_features].to_dict(orient='records')\n",
    "dicts_val_7 = df_val[model_7_features].to_dict(orient='records')\n",
    "dv_7 = DictVectorizer(sparse=False)\n",
    "dv_7.fit(dicts_train_7)\n",
    "X_train_7 = dv_7.transform(dicts_train_7)\n",
    "X_val_7 = dv_7.transform(dicts_val_7)\n",
    "model_7 = LogisticRegression(solver='liblinear', C=1.0, random_state=42)\n",
    "model_7.fit(X_train_7, y_train_above_average)\n",
    "dict(zip(dv_7.get_feature_names(), model_7.coef_[0].round(3)))\n",
    "\n",
    "y_pred_7 = model_7.predict_proba(X_val_7)[:, 1]\n",
    "above_avg_price_decision_7 = (y_pred_7 >= 0.5)\n",
    "df_pred_7 = pd.DataFrame()\n",
    "df_pred_7['probability'] = y_pred_7\n",
    "df_pred_7['prediction'] = above_avg_price_decision_7.astype(int)\n",
    "df_pred_7['actual'] = y_val_above_average\n",
    "df_pred_7['correct'] = df_pred_7.prediction == df_pred_7.actual\n",
    "model_7_acc = round(df_pred_7.correct.mean(),2)\n",
    "print('Model 7 accuracy is {0}.'.format(model_7_acc))"
   ]
  },
  {
   "cell_type": "code",
   "execution_count": 222,
   "metadata": {},
   "outputs": [
    {
     "name": "stdout",
     "output_type": "stream",
     "text": [
      "Model 8 accuracy is 0.83.\n"
     ]
    },
    {
     "name": "stderr",
     "output_type": "stream",
     "text": [
      "c:\\ProgramData\\Anaconda3\\lib\\site-packages\\sklearn\\utils\\deprecation.py:87: FutureWarning: Function get_feature_names is deprecated; get_feature_names is deprecated in 1.0 and will be removed in 1.2. Please use get_feature_names_out instead.\n",
      "  warnings.warn(msg, category=FutureWarning)\n"
     ]
    }
   ],
   "source": [
    "dicts_train_8 = df_train[model_8_features].to_dict(orient='records')\n",
    "dicts_val_8 = df_val[model_8_features].to_dict(orient='records')\n",
    "dv_8 = DictVectorizer(sparse=False)\n",
    "dv_8.fit(dicts_train_8)\n",
    "X_train_8 = dv_8.transform(dicts_train_8)\n",
    "X_val_8 = dv_8.transform(dicts_val_8)\n",
    "model_8 = LogisticRegression(solver='liblinear', C=1.0, random_state=42)\n",
    "model_8.fit(X_train_8, y_train_above_average)\n",
    "dict(zip(dv_8.get_feature_names(), model_8.coef_[0].round(3)))\n",
    "\n",
    "y_pred_8 = model_8.predict_proba(X_val_8)[:, 1]\n",
    "above_avg_price_decision_8 = (y_pred_8 >= 0.5)\n",
    "df_pred_8 = pd.DataFrame()\n",
    "df_pred_8['probability'] = y_pred_8\n",
    "df_pred_8['prediction'] = above_avg_price_decision_8.astype(int)\n",
    "df_pred_8['actual'] = y_val_above_average\n",
    "df_pred_8['correct'] = df_pred_8.prediction == df_pred_8.actual\n",
    "model_8_acc = round(df_pred_8.correct.mean(),2)\n",
    "print('Model 8 accuracy is {0}.'.format(model_8_acc))"
   ]
  },
  {
   "cell_type": "code",
   "execution_count": 223,
   "metadata": {},
   "outputs": [
    {
     "name": "stdout",
     "output_type": "stream",
     "text": [
      "Model 9 accuracy is 0.78.\n"
     ]
    },
    {
     "name": "stderr",
     "output_type": "stream",
     "text": [
      "c:\\ProgramData\\Anaconda3\\lib\\site-packages\\sklearn\\utils\\deprecation.py:87: FutureWarning: Function get_feature_names is deprecated; get_feature_names is deprecated in 1.0 and will be removed in 1.2. Please use get_feature_names_out instead.\n",
      "  warnings.warn(msg, category=FutureWarning)\n"
     ]
    }
   ],
   "source": [
    "dicts_train_9 = df_train[model_9_features].to_dict(orient='records')\n",
    "dicts_val_9 = df_val[model_9_features].to_dict(orient='records')\n",
    "dv_9 = DictVectorizer(sparse=False)\n",
    "dv_9.fit(dicts_train_9)\n",
    "X_train_9 = dv_9.transform(dicts_train_9)\n",
    "X_val_9 = dv_9.transform(dicts_val_9)\n",
    "model_9 = LogisticRegression(solver='liblinear', C=1.0, random_state=42)\n",
    "model_9.fit(X_train_9, y_train_above_average)\n",
    "dict(zip(dv_9.get_feature_names(), model_9.coef_[0].round(3)))\n",
    "\n",
    "y_pred_9 = model_9.predict_proba(X_val_9)[:, 1]\n",
    "above_avg_price_decision_9 = (y_pred_9 >= 0.5)\n",
    "df_pred_9 = pd.DataFrame()\n",
    "df_pred_9['probability'] = y_pred_9\n",
    "df_pred_9['prediction'] = above_avg_price_decision_9.astype(int)\n",
    "df_pred_9['actual'] = y_val_above_average\n",
    "df_pred_9['correct'] = df_pred_9.prediction == df_pred_9.actual\n",
    "model_9_acc = round(df_pred_9.correct.mean(),2)\n",
    "print('Model 9 accuracy is {0}.'.format(model_9_acc))"
   ]
  },
  {
   "cell_type": "code",
   "execution_count": 224,
   "metadata": {},
   "outputs": [
    {
     "name": "stdout",
     "output_type": "stream",
     "text": [
      "Model 10 accuracy is 0.82.\n"
     ]
    },
    {
     "name": "stderr",
     "output_type": "stream",
     "text": [
      "c:\\ProgramData\\Anaconda3\\lib\\site-packages\\sklearn\\utils\\deprecation.py:87: FutureWarning: Function get_feature_names is deprecated; get_feature_names is deprecated in 1.0 and will be removed in 1.2. Please use get_feature_names_out instead.\n",
      "  warnings.warn(msg, category=FutureWarning)\n"
     ]
    }
   ],
   "source": [
    "dicts_train_10 = df_train[model_10_features].to_dict(orient='records')\n",
    "dicts_val_10 = df_val[model_10_features].to_dict(orient='records')\n",
    "dv_10 = DictVectorizer(sparse=False)\n",
    "dv_10.fit(dicts_train_10)\n",
    "X_train_10 = dv_10.transform(dicts_train_10)\n",
    "X_val_10 = dv_10.transform(dicts_val_10)\n",
    "model_10 = LogisticRegression(solver='liblinear', C=1.0, random_state=42)\n",
    "model_10.fit(X_train_10, y_train_above_average)\n",
    "dict(zip(dv_10.get_feature_names(), model_10.coef_[0].round(3)))\n",
    "\n",
    "y_pred_10 = model_10.predict_proba(X_val_10)[:, 1]\n",
    "above_avg_price_decision_10 = (y_pred_10 >= 0.5)\n",
    "df_pred_10 = pd.DataFrame()\n",
    "df_pred_10['probability'] = y_pred_10\n",
    "df_pred_10['prediction'] = above_avg_price_decision_10.astype(int)\n",
    "df_pred_10['actual'] = y_val_above_average\n",
    "df_pred_10['correct'] = df_pred_10.prediction == df_pred_10.actual\n",
    "model_10_acc = round(df_pred_10.correct.mean(),2)\n",
    "print('Model 10 accuracy is {0}.'.format(model_10_acc))"
   ]
  },
  {
   "cell_type": "code",
   "execution_count": 233,
   "metadata": {},
   "outputs": [
    {
     "data": {
      "text/html": [
       "<div>\n",
       "<style scoped>\n",
       "    .dataframe tbody tr th:only-of-type {\n",
       "        vertical-align: middle;\n",
       "    }\n",
       "\n",
       "    .dataframe tbody tr th {\n",
       "        vertical-align: top;\n",
       "    }\n",
       "\n",
       "    .dataframe thead th {\n",
       "        text-align: right;\n",
       "    }\n",
       "</style>\n",
       "<table border=\"1\" class=\"dataframe\">\n",
       "  <thead>\n",
       "    <tr style=\"text-align: right;\">\n",
       "      <th></th>\n",
       "      <th>model</th>\n",
       "      <th>desc</th>\n",
       "      <th>accuracy</th>\n",
       "      <th>diff_model_1_acc</th>\n",
       "    </tr>\n",
       "  </thead>\n",
       "  <tbody>\n",
       "    <tr>\n",
       "      <th>0</th>\n",
       "      <td>Model 1</td>\n",
       "      <td>All</td>\n",
       "      <td>0.84</td>\n",
       "      <td>0.00</td>\n",
       "    </tr>\n",
       "    <tr>\n",
       "      <th>1</th>\n",
       "      <td>Model 2</td>\n",
       "      <td>No latitude</td>\n",
       "      <td>0.83</td>\n",
       "      <td>-0.01</td>\n",
       "    </tr>\n",
       "    <tr>\n",
       "      <th>2</th>\n",
       "      <td>Model 3</td>\n",
       "      <td>No longitude</td>\n",
       "      <td>0.83</td>\n",
       "      <td>-0.01</td>\n",
       "    </tr>\n",
       "    <tr>\n",
       "      <th>3</th>\n",
       "      <td>Model 4</td>\n",
       "      <td>No housing_median_age</td>\n",
       "      <td>0.83</td>\n",
       "      <td>-0.01</td>\n",
       "    </tr>\n",
       "    <tr>\n",
       "      <th>4</th>\n",
       "      <td>Model 5</td>\n",
       "      <td>No total_rooms</td>\n",
       "      <td>0.84</td>\n",
       "      <td>0.00</td>\n",
       "    </tr>\n",
       "    <tr>\n",
       "      <th>5</th>\n",
       "      <td>Model 6</td>\n",
       "      <td>No total_bedrooms</td>\n",
       "      <td>0.84</td>\n",
       "      <td>0.00</td>\n",
       "    </tr>\n",
       "    <tr>\n",
       "      <th>6</th>\n",
       "      <td>Model 7</td>\n",
       "      <td>No population</td>\n",
       "      <td>0.82</td>\n",
       "      <td>-0.02</td>\n",
       "    </tr>\n",
       "    <tr>\n",
       "      <th>7</th>\n",
       "      <td>Model 8</td>\n",
       "      <td>No households</td>\n",
       "      <td>0.83</td>\n",
       "      <td>-0.01</td>\n",
       "    </tr>\n",
       "    <tr>\n",
       "      <th>8</th>\n",
       "      <td>Model 9</td>\n",
       "      <td>No median_income</td>\n",
       "      <td>0.78</td>\n",
       "      <td>-0.06</td>\n",
       "    </tr>\n",
       "    <tr>\n",
       "      <th>9</th>\n",
       "      <td>Model 10</td>\n",
       "      <td>No ocean_proximity</td>\n",
       "      <td>0.82</td>\n",
       "      <td>-0.02</td>\n",
       "    </tr>\n",
       "  </tbody>\n",
       "</table>\n",
       "</div>"
      ],
      "text/plain": [
       "      model                   desc  accuracy  diff_model_1_acc\n",
       "0   Model 1                    All      0.84              0.00\n",
       "1   Model 2            No latitude      0.83             -0.01\n",
       "2   Model 3           No longitude      0.83             -0.01\n",
       "3   Model 4  No housing_median_age      0.83             -0.01\n",
       "4   Model 5         No total_rooms      0.84              0.00\n",
       "5   Model 6      No total_bedrooms      0.84              0.00\n",
       "6   Model 7          No population      0.82             -0.02\n",
       "7   Model 8          No households      0.83             -0.01\n",
       "8   Model 9       No median_income      0.78             -0.06\n",
       "9  Model 10     No ocean_proximity      0.82             -0.02"
      ]
     },
     "execution_count": 233,
     "metadata": {},
     "output_type": "execute_result"
    }
   ],
   "source": [
    "data = {'model': ['Model 1','Model 2','Model 3','Model 4','Model 5','Model 6','Model 7','Model 8','Model 9','Model 10'],\n",
    "        'desc': ['All','No latitude','No longitude','No housing_median_age','No total_rooms','No total_bedrooms','No population','No households','No median_income','No ocean_proximity'],\n",
    "        'accuracy': [model_1_acc, model_2_acc, model_3_acc, model_4_acc, model_5_acc, model_6_acc, model_7_acc, model_8_acc, model_9_acc, model_10_acc],\n",
    "        'diff_model_1_acc': [model_1_acc - model_1_acc, model_2_acc - model_1_acc, model_3_acc - model_1_acc, model_4_acc - model_1_acc, model_5_acc - model_1_acc,\n",
    "                             model_6_acc - model_1_acc, model_7_acc - model_1_acc, model_8_acc - model_1_acc, model_9_acc - model_1_acc, model_10_acc - model_1_acc]\n",
    "       }\n",
    "summary = pd.DataFrame(data)\n",
    "summary"
   ]
  },
  {
   "cell_type": "code",
   "execution_count": 227,
   "metadata": {},
   "outputs": [],
   "source": [
    "y_train = np.log1p(y_train)\n",
    "y_val = np.log1p(y_val)\n",
    "y_test = np.log1p(y_test)"
   ]
  },
  {
   "cell_type": "code",
   "execution_count": 232,
   "metadata": {},
   "outputs": [
    {
     "name": "stdout",
     "output_type": "stream",
     "text": [
      "Ridge Regression with alpha = 0, RMSE on validation set is 0.324\n",
      "Ridge Regression with alpha = 0.01, RMSE on validation set is 0.324\n",
      "Ridge Regression with alpha = 0.1, RMSE on validation set is 0.324\n",
      "Ridge Regression with alpha = 1, RMSE on validation set is 0.324\n",
      "Ridge Regression with alpha = 10, RMSE on validation set is 0.324\n"
     ]
    },
    {
     "name": "stderr",
     "output_type": "stream",
     "text": [
      "c:\\ProgramData\\Anaconda3\\lib\\site-packages\\sklearn\\linear_model\\_ridge.py:212: LinAlgWarning: Ill-conditioned matrix (rcond=1.96568e-23): result may not be accurate.\n",
      "  return linalg.solve(A, Xy, sym_pos=True, overwrite_a=True).T\n"
     ]
    }
   ],
   "source": [
    "alpha_values = [0, 0.01, 0.1, 1, 10]\n",
    "rmses = []\n",
    "\n",
    "for alpha in alpha_values:\n",
    "    model = Ridge(alpha)\n",
    "    model.fit(X_train, y_train)\n",
    "    pred = model.predict(X_val)\n",
    "    rmse = np.sqrt(mean_squared_error(y_val, pred))\n",
    "    rmses.append(rmse)\n",
    "    print('Ridge Regression with alpha = {0}, RMSE on validation set is {1}'.format(alpha, round(rmse,3)))"
   ]
  }
 ],
 "metadata": {
  "kernelspec": {
   "display_name": "Python 3.9.13 ('base')",
   "language": "python",
   "name": "python3"
  },
  "language_info": {
   "codemirror_mode": {
    "name": "ipython",
    "version": 3
   },
   "file_extension": ".py",
   "mimetype": "text/x-python",
   "name": "python",
   "nbconvert_exporter": "python",
   "pygments_lexer": "ipython3",
   "version": "3.9.13"
  },
  "orig_nbformat": 4,
  "vscode": {
   "interpreter": {
    "hash": "ad2bdc8ecc057115af97d19610ffacc2b4e99fae6737bb82f5d7fb13d2f2c186"
   }
  }
 },
 "nbformat": 4,
 "nbformat_minor": 2
}
