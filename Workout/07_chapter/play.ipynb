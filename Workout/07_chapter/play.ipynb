{
 "cells": [
  {
   "cell_type": "code",
   "execution_count": 14,
   "metadata": {},
   "outputs": [
    {
     "name": "stdout",
     "output_type": "stream",
     "text": [
      "[08:58:36] WARNING: C:\\Windows\\Temp\\abs_557yfx631l\\croots\\recipe\\xgboost-split_1659548953302\\work\\src\\learner.cc:1115: Starting in XGBoost 1.3.0, the default evaluation metric used with the objective 'multi:softprob' was changed from 'merror' to 'mlogloss'. Explicitly set eval_metric if you'd like to restore the old behavior.\n"
     ]
    }
   ],
   "source": [
    "import xgboost as xgb\n",
    "from sklearn.datasets import load_breast_cancer\n",
    "\n",
    "cancer = load_breast_cancer()\n",
    "\n",
    "X = cancer.data\n",
    "y = cancer.target\n",
    "\n",
    "dt = xgb.DMatrix(X, label=y)\n",
    "\n",
    "param = {\"max_depth\": 3, \"eta\": 0.3, \"objective\": \"multi:softprob\", \"num_class\": 2}\n",
    "bst = xgb.train(param, dt)"
   ]
  },
  {
   "cell_type": "code",
   "execution_count": 15,
   "metadata": {},
   "outputs": [
    {
     "data": {
      "text/plain": [
       "'1.5.0'"
      ]
     },
     "execution_count": 15,
     "metadata": {},
     "output_type": "execute_result"
    }
   ],
   "source": [
    "xgb.__version__"
   ]
  },
  {
   "cell_type": "code",
   "execution_count": 16,
   "metadata": {},
   "outputs": [
    {
     "ename": "PackageNotFoundError",
     "evalue": "xgboost",
     "output_type": "error",
     "traceback": [
      "\u001b[1;31m---------------------------------------------------------------------------\u001b[0m",
      "\u001b[1;31mPackageNotFoundError\u001b[0m                      Traceback (most recent call last)",
      "\u001b[1;32mc:\\Users\\levan\\Desktop\\Machine Learning Zoomcamp - 2022\\Homeworks\\07_chapter\\play.ipynb Cell 3\u001b[0m in \u001b[0;36m<cell line: 2>\u001b[1;34m()\u001b[0m\n\u001b[0;32m      <a href='vscode-notebook-cell:/c%3A/Users/levan/Desktop/Machine%20Learning%20Zoomcamp%20-%202022/Homeworks/07_chapter/play.ipynb#W1sZmlsZQ%3D%3D?line=0'>1</a>\u001b[0m \u001b[39mimport\u001b[39;00m \u001b[39mbentoml\u001b[39;00m\n\u001b[1;32m----> <a href='vscode-notebook-cell:/c%3A/Users/levan/Desktop/Machine%20Learning%20Zoomcamp%20-%202022/Homeworks/07_chapter/play.ipynb#W1sZmlsZQ%3D%3D?line=1'>2</a>\u001b[0m bento_model \u001b[39m=\u001b[39m bentoml\u001b[39m.\u001b[39;49mxgboost\u001b[39m.\u001b[39;49msave_model(\u001b[39m\"\u001b[39;49m\u001b[39mbooster_tree\u001b[39;49m\u001b[39m\"\u001b[39;49m, bst)\n",
      "File \u001b[1;32mc:\\ProgramData\\Anaconda3\\lib\\site-packages\\bentoml\\_internal\\frameworks\\xgboost.py:216\u001b[0m, in \u001b[0;36msave_model\u001b[1;34m(name, model, signatures, labels, custom_objects, external_modules, metadata)\u001b[0m\n\u001b[0;32m    211\u001b[0m \u001b[39melse\u001b[39;00m:\n\u001b[0;32m    212\u001b[0m     \u001b[39mraise\u001b[39;00m \u001b[39mTypeError\u001b[39;00m(\u001b[39mf\u001b[39m\u001b[39m\"\u001b[39m\u001b[39mGiven model (\u001b[39m\u001b[39m{\u001b[39;00mmodel\u001b[39m}\u001b[39;00m\u001b[39m) is not a xgboost.Booster.\u001b[39m\u001b[39m\"\u001b[39m)\n\u001b[0;32m    214\u001b[0m context: ModelContext \u001b[39m=\u001b[39m ModelContext(\n\u001b[0;32m    215\u001b[0m     framework_name\u001b[39m=\u001b[39m\u001b[39m\"\u001b[39m\u001b[39mxgboost\u001b[39m\u001b[39m\"\u001b[39m,\n\u001b[1;32m--> 216\u001b[0m     framework_versions\u001b[39m=\u001b[39m{\u001b[39m\"\u001b[39m\u001b[39mxgboost\u001b[39m\u001b[39m\"\u001b[39m: get_pkg_version(\u001b[39m\"\u001b[39;49m\u001b[39mxgboost\u001b[39;49m\u001b[39m\"\u001b[39;49m)},\n\u001b[0;32m    217\u001b[0m )\n\u001b[0;32m    219\u001b[0m \u001b[39mif\u001b[39;00m signatures \u001b[39mis\u001b[39;00m \u001b[39mNone\u001b[39;00m:\n\u001b[0;32m    220\u001b[0m     logger\u001b[39m.\u001b[39minfo(\n\u001b[0;32m    221\u001b[0m         \u001b[39m'\u001b[39m\u001b[39mUsing default model signature `\u001b[39m\u001b[39m{\u001b[39m\u001b[39m\"\u001b[39m\u001b[39mpredict\u001b[39m\u001b[39m\"\u001b[39m\u001b[39m: \u001b[39m\u001b[39m{\u001b[39m\u001b[39m\"\u001b[39m\u001b[39mbatchable\u001b[39m\u001b[39m\"\u001b[39m\u001b[39m: False}}` for XGBoost model\u001b[39m\u001b[39m'\u001b[39m\n\u001b[0;32m    222\u001b[0m     )\n",
      "File \u001b[1;32mc:\\ProgramData\\Anaconda3\\lib\\importlib\\metadata.py:569\u001b[0m, in \u001b[0;36mversion\u001b[1;34m(distribution_name)\u001b[0m\n\u001b[0;32m    562\u001b[0m \u001b[39mdef\u001b[39;00m \u001b[39mversion\u001b[39m(distribution_name):\n\u001b[0;32m    563\u001b[0m     \u001b[39m\"\"\"Get the version string for the named package.\u001b[39;00m\n\u001b[0;32m    564\u001b[0m \n\u001b[0;32m    565\u001b[0m \u001b[39m    :param distribution_name: The name of the distribution package to query.\u001b[39;00m\n\u001b[0;32m    566\u001b[0m \u001b[39m    :return: The version string for the package as defined in the package's\u001b[39;00m\n\u001b[0;32m    567\u001b[0m \u001b[39m        \"Version\" metadata key.\u001b[39;00m\n\u001b[0;32m    568\u001b[0m \u001b[39m    \"\"\"\u001b[39;00m\n\u001b[1;32m--> 569\u001b[0m     \u001b[39mreturn\u001b[39;00m distribution(distribution_name)\u001b[39m.\u001b[39mversion\n",
      "File \u001b[1;32mc:\\ProgramData\\Anaconda3\\lib\\importlib\\metadata.py:542\u001b[0m, in \u001b[0;36mdistribution\u001b[1;34m(distribution_name)\u001b[0m\n\u001b[0;32m    536\u001b[0m \u001b[39mdef\u001b[39;00m \u001b[39mdistribution\u001b[39m(distribution_name):\n\u001b[0;32m    537\u001b[0m     \u001b[39m\"\"\"Get the ``Distribution`` instance for the named package.\u001b[39;00m\n\u001b[0;32m    538\u001b[0m \n\u001b[0;32m    539\u001b[0m \u001b[39m    :param distribution_name: The name of the distribution package as a string.\u001b[39;00m\n\u001b[0;32m    540\u001b[0m \u001b[39m    :return: A ``Distribution`` instance (or subclass thereof).\u001b[39;00m\n\u001b[0;32m    541\u001b[0m \u001b[39m    \"\"\"\u001b[39;00m\n\u001b[1;32m--> 542\u001b[0m     \u001b[39mreturn\u001b[39;00m Distribution\u001b[39m.\u001b[39;49mfrom_name(distribution_name)\n",
      "File \u001b[1;32mc:\\ProgramData\\Anaconda3\\lib\\importlib\\metadata.py:196\u001b[0m, in \u001b[0;36mDistribution.from_name\u001b[1;34m(cls, name)\u001b[0m\n\u001b[0;32m    194\u001b[0m         \u001b[39mreturn\u001b[39;00m dist\n\u001b[0;32m    195\u001b[0m \u001b[39melse\u001b[39;00m:\n\u001b[1;32m--> 196\u001b[0m     \u001b[39mraise\u001b[39;00m PackageNotFoundError(name)\n",
      "\u001b[1;31mPackageNotFoundError\u001b[0m: xgboost"
     ]
    }
   ],
   "source": [
    "import bentoml\n",
    "bento_model = bentoml.xgboost.save_model(\"booster_tree\", bst)"
   ]
  }
 ],
 "metadata": {
  "kernelspec": {
   "display_name": "base",
   "language": "python",
   "name": "python3"
  },
  "language_info": {
   "codemirror_mode": {
    "name": "ipython",
    "version": 3
   },
   "file_extension": ".py",
   "mimetype": "text/x-python",
   "name": "python",
   "nbconvert_exporter": "python",
   "pygments_lexer": "ipython3",
   "version": "3.9.13"
  },
  "orig_nbformat": 4,
  "vscode": {
   "interpreter": {
    "hash": "ad2bdc8ecc057115af97d19610ffacc2b4e99fae6737bb82f5d7fb13d2f2c186"
   }
  }
 },
 "nbformat": 4,
 "nbformat_minor": 2
}
