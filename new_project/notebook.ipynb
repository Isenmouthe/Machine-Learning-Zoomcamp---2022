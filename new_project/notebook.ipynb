{
 "cells": [
  {
   "cell_type": "markdown",
   "metadata": {},
   "source": [
    "...."
   ]
  },
  {
   "cell_type": "code",
   "execution_count": 2,
   "metadata": {},
   "outputs": [],
   "source": [
    "#basic libraries\n",
    "import pandas as pd\n",
    "import numpy as np\n",
    "import matplotlib.pyplot as plt\n",
    "import seaborn as sns\n",
    "\n",
    "#sklearn\n",
    "from sklearn.ensemble import RandomForestClassifier\n",
    "from sklearn.datasets import make_classification\n",
    "from sklearn.feature_selection import SelectFromModel\n",
    "from sklearn.metrics import roc_curve, roc_auc_score, confusion_matrix\n",
    "from sklearn.metrics import accuracy_score\n",
    "from sklearn.linear_model import LogisticRegression\n",
    "from sklearn.feature_extraction import DictVectorizer\n",
    "from sklearn.model_selection import train_test_split\n",
    "from sklearn import preprocessing\n",
    "#xgboost\n",
    "import xgboost as xgb\n",
    "\n",
    "#Do not show warnings\n",
    "import warnings\n",
    "warnings.filterwarnings('ignore')\n",
    "warnings.simplefilter('ignore')"
   ]
  },
  {
   "cell_type": "code",
   "execution_count": 3,
   "metadata": {},
   "outputs": [
    {
     "data": {
      "text/html": [
       "<div>\n",
       "<style scoped>\n",
       "    .dataframe tbody tr th:only-of-type {\n",
       "        vertical-align: middle;\n",
       "    }\n",
       "\n",
       "    .dataframe tbody tr th {\n",
       "        vertical-align: top;\n",
       "    }\n",
       "\n",
       "    .dataframe thead th {\n",
       "        text-align: right;\n",
       "    }\n",
       "</style>\n",
       "<table border=\"1\" class=\"dataframe\">\n",
       "  <thead>\n",
       "    <tr style=\"text-align: right;\">\n",
       "      <th></th>\n",
       "      <th>Date</th>\n",
       "      <th>Location</th>\n",
       "      <th>MinTemp</th>\n",
       "      <th>MaxTemp</th>\n",
       "      <th>Rainfall</th>\n",
       "      <th>Evaporation</th>\n",
       "      <th>Sunshine</th>\n",
       "      <th>WindGustDir</th>\n",
       "      <th>WindGustSpeed</th>\n",
       "      <th>WindDir9am</th>\n",
       "      <th>...</th>\n",
       "      <th>Humidity9am</th>\n",
       "      <th>Humidity3pm</th>\n",
       "      <th>Pressure9am</th>\n",
       "      <th>Pressure3pm</th>\n",
       "      <th>Cloud9am</th>\n",
       "      <th>Cloud3pm</th>\n",
       "      <th>Temp9am</th>\n",
       "      <th>Temp3pm</th>\n",
       "      <th>RainToday</th>\n",
       "      <th>RainTomorrow</th>\n",
       "    </tr>\n",
       "  </thead>\n",
       "  <tbody>\n",
       "    <tr>\n",
       "      <th>0</th>\n",
       "      <td>2008-12-01</td>\n",
       "      <td>Albury</td>\n",
       "      <td>13.4</td>\n",
       "      <td>22.9</td>\n",
       "      <td>0.6</td>\n",
       "      <td>NaN</td>\n",
       "      <td>NaN</td>\n",
       "      <td>W</td>\n",
       "      <td>44.0</td>\n",
       "      <td>W</td>\n",
       "      <td>...</td>\n",
       "      <td>71.0</td>\n",
       "      <td>22.0</td>\n",
       "      <td>1007.7</td>\n",
       "      <td>1007.1</td>\n",
       "      <td>8.0</td>\n",
       "      <td>NaN</td>\n",
       "      <td>16.9</td>\n",
       "      <td>21.8</td>\n",
       "      <td>No</td>\n",
       "      <td>No</td>\n",
       "    </tr>\n",
       "    <tr>\n",
       "      <th>1</th>\n",
       "      <td>2008-12-02</td>\n",
       "      <td>Albury</td>\n",
       "      <td>7.4</td>\n",
       "      <td>25.1</td>\n",
       "      <td>0.0</td>\n",
       "      <td>NaN</td>\n",
       "      <td>NaN</td>\n",
       "      <td>WNW</td>\n",
       "      <td>44.0</td>\n",
       "      <td>NNW</td>\n",
       "      <td>...</td>\n",
       "      <td>44.0</td>\n",
       "      <td>25.0</td>\n",
       "      <td>1010.6</td>\n",
       "      <td>1007.8</td>\n",
       "      <td>NaN</td>\n",
       "      <td>NaN</td>\n",
       "      <td>17.2</td>\n",
       "      <td>24.3</td>\n",
       "      <td>No</td>\n",
       "      <td>No</td>\n",
       "    </tr>\n",
       "    <tr>\n",
       "      <th>2</th>\n",
       "      <td>2008-12-03</td>\n",
       "      <td>Albury</td>\n",
       "      <td>12.9</td>\n",
       "      <td>25.7</td>\n",
       "      <td>0.0</td>\n",
       "      <td>NaN</td>\n",
       "      <td>NaN</td>\n",
       "      <td>WSW</td>\n",
       "      <td>46.0</td>\n",
       "      <td>W</td>\n",
       "      <td>...</td>\n",
       "      <td>38.0</td>\n",
       "      <td>30.0</td>\n",
       "      <td>1007.6</td>\n",
       "      <td>1008.7</td>\n",
       "      <td>NaN</td>\n",
       "      <td>2.0</td>\n",
       "      <td>21.0</td>\n",
       "      <td>23.2</td>\n",
       "      <td>No</td>\n",
       "      <td>No</td>\n",
       "    </tr>\n",
       "    <tr>\n",
       "      <th>3</th>\n",
       "      <td>2008-12-04</td>\n",
       "      <td>Albury</td>\n",
       "      <td>9.2</td>\n",
       "      <td>28.0</td>\n",
       "      <td>0.0</td>\n",
       "      <td>NaN</td>\n",
       "      <td>NaN</td>\n",
       "      <td>NE</td>\n",
       "      <td>24.0</td>\n",
       "      <td>SE</td>\n",
       "      <td>...</td>\n",
       "      <td>45.0</td>\n",
       "      <td>16.0</td>\n",
       "      <td>1017.6</td>\n",
       "      <td>1012.8</td>\n",
       "      <td>NaN</td>\n",
       "      <td>NaN</td>\n",
       "      <td>18.1</td>\n",
       "      <td>26.5</td>\n",
       "      <td>No</td>\n",
       "      <td>No</td>\n",
       "    </tr>\n",
       "    <tr>\n",
       "      <th>4</th>\n",
       "      <td>2008-12-05</td>\n",
       "      <td>Albury</td>\n",
       "      <td>17.5</td>\n",
       "      <td>32.3</td>\n",
       "      <td>1.0</td>\n",
       "      <td>NaN</td>\n",
       "      <td>NaN</td>\n",
       "      <td>W</td>\n",
       "      <td>41.0</td>\n",
       "      <td>ENE</td>\n",
       "      <td>...</td>\n",
       "      <td>82.0</td>\n",
       "      <td>33.0</td>\n",
       "      <td>1010.8</td>\n",
       "      <td>1006.0</td>\n",
       "      <td>7.0</td>\n",
       "      <td>8.0</td>\n",
       "      <td>17.8</td>\n",
       "      <td>29.7</td>\n",
       "      <td>No</td>\n",
       "      <td>No</td>\n",
       "    </tr>\n",
       "  </tbody>\n",
       "</table>\n",
       "<p>5 rows × 23 columns</p>\n",
       "</div>"
      ],
      "text/plain": [
       "         Date Location  MinTemp  MaxTemp  Rainfall  Evaporation  Sunshine  \\\n",
       "0  2008-12-01   Albury     13.4     22.9       0.6          NaN       NaN   \n",
       "1  2008-12-02   Albury      7.4     25.1       0.0          NaN       NaN   \n",
       "2  2008-12-03   Albury     12.9     25.7       0.0          NaN       NaN   \n",
       "3  2008-12-04   Albury      9.2     28.0       0.0          NaN       NaN   \n",
       "4  2008-12-05   Albury     17.5     32.3       1.0          NaN       NaN   \n",
       "\n",
       "  WindGustDir  WindGustSpeed WindDir9am  ... Humidity9am  Humidity3pm  \\\n",
       "0           W           44.0          W  ...        71.0         22.0   \n",
       "1         WNW           44.0        NNW  ...        44.0         25.0   \n",
       "2         WSW           46.0          W  ...        38.0         30.0   \n",
       "3          NE           24.0         SE  ...        45.0         16.0   \n",
       "4           W           41.0        ENE  ...        82.0         33.0   \n",
       "\n",
       "   Pressure9am  Pressure3pm  Cloud9am  Cloud3pm  Temp9am  Temp3pm  RainToday  \\\n",
       "0       1007.7       1007.1       8.0       NaN     16.9     21.8         No   \n",
       "1       1010.6       1007.8       NaN       NaN     17.2     24.3         No   \n",
       "2       1007.6       1008.7       NaN       2.0     21.0     23.2         No   \n",
       "3       1017.6       1012.8       NaN       NaN     18.1     26.5         No   \n",
       "4       1010.8       1006.0       7.0       8.0     17.8     29.7         No   \n",
       "\n",
       "   RainTomorrow  \n",
       "0            No  \n",
       "1            No  \n",
       "2            No  \n",
       "3            No  \n",
       "4            No  \n",
       "\n",
       "[5 rows x 23 columns]"
      ]
     },
     "execution_count": 3,
     "metadata": {},
     "output_type": "execute_result"
    }
   ],
   "source": [
    "# importing the data\n",
    "df = pd.read_csv('./data/weatherAUS.csv')\n",
    "df.head()"
   ]
  },
  {
   "cell_type": "code",
   "execution_count": 4,
   "metadata": {},
   "outputs": [],
   "source": [
    "#formating the column names, make them lower case and replacing \" \" with underscores\n",
    "df.columns = df.columns.str.lower().str.replace(' ', '_')"
   ]
  },
  {
   "cell_type": "code",
   "execution_count": 5,
   "metadata": {},
   "outputs": [
    {
     "name": "stdout",
     "output_type": "stream",
     "text": [
      "The shape of the initial data: (145460, 23)\n"
     ]
    }
   ],
   "source": [
    "print(f\"The shape of the initial data: {df.shape}\")"
   ]
  },
  {
   "cell_type": "code",
   "execution_count": 6,
   "metadata": {},
   "outputs": [
    {
     "data": {
      "text/plain": [
       "Index(['date', 'location', 'mintemp', 'maxtemp', 'rainfall', 'evaporation',\n",
       "       'sunshine', 'windgustdir', 'windgustspeed', 'winddir9am', 'winddir3pm',\n",
       "       'windspeed9am', 'windspeed3pm', 'humidity9am', 'humidity3pm',\n",
       "       'pressure9am', 'pressure3pm', 'cloud9am', 'cloud3pm', 'temp9am',\n",
       "       'temp3pm', 'raintoday', 'raintomorrow'],\n",
       "      dtype='object')"
      ]
     },
     "execution_count": 6,
     "metadata": {},
     "output_type": "execute_result"
    }
   ],
   "source": [
    "#getting the column names\n",
    "col_names = df.columns\n",
    "col_names"
   ]
  },
  {
   "cell_type": "code",
   "execution_count": 7,
   "metadata": {},
   "outputs": [
    {
     "data": {
      "text/html": [
       "<div>\n",
       "<style scoped>\n",
       "    .dataframe tbody tr th:only-of-type {\n",
       "        vertical-align: middle;\n",
       "    }\n",
       "\n",
       "    .dataframe tbody tr th {\n",
       "        vertical-align: top;\n",
       "    }\n",
       "\n",
       "    .dataframe thead th {\n",
       "        text-align: right;\n",
       "    }\n",
       "</style>\n",
       "<table border=\"1\" class=\"dataframe\">\n",
       "  <thead>\n",
       "    <tr style=\"text-align: right;\">\n",
       "      <th></th>\n",
       "      <th>mintemp</th>\n",
       "      <th>maxtemp</th>\n",
       "      <th>rainfall</th>\n",
       "      <th>evaporation</th>\n",
       "      <th>sunshine</th>\n",
       "      <th>windgustspeed</th>\n",
       "      <th>windspeed9am</th>\n",
       "      <th>windspeed3pm</th>\n",
       "      <th>humidity9am</th>\n",
       "      <th>humidity3pm</th>\n",
       "      <th>pressure9am</th>\n",
       "      <th>pressure3pm</th>\n",
       "      <th>cloud9am</th>\n",
       "      <th>cloud3pm</th>\n",
       "      <th>temp9am</th>\n",
       "      <th>temp3pm</th>\n",
       "    </tr>\n",
       "  </thead>\n",
       "  <tbody>\n",
       "    <tr>\n",
       "      <th>count</th>\n",
       "      <td>143975.000000</td>\n",
       "      <td>144199.000000</td>\n",
       "      <td>142199.000000</td>\n",
       "      <td>82670.000000</td>\n",
       "      <td>75625.000000</td>\n",
       "      <td>135197.000000</td>\n",
       "      <td>143693.000000</td>\n",
       "      <td>142398.000000</td>\n",
       "      <td>142806.000000</td>\n",
       "      <td>140953.000000</td>\n",
       "      <td>130395.00000</td>\n",
       "      <td>130432.000000</td>\n",
       "      <td>89572.000000</td>\n",
       "      <td>86102.000000</td>\n",
       "      <td>143693.000000</td>\n",
       "      <td>141851.00000</td>\n",
       "    </tr>\n",
       "    <tr>\n",
       "      <th>mean</th>\n",
       "      <td>12.194034</td>\n",
       "      <td>23.221348</td>\n",
       "      <td>2.360918</td>\n",
       "      <td>5.468232</td>\n",
       "      <td>7.611178</td>\n",
       "      <td>40.035230</td>\n",
       "      <td>14.043426</td>\n",
       "      <td>18.662657</td>\n",
       "      <td>68.880831</td>\n",
       "      <td>51.539116</td>\n",
       "      <td>1017.64994</td>\n",
       "      <td>1015.255889</td>\n",
       "      <td>4.447461</td>\n",
       "      <td>4.509930</td>\n",
       "      <td>16.990631</td>\n",
       "      <td>21.68339</td>\n",
       "    </tr>\n",
       "    <tr>\n",
       "      <th>std</th>\n",
       "      <td>6.398495</td>\n",
       "      <td>7.119049</td>\n",
       "      <td>8.478060</td>\n",
       "      <td>4.193704</td>\n",
       "      <td>3.785483</td>\n",
       "      <td>13.607062</td>\n",
       "      <td>8.915375</td>\n",
       "      <td>8.809800</td>\n",
       "      <td>19.029164</td>\n",
       "      <td>20.795902</td>\n",
       "      <td>7.10653</td>\n",
       "      <td>7.037414</td>\n",
       "      <td>2.887159</td>\n",
       "      <td>2.720357</td>\n",
       "      <td>6.488753</td>\n",
       "      <td>6.93665</td>\n",
       "    </tr>\n",
       "    <tr>\n",
       "      <th>min</th>\n",
       "      <td>-8.500000</td>\n",
       "      <td>-4.800000</td>\n",
       "      <td>0.000000</td>\n",
       "      <td>0.000000</td>\n",
       "      <td>0.000000</td>\n",
       "      <td>6.000000</td>\n",
       "      <td>0.000000</td>\n",
       "      <td>0.000000</td>\n",
       "      <td>0.000000</td>\n",
       "      <td>0.000000</td>\n",
       "      <td>980.50000</td>\n",
       "      <td>977.100000</td>\n",
       "      <td>0.000000</td>\n",
       "      <td>0.000000</td>\n",
       "      <td>-7.200000</td>\n",
       "      <td>-5.40000</td>\n",
       "    </tr>\n",
       "    <tr>\n",
       "      <th>25%</th>\n",
       "      <td>7.600000</td>\n",
       "      <td>17.900000</td>\n",
       "      <td>0.000000</td>\n",
       "      <td>2.600000</td>\n",
       "      <td>4.800000</td>\n",
       "      <td>31.000000</td>\n",
       "      <td>7.000000</td>\n",
       "      <td>13.000000</td>\n",
       "      <td>57.000000</td>\n",
       "      <td>37.000000</td>\n",
       "      <td>1012.90000</td>\n",
       "      <td>1010.400000</td>\n",
       "      <td>1.000000</td>\n",
       "      <td>2.000000</td>\n",
       "      <td>12.300000</td>\n",
       "      <td>16.60000</td>\n",
       "    </tr>\n",
       "    <tr>\n",
       "      <th>50%</th>\n",
       "      <td>12.000000</td>\n",
       "      <td>22.600000</td>\n",
       "      <td>0.000000</td>\n",
       "      <td>4.800000</td>\n",
       "      <td>8.400000</td>\n",
       "      <td>39.000000</td>\n",
       "      <td>13.000000</td>\n",
       "      <td>19.000000</td>\n",
       "      <td>70.000000</td>\n",
       "      <td>52.000000</td>\n",
       "      <td>1017.60000</td>\n",
       "      <td>1015.200000</td>\n",
       "      <td>5.000000</td>\n",
       "      <td>5.000000</td>\n",
       "      <td>16.700000</td>\n",
       "      <td>21.10000</td>\n",
       "    </tr>\n",
       "    <tr>\n",
       "      <th>75%</th>\n",
       "      <td>16.900000</td>\n",
       "      <td>28.200000</td>\n",
       "      <td>0.800000</td>\n",
       "      <td>7.400000</td>\n",
       "      <td>10.600000</td>\n",
       "      <td>48.000000</td>\n",
       "      <td>19.000000</td>\n",
       "      <td>24.000000</td>\n",
       "      <td>83.000000</td>\n",
       "      <td>66.000000</td>\n",
       "      <td>1022.40000</td>\n",
       "      <td>1020.000000</td>\n",
       "      <td>7.000000</td>\n",
       "      <td>7.000000</td>\n",
       "      <td>21.600000</td>\n",
       "      <td>26.40000</td>\n",
       "    </tr>\n",
       "    <tr>\n",
       "      <th>max</th>\n",
       "      <td>33.900000</td>\n",
       "      <td>48.100000</td>\n",
       "      <td>371.000000</td>\n",
       "      <td>145.000000</td>\n",
       "      <td>14.500000</td>\n",
       "      <td>135.000000</td>\n",
       "      <td>130.000000</td>\n",
       "      <td>87.000000</td>\n",
       "      <td>100.000000</td>\n",
       "      <td>100.000000</td>\n",
       "      <td>1041.00000</td>\n",
       "      <td>1039.600000</td>\n",
       "      <td>9.000000</td>\n",
       "      <td>9.000000</td>\n",
       "      <td>40.200000</td>\n",
       "      <td>46.70000</td>\n",
       "    </tr>\n",
       "  </tbody>\n",
       "</table>\n",
       "</div>"
      ],
      "text/plain": [
       "             mintemp        maxtemp       rainfall   evaporation  \\\n",
       "count  143975.000000  144199.000000  142199.000000  82670.000000   \n",
       "mean       12.194034      23.221348       2.360918      5.468232   \n",
       "std         6.398495       7.119049       8.478060      4.193704   \n",
       "min        -8.500000      -4.800000       0.000000      0.000000   \n",
       "25%         7.600000      17.900000       0.000000      2.600000   \n",
       "50%        12.000000      22.600000       0.000000      4.800000   \n",
       "75%        16.900000      28.200000       0.800000      7.400000   \n",
       "max        33.900000      48.100000     371.000000    145.000000   \n",
       "\n",
       "           sunshine  windgustspeed   windspeed9am   windspeed3pm  \\\n",
       "count  75625.000000  135197.000000  143693.000000  142398.000000   \n",
       "mean       7.611178      40.035230      14.043426      18.662657   \n",
       "std        3.785483      13.607062       8.915375       8.809800   \n",
       "min        0.000000       6.000000       0.000000       0.000000   \n",
       "25%        4.800000      31.000000       7.000000      13.000000   \n",
       "50%        8.400000      39.000000      13.000000      19.000000   \n",
       "75%       10.600000      48.000000      19.000000      24.000000   \n",
       "max       14.500000     135.000000     130.000000      87.000000   \n",
       "\n",
       "         humidity9am    humidity3pm   pressure9am    pressure3pm  \\\n",
       "count  142806.000000  140953.000000  130395.00000  130432.000000   \n",
       "mean       68.880831      51.539116    1017.64994    1015.255889   \n",
       "std        19.029164      20.795902       7.10653       7.037414   \n",
       "min         0.000000       0.000000     980.50000     977.100000   \n",
       "25%        57.000000      37.000000    1012.90000    1010.400000   \n",
       "50%        70.000000      52.000000    1017.60000    1015.200000   \n",
       "75%        83.000000      66.000000    1022.40000    1020.000000   \n",
       "max       100.000000     100.000000    1041.00000    1039.600000   \n",
       "\n",
       "           cloud9am      cloud3pm        temp9am       temp3pm  \n",
       "count  89572.000000  86102.000000  143693.000000  141851.00000  \n",
       "mean       4.447461      4.509930      16.990631      21.68339  \n",
       "std        2.887159      2.720357       6.488753       6.93665  \n",
       "min        0.000000      0.000000      -7.200000      -5.40000  \n",
       "25%        1.000000      2.000000      12.300000      16.60000  \n",
       "50%        5.000000      5.000000      16.700000      21.10000  \n",
       "75%        7.000000      7.000000      21.600000      26.40000  \n",
       "max        9.000000      9.000000      40.200000      46.70000  "
      ]
     },
     "execution_count": 7,
     "metadata": {},
     "output_type": "execute_result"
    }
   ],
   "source": [
    "#printing the data statistical information\n",
    "df.describe()"
   ]
  },
  {
   "cell_type": "code",
   "execution_count": 8,
   "metadata": {},
   "outputs": [
    {
     "data": {
      "text/html": [
       "<div>\n",
       "<style scoped>\n",
       "    .dataframe tbody tr th:only-of-type {\n",
       "        vertical-align: middle;\n",
       "    }\n",
       "\n",
       "    .dataframe tbody tr th {\n",
       "        vertical-align: top;\n",
       "    }\n",
       "\n",
       "    .dataframe thead th {\n",
       "        text-align: right;\n",
       "    }\n",
       "</style>\n",
       "<table border=\"1\" class=\"dataframe\">\n",
       "  <thead>\n",
       "    <tr style=\"text-align: right;\">\n",
       "      <th></th>\n",
       "      <th>count</th>\n",
       "      <th>mean</th>\n",
       "      <th>std</th>\n",
       "      <th>min</th>\n",
       "      <th>25%</th>\n",
       "      <th>50%</th>\n",
       "      <th>75%</th>\n",
       "      <th>max</th>\n",
       "    </tr>\n",
       "  </thead>\n",
       "  <tbody>\n",
       "    <tr>\n",
       "      <th>mintemp</th>\n",
       "      <td>143975.0</td>\n",
       "      <td>12.194034</td>\n",
       "      <td>6.398495</td>\n",
       "      <td>-8.5</td>\n",
       "      <td>7.6</td>\n",
       "      <td>12.0</td>\n",
       "      <td>16.9</td>\n",
       "      <td>33.9</td>\n",
       "    </tr>\n",
       "    <tr>\n",
       "      <th>maxtemp</th>\n",
       "      <td>144199.0</td>\n",
       "      <td>23.221348</td>\n",
       "      <td>7.119049</td>\n",
       "      <td>-4.8</td>\n",
       "      <td>17.9</td>\n",
       "      <td>22.6</td>\n",
       "      <td>28.2</td>\n",
       "      <td>48.1</td>\n",
       "    </tr>\n",
       "    <tr>\n",
       "      <th>rainfall</th>\n",
       "      <td>142199.0</td>\n",
       "      <td>2.360918</td>\n",
       "      <td>8.478060</td>\n",
       "      <td>0.0</td>\n",
       "      <td>0.0</td>\n",
       "      <td>0.0</td>\n",
       "      <td>0.8</td>\n",
       "      <td>371.0</td>\n",
       "    </tr>\n",
       "    <tr>\n",
       "      <th>evaporation</th>\n",
       "      <td>82670.0</td>\n",
       "      <td>5.468232</td>\n",
       "      <td>4.193704</td>\n",
       "      <td>0.0</td>\n",
       "      <td>2.6</td>\n",
       "      <td>4.8</td>\n",
       "      <td>7.4</td>\n",
       "      <td>145.0</td>\n",
       "    </tr>\n",
       "    <tr>\n",
       "      <th>sunshine</th>\n",
       "      <td>75625.0</td>\n",
       "      <td>7.611178</td>\n",
       "      <td>3.785483</td>\n",
       "      <td>0.0</td>\n",
       "      <td>4.8</td>\n",
       "      <td>8.4</td>\n",
       "      <td>10.6</td>\n",
       "      <td>14.5</td>\n",
       "    </tr>\n",
       "    <tr>\n",
       "      <th>windgustspeed</th>\n",
       "      <td>135197.0</td>\n",
       "      <td>40.035230</td>\n",
       "      <td>13.607062</td>\n",
       "      <td>6.0</td>\n",
       "      <td>31.0</td>\n",
       "      <td>39.0</td>\n",
       "      <td>48.0</td>\n",
       "      <td>135.0</td>\n",
       "    </tr>\n",
       "    <tr>\n",
       "      <th>windspeed9am</th>\n",
       "      <td>143693.0</td>\n",
       "      <td>14.043426</td>\n",
       "      <td>8.915375</td>\n",
       "      <td>0.0</td>\n",
       "      <td>7.0</td>\n",
       "      <td>13.0</td>\n",
       "      <td>19.0</td>\n",
       "      <td>130.0</td>\n",
       "    </tr>\n",
       "    <tr>\n",
       "      <th>windspeed3pm</th>\n",
       "      <td>142398.0</td>\n",
       "      <td>18.662657</td>\n",
       "      <td>8.809800</td>\n",
       "      <td>0.0</td>\n",
       "      <td>13.0</td>\n",
       "      <td>19.0</td>\n",
       "      <td>24.0</td>\n",
       "      <td>87.0</td>\n",
       "    </tr>\n",
       "    <tr>\n",
       "      <th>humidity9am</th>\n",
       "      <td>142806.0</td>\n",
       "      <td>68.880831</td>\n",
       "      <td>19.029164</td>\n",
       "      <td>0.0</td>\n",
       "      <td>57.0</td>\n",
       "      <td>70.0</td>\n",
       "      <td>83.0</td>\n",
       "      <td>100.0</td>\n",
       "    </tr>\n",
       "    <tr>\n",
       "      <th>humidity3pm</th>\n",
       "      <td>140953.0</td>\n",
       "      <td>51.539116</td>\n",
       "      <td>20.795902</td>\n",
       "      <td>0.0</td>\n",
       "      <td>37.0</td>\n",
       "      <td>52.0</td>\n",
       "      <td>66.0</td>\n",
       "      <td>100.0</td>\n",
       "    </tr>\n",
       "    <tr>\n",
       "      <th>pressure9am</th>\n",
       "      <td>130395.0</td>\n",
       "      <td>1017.649940</td>\n",
       "      <td>7.106530</td>\n",
       "      <td>980.5</td>\n",
       "      <td>1012.9</td>\n",
       "      <td>1017.6</td>\n",
       "      <td>1022.4</td>\n",
       "      <td>1041.0</td>\n",
       "    </tr>\n",
       "    <tr>\n",
       "      <th>pressure3pm</th>\n",
       "      <td>130432.0</td>\n",
       "      <td>1015.255889</td>\n",
       "      <td>7.037414</td>\n",
       "      <td>977.1</td>\n",
       "      <td>1010.4</td>\n",
       "      <td>1015.2</td>\n",
       "      <td>1020.0</td>\n",
       "      <td>1039.6</td>\n",
       "    </tr>\n",
       "    <tr>\n",
       "      <th>cloud9am</th>\n",
       "      <td>89572.0</td>\n",
       "      <td>4.447461</td>\n",
       "      <td>2.887159</td>\n",
       "      <td>0.0</td>\n",
       "      <td>1.0</td>\n",
       "      <td>5.0</td>\n",
       "      <td>7.0</td>\n",
       "      <td>9.0</td>\n",
       "    </tr>\n",
       "    <tr>\n",
       "      <th>cloud3pm</th>\n",
       "      <td>86102.0</td>\n",
       "      <td>4.509930</td>\n",
       "      <td>2.720357</td>\n",
       "      <td>0.0</td>\n",
       "      <td>2.0</td>\n",
       "      <td>5.0</td>\n",
       "      <td>7.0</td>\n",
       "      <td>9.0</td>\n",
       "    </tr>\n",
       "    <tr>\n",
       "      <th>temp9am</th>\n",
       "      <td>143693.0</td>\n",
       "      <td>16.990631</td>\n",
       "      <td>6.488753</td>\n",
       "      <td>-7.2</td>\n",
       "      <td>12.3</td>\n",
       "      <td>16.7</td>\n",
       "      <td>21.6</td>\n",
       "      <td>40.2</td>\n",
       "    </tr>\n",
       "    <tr>\n",
       "      <th>temp3pm</th>\n",
       "      <td>141851.0</td>\n",
       "      <td>21.683390</td>\n",
       "      <td>6.936650</td>\n",
       "      <td>-5.4</td>\n",
       "      <td>16.6</td>\n",
       "      <td>21.1</td>\n",
       "      <td>26.4</td>\n",
       "      <td>46.7</td>\n",
       "    </tr>\n",
       "  </tbody>\n",
       "</table>\n",
       "</div>"
      ],
      "text/plain": [
       "                  count         mean        std    min     25%     50%  \\\n",
       "mintemp        143975.0    12.194034   6.398495   -8.5     7.6    12.0   \n",
       "maxtemp        144199.0    23.221348   7.119049   -4.8    17.9    22.6   \n",
       "rainfall       142199.0     2.360918   8.478060    0.0     0.0     0.0   \n",
       "evaporation     82670.0     5.468232   4.193704    0.0     2.6     4.8   \n",
       "sunshine        75625.0     7.611178   3.785483    0.0     4.8     8.4   \n",
       "windgustspeed  135197.0    40.035230  13.607062    6.0    31.0    39.0   \n",
       "windspeed9am   143693.0    14.043426   8.915375    0.0     7.0    13.0   \n",
       "windspeed3pm   142398.0    18.662657   8.809800    0.0    13.0    19.0   \n",
       "humidity9am    142806.0    68.880831  19.029164    0.0    57.0    70.0   \n",
       "humidity3pm    140953.0    51.539116  20.795902    0.0    37.0    52.0   \n",
       "pressure9am    130395.0  1017.649940   7.106530  980.5  1012.9  1017.6   \n",
       "pressure3pm    130432.0  1015.255889   7.037414  977.1  1010.4  1015.2   \n",
       "cloud9am        89572.0     4.447461   2.887159    0.0     1.0     5.0   \n",
       "cloud3pm        86102.0     4.509930   2.720357    0.0     2.0     5.0   \n",
       "temp9am        143693.0    16.990631   6.488753   -7.2    12.3    16.7   \n",
       "temp3pm        141851.0    21.683390   6.936650   -5.4    16.6    21.1   \n",
       "\n",
       "                  75%     max  \n",
       "mintemp          16.9    33.9  \n",
       "maxtemp          28.2    48.1  \n",
       "rainfall          0.8   371.0  \n",
       "evaporation       7.4   145.0  \n",
       "sunshine         10.6    14.5  \n",
       "windgustspeed    48.0   135.0  \n",
       "windspeed9am     19.0   130.0  \n",
       "windspeed3pm     24.0    87.0  \n",
       "humidity9am      83.0   100.0  \n",
       "humidity3pm      66.0   100.0  \n",
       "pressure9am    1022.4  1041.0  \n",
       "pressure3pm    1020.0  1039.6  \n",
       "cloud9am          7.0     9.0  \n",
       "cloud3pm          7.0     9.0  \n",
       "temp9am          21.6    40.2  \n",
       "temp3pm          26.4    46.7  "
      ]
     },
     "execution_count": 8,
     "metadata": {},
     "output_type": "execute_result"
    }
   ],
   "source": [
    "#Just tranposed information, much better to get the sense of the data, imho\n",
    "df.describe().T"
   ]
  },
  {
   "cell_type": "markdown",
   "metadata": {},
   "source": [
    "Now let's summarize the info from the data."
   ]
  },
  {
   "cell_type": "code",
   "execution_count": 9,
   "metadata": {},
   "outputs": [],
   "source": [
    "#Getting vital information neccesary for the future data cleaning.\n",
    "\n",
    "def check(df):\n",
    "    lst=[]\n",
    "    columns=df.columns\n",
    "    for col in columns:\n",
    "        dtypes=df[col].dtypes\n",
    "        nunique=df[col].nunique()\n",
    "        sum_null=df[col].isnull().sum()\n",
    "        lst.append([col,dtypes,nunique,sum_null])\n",
    "    df_check=pd.DataFrame(lst)\n",
    "    df_check.columns=['column','dtypes','nunique','sum_null']\n",
    "    return df_check"
   ]
  },
  {
   "cell_type": "code",
   "execution_count": 10,
   "metadata": {},
   "outputs": [
    {
     "data": {
      "text/html": [
       "<div>\n",
       "<style scoped>\n",
       "    .dataframe tbody tr th:only-of-type {\n",
       "        vertical-align: middle;\n",
       "    }\n",
       "\n",
       "    .dataframe tbody tr th {\n",
       "        vertical-align: top;\n",
       "    }\n",
       "\n",
       "    .dataframe thead th {\n",
       "        text-align: right;\n",
       "    }\n",
       "</style>\n",
       "<table border=\"1\" class=\"dataframe\">\n",
       "  <thead>\n",
       "    <tr style=\"text-align: right;\">\n",
       "      <th></th>\n",
       "      <th>column</th>\n",
       "      <th>dtypes</th>\n",
       "      <th>nunique</th>\n",
       "      <th>sum_null</th>\n",
       "    </tr>\n",
       "  </thead>\n",
       "  <tbody>\n",
       "    <tr>\n",
       "      <th>0</th>\n",
       "      <td>date</td>\n",
       "      <td>object</td>\n",
       "      <td>3436</td>\n",
       "      <td>0</td>\n",
       "    </tr>\n",
       "    <tr>\n",
       "      <th>1</th>\n",
       "      <td>location</td>\n",
       "      <td>object</td>\n",
       "      <td>49</td>\n",
       "      <td>0</td>\n",
       "    </tr>\n",
       "    <tr>\n",
       "      <th>2</th>\n",
       "      <td>mintemp</td>\n",
       "      <td>float64</td>\n",
       "      <td>389</td>\n",
       "      <td>1485</td>\n",
       "    </tr>\n",
       "    <tr>\n",
       "      <th>3</th>\n",
       "      <td>maxtemp</td>\n",
       "      <td>float64</td>\n",
       "      <td>505</td>\n",
       "      <td>1261</td>\n",
       "    </tr>\n",
       "    <tr>\n",
       "      <th>4</th>\n",
       "      <td>rainfall</td>\n",
       "      <td>float64</td>\n",
       "      <td>681</td>\n",
       "      <td>3261</td>\n",
       "    </tr>\n",
       "    <tr>\n",
       "      <th>5</th>\n",
       "      <td>evaporation</td>\n",
       "      <td>float64</td>\n",
       "      <td>358</td>\n",
       "      <td>62790</td>\n",
       "    </tr>\n",
       "    <tr>\n",
       "      <th>6</th>\n",
       "      <td>sunshine</td>\n",
       "      <td>float64</td>\n",
       "      <td>145</td>\n",
       "      <td>69835</td>\n",
       "    </tr>\n",
       "    <tr>\n",
       "      <th>7</th>\n",
       "      <td>windgustdir</td>\n",
       "      <td>object</td>\n",
       "      <td>16</td>\n",
       "      <td>10326</td>\n",
       "    </tr>\n",
       "    <tr>\n",
       "      <th>8</th>\n",
       "      <td>windgustspeed</td>\n",
       "      <td>float64</td>\n",
       "      <td>67</td>\n",
       "      <td>10263</td>\n",
       "    </tr>\n",
       "    <tr>\n",
       "      <th>9</th>\n",
       "      <td>winddir9am</td>\n",
       "      <td>object</td>\n",
       "      <td>16</td>\n",
       "      <td>10566</td>\n",
       "    </tr>\n",
       "    <tr>\n",
       "      <th>10</th>\n",
       "      <td>winddir3pm</td>\n",
       "      <td>object</td>\n",
       "      <td>16</td>\n",
       "      <td>4228</td>\n",
       "    </tr>\n",
       "    <tr>\n",
       "      <th>11</th>\n",
       "      <td>windspeed9am</td>\n",
       "      <td>float64</td>\n",
       "      <td>43</td>\n",
       "      <td>1767</td>\n",
       "    </tr>\n",
       "    <tr>\n",
       "      <th>12</th>\n",
       "      <td>windspeed3pm</td>\n",
       "      <td>float64</td>\n",
       "      <td>44</td>\n",
       "      <td>3062</td>\n",
       "    </tr>\n",
       "    <tr>\n",
       "      <th>13</th>\n",
       "      <td>humidity9am</td>\n",
       "      <td>float64</td>\n",
       "      <td>101</td>\n",
       "      <td>2654</td>\n",
       "    </tr>\n",
       "    <tr>\n",
       "      <th>14</th>\n",
       "      <td>humidity3pm</td>\n",
       "      <td>float64</td>\n",
       "      <td>101</td>\n",
       "      <td>4507</td>\n",
       "    </tr>\n",
       "    <tr>\n",
       "      <th>15</th>\n",
       "      <td>pressure9am</td>\n",
       "      <td>float64</td>\n",
       "      <td>546</td>\n",
       "      <td>15065</td>\n",
       "    </tr>\n",
       "    <tr>\n",
       "      <th>16</th>\n",
       "      <td>pressure3pm</td>\n",
       "      <td>float64</td>\n",
       "      <td>549</td>\n",
       "      <td>15028</td>\n",
       "    </tr>\n",
       "    <tr>\n",
       "      <th>17</th>\n",
       "      <td>cloud9am</td>\n",
       "      <td>float64</td>\n",
       "      <td>10</td>\n",
       "      <td>55888</td>\n",
       "    </tr>\n",
       "    <tr>\n",
       "      <th>18</th>\n",
       "      <td>cloud3pm</td>\n",
       "      <td>float64</td>\n",
       "      <td>10</td>\n",
       "      <td>59358</td>\n",
       "    </tr>\n",
       "    <tr>\n",
       "      <th>19</th>\n",
       "      <td>temp9am</td>\n",
       "      <td>float64</td>\n",
       "      <td>441</td>\n",
       "      <td>1767</td>\n",
       "    </tr>\n",
       "    <tr>\n",
       "      <th>20</th>\n",
       "      <td>temp3pm</td>\n",
       "      <td>float64</td>\n",
       "      <td>502</td>\n",
       "      <td>3609</td>\n",
       "    </tr>\n",
       "    <tr>\n",
       "      <th>21</th>\n",
       "      <td>raintoday</td>\n",
       "      <td>object</td>\n",
       "      <td>2</td>\n",
       "      <td>3261</td>\n",
       "    </tr>\n",
       "    <tr>\n",
       "      <th>22</th>\n",
       "      <td>raintomorrow</td>\n",
       "      <td>object</td>\n",
       "      <td>2</td>\n",
       "      <td>3267</td>\n",
       "    </tr>\n",
       "  </tbody>\n",
       "</table>\n",
       "</div>"
      ],
      "text/plain": [
       "           column   dtypes  nunique  sum_null\n",
       "0            date   object     3436         0\n",
       "1        location   object       49         0\n",
       "2         mintemp  float64      389      1485\n",
       "3         maxtemp  float64      505      1261\n",
       "4        rainfall  float64      681      3261\n",
       "5     evaporation  float64      358     62790\n",
       "6        sunshine  float64      145     69835\n",
       "7     windgustdir   object       16     10326\n",
       "8   windgustspeed  float64       67     10263\n",
       "9      winddir9am   object       16     10566\n",
       "10     winddir3pm   object       16      4228\n",
       "11   windspeed9am  float64       43      1767\n",
       "12   windspeed3pm  float64       44      3062\n",
       "13    humidity9am  float64      101      2654\n",
       "14    humidity3pm  float64      101      4507\n",
       "15    pressure9am  float64      546     15065\n",
       "16    pressure3pm  float64      549     15028\n",
       "17       cloud9am  float64       10     55888\n",
       "18       cloud3pm  float64       10     59358\n",
       "19        temp9am  float64      441      1767\n",
       "20        temp3pm  float64      502      3609\n",
       "21      raintoday   object        2      3261\n",
       "22   raintomorrow   object        2      3267"
      ]
     },
     "execution_count": 10,
     "metadata": {},
     "output_type": "execute_result"
    }
   ],
   "source": [
    "check(df)"
   ]
  },
  {
   "cell_type": "code",
   "execution_count": 11,
   "metadata": {},
   "outputs": [
    {
     "data": {
      "text/html": [
       "<div>\n",
       "<style scoped>\n",
       "    .dataframe tbody tr th:only-of-type {\n",
       "        vertical-align: middle;\n",
       "    }\n",
       "\n",
       "    .dataframe tbody tr th {\n",
       "        vertical-align: top;\n",
       "    }\n",
       "\n",
       "    .dataframe thead th {\n",
       "        text-align: right;\n",
       "    }\n",
       "</style>\n",
       "<table border=\"1\" class=\"dataframe\">\n",
       "  <thead>\n",
       "    <tr style=\"text-align: right;\">\n",
       "      <th></th>\n",
       "      <th>column</th>\n",
       "      <th>missing values %</th>\n",
       "    </tr>\n",
       "  </thead>\n",
       "  <tbody>\n",
       "    <tr>\n",
       "      <th>0</th>\n",
       "      <td>date</td>\n",
       "      <td>0.00</td>\n",
       "    </tr>\n",
       "    <tr>\n",
       "      <th>1</th>\n",
       "      <td>location</td>\n",
       "      <td>0.00</td>\n",
       "    </tr>\n",
       "    <tr>\n",
       "      <th>2</th>\n",
       "      <td>mintemp</td>\n",
       "      <td>1.02</td>\n",
       "    </tr>\n",
       "    <tr>\n",
       "      <th>3</th>\n",
       "      <td>maxtemp</td>\n",
       "      <td>0.87</td>\n",
       "    </tr>\n",
       "    <tr>\n",
       "      <th>4</th>\n",
       "      <td>rainfall</td>\n",
       "      <td>2.24</td>\n",
       "    </tr>\n",
       "    <tr>\n",
       "      <th>5</th>\n",
       "      <td>evaporation</td>\n",
       "      <td>43.17</td>\n",
       "    </tr>\n",
       "    <tr>\n",
       "      <th>6</th>\n",
       "      <td>sunshine</td>\n",
       "      <td>48.01</td>\n",
       "    </tr>\n",
       "    <tr>\n",
       "      <th>7</th>\n",
       "      <td>windgustdir</td>\n",
       "      <td>7.10</td>\n",
       "    </tr>\n",
       "    <tr>\n",
       "      <th>8</th>\n",
       "      <td>windgustspeed</td>\n",
       "      <td>7.06</td>\n",
       "    </tr>\n",
       "    <tr>\n",
       "      <th>9</th>\n",
       "      <td>winddir9am</td>\n",
       "      <td>7.26</td>\n",
       "    </tr>\n",
       "    <tr>\n",
       "      <th>10</th>\n",
       "      <td>winddir3pm</td>\n",
       "      <td>2.91</td>\n",
       "    </tr>\n",
       "    <tr>\n",
       "      <th>11</th>\n",
       "      <td>windspeed9am</td>\n",
       "      <td>1.21</td>\n",
       "    </tr>\n",
       "    <tr>\n",
       "      <th>12</th>\n",
       "      <td>windspeed3pm</td>\n",
       "      <td>2.11</td>\n",
       "    </tr>\n",
       "    <tr>\n",
       "      <th>13</th>\n",
       "      <td>humidity9am</td>\n",
       "      <td>1.82</td>\n",
       "    </tr>\n",
       "    <tr>\n",
       "      <th>14</th>\n",
       "      <td>humidity3pm</td>\n",
       "      <td>3.10</td>\n",
       "    </tr>\n",
       "    <tr>\n",
       "      <th>15</th>\n",
       "      <td>pressure9am</td>\n",
       "      <td>10.36</td>\n",
       "    </tr>\n",
       "    <tr>\n",
       "      <th>16</th>\n",
       "      <td>pressure3pm</td>\n",
       "      <td>10.33</td>\n",
       "    </tr>\n",
       "    <tr>\n",
       "      <th>17</th>\n",
       "      <td>cloud9am</td>\n",
       "      <td>38.42</td>\n",
       "    </tr>\n",
       "    <tr>\n",
       "      <th>18</th>\n",
       "      <td>cloud3pm</td>\n",
       "      <td>40.81</td>\n",
       "    </tr>\n",
       "    <tr>\n",
       "      <th>19</th>\n",
       "      <td>temp9am</td>\n",
       "      <td>1.21</td>\n",
       "    </tr>\n",
       "    <tr>\n",
       "      <th>20</th>\n",
       "      <td>temp3pm</td>\n",
       "      <td>2.48</td>\n",
       "    </tr>\n",
       "    <tr>\n",
       "      <th>21</th>\n",
       "      <td>raintoday</td>\n",
       "      <td>2.24</td>\n",
       "    </tr>\n",
       "    <tr>\n",
       "      <th>22</th>\n",
       "      <td>raintomorrow</td>\n",
       "      <td>2.25</td>\n",
       "    </tr>\n",
       "  </tbody>\n",
       "</table>\n",
       "</div>"
      ],
      "text/plain": [
       "           column  missing values %\n",
       "0            date              0.00\n",
       "1        location              0.00\n",
       "2         mintemp              1.02\n",
       "3         maxtemp              0.87\n",
       "4        rainfall              2.24\n",
       "5     evaporation             43.17\n",
       "6        sunshine             48.01\n",
       "7     windgustdir              7.10\n",
       "8   windgustspeed              7.06\n",
       "9      winddir9am              7.26\n",
       "10     winddir3pm              2.91\n",
       "11   windspeed9am              1.21\n",
       "12   windspeed3pm              2.11\n",
       "13    humidity9am              1.82\n",
       "14    humidity3pm              3.10\n",
       "15    pressure9am             10.36\n",
       "16    pressure3pm             10.33\n",
       "17       cloud9am             38.42\n",
       "18       cloud3pm             40.81\n",
       "19        temp9am              1.21\n",
       "20        temp3pm              2.48\n",
       "21      raintoday              2.24\n",
       "22   raintomorrow              2.25"
      ]
     },
     "execution_count": 11,
     "metadata": {},
     "output_type": "execute_result"
    }
   ],
   "source": [
    "#check the percentage of missing values\n",
    "len = df.shape[0]\n",
    "def calculate_missing_percent(df):\n",
    "    lst=[]\n",
    "    columns=df.columns\n",
    "    for col in columns:\n",
    "        missing_percent=round(df[col].isnull().sum()/df.shape[0]*100, 2)\n",
    "        lst.append([col, missing_percent])\n",
    "    df_missing_percent=pd.DataFrame(lst)\n",
    "    df_missing_percent.columns=['column', 'missing values %']\n",
    "    return df_missing_percent\n",
    "\n",
    "calculate_missing_percent(df)"
   ]
  },
  {
   "cell_type": "code",
   "execution_count": 12,
   "metadata": {},
   "outputs": [
    {
     "data": {
      "text/plain": [
       "array([[<AxesSubplot:title={'center':'mintemp'}>,\n",
       "        <AxesSubplot:title={'center':'maxtemp'}>,\n",
       "        <AxesSubplot:title={'center':'rainfall'}>,\n",
       "        <AxesSubplot:title={'center':'evaporation'}>],\n",
       "       [<AxesSubplot:title={'center':'sunshine'}>,\n",
       "        <AxesSubplot:title={'center':'windgustspeed'}>,\n",
       "        <AxesSubplot:title={'center':'windspeed9am'}>,\n",
       "        <AxesSubplot:title={'center':'windspeed3pm'}>],\n",
       "       [<AxesSubplot:title={'center':'humidity9am'}>,\n",
       "        <AxesSubplot:title={'center':'humidity3pm'}>,\n",
       "        <AxesSubplot:title={'center':'pressure9am'}>,\n",
       "        <AxesSubplot:title={'center':'pressure3pm'}>],\n",
       "       [<AxesSubplot:title={'center':'cloud9am'}>,\n",
       "        <AxesSubplot:title={'center':'cloud3pm'}>,\n",
       "        <AxesSubplot:title={'center':'temp9am'}>,\n",
       "        <AxesSubplot:title={'center':'temp3pm'}>]], dtype=object)"
      ]
     },
     "execution_count": 12,
     "metadata": {},
     "output_type": "execute_result"
    },
    {
     "data": {
      "image/png": "[encoded data removed]",
      "text/plain": [
       "<Figure size 2000x1500 with 16 Axes>"
      ]
     },
     "metadata": {},
     "output_type": "display_data"
    }
   ],
   "source": [
    "df[col_names].hist(figsize=(20, 15), bins=20)"
   ]
  },
  {
   "cell_type": "markdown",
   "metadata": {},
   "source": [
    "As can be seen ['Evaporation', 'Sunshine', 'Cloud3pm', 'Cloud9am'] columns has more very high percentage of missing values... "
   ]
  },
  {
   "cell_type": "markdown",
   "metadata": {},
   "source": [
    "Now let's visulize the data"
   ]
  },
  {
   "cell_type": "code",
   "execution_count": 13,
   "metadata": {},
   "outputs": [
    {
     "name": "stdout",
     "output_type": "stream",
     "text": [
      "3267\n",
      "['No' 'Yes' nan]\n",
      "No     110316\n",
      "Yes     31877\n",
      "Name: raintomorrow, dtype: int64\n"
     ]
    }
   ],
   "source": [
    "print(df['raintomorrow'].isnull().sum())\n",
    "\n",
    "print(df['raintomorrow'].unique())\n",
    "\n",
    "print(df['raintomorrow'].value_counts())"
   ]
  },
  {
   "cell_type": "markdown",
   "metadata": {},
   "source": [
    "As we can see there are some missing values of the target variable, percentage is very low < 2.25%, so I have decided the simply drop them."
   ]
  },
  {
   "cell_type": "code",
   "execution_count": 14,
   "metadata": {},
   "outputs": [],
   "source": [
    "df = df.dropna(how='any',\n",
    "                    subset=['raintomorrow'])"
   ]
  },
  {
   "cell_type": "code",
   "execution_count": 15,
   "metadata": {},
   "outputs": [
    {
     "name": "stdout",
     "output_type": "stream",
     "text": [
      "0\n",
      "['No' 'Yes']\n",
      "No     110316\n",
      "Yes     31877\n",
      "Name: raintomorrow, dtype: int64\n"
     ]
    }
   ],
   "source": [
    "print(df['raintomorrow'].isnull().sum())\n",
    "\n",
    "print(df['raintomorrow'].unique())\n",
    "\n",
    "print(df['raintomorrow'].value_counts())"
   ]
  },
  {
   "cell_type": "code",
   "execution_count": 16,
   "metadata": {},
   "outputs": [],
   "source": [
    "#also I will remove missing raintoday column\n",
    "df = df.dropna(how='any',\n",
    "                    subset=['raintoday'])"
   ]
  },
  {
   "cell_type": "code",
   "execution_count": 17,
   "metadata": {},
   "outputs": [
    {
     "data": {
      "text/plain": [
       "<AxesSubplot:xlabel='raintomorrow', ylabel='count'>"
      ]
     },
     "execution_count": 17,
     "metadata": {},
     "output_type": "execute_result"
    },
    {
     "data": {
      "image/png": "[encoded data removed]",
      "text/plain": [
       "<Figure size 640x480 with 1 Axes>"
      ]
     },
     "metadata": {},
     "output_type": "display_data"
    }
   ],
   "source": [
    "sns.countplot(x = df['raintomorrow'], palette =\"ch:start=.2,rot=-.3\")"
   ]
  },
  {
   "cell_type": "markdown",
   "metadata": {},
   "source": [
    "Now let's study categorical and Numerical columns"
   ]
  },
  {
   "cell_type": "code",
   "execution_count": 18,
   "metadata": {},
   "outputs": [
    {
     "name": "stdout",
     "output_type": "stream",
     "text": [
      "There are 7 : ['date', 'location', 'windgustdir', 'winddir9am', 'winddir3pm', 'raintoday', 'raintomorrow']:\n"
     ]
    }
   ],
   "source": [
    "#df_base.columns = df.columns.str.lower().str.replace(' ', '_')\n",
    "categorical_columns = list(df.dtypes[df.dtypes == 'object'].index)\n",
    "print(f\"There are {7} : {categorical_columns}:\")\n",
    "\n",
    "#Come back and fix it..."
   ]
  },
  {
   "cell_type": "markdown",
   "metadata": {},
   "source": [
    "Now date enginnering, we need to check data type and split into year, month and date..."
   ]
  },
  {
   "cell_type": "code",
   "execution_count": 19,
   "metadata": {},
   "outputs": [
    {
     "name": "stdout",
     "output_type": "stream",
     "text": [
      "Is Date an Object type? True\n"
     ]
    }
   ],
   "source": [
    "a = df['date'].dtypes == 'O'\n",
    "\n",
    "print(f'Is Date an Object type? {a}')"
   ]
  },
  {
   "cell_type": "code",
   "execution_count": 20,
   "metadata": {},
   "outputs": [],
   "source": [
    "#now lets split date object into year, month, day\n",
    "#converting from object into datetime type\n",
    "df['date'] = pd.to_datetime(df['date'])\n",
    "\n",
    "df['year'] = df['date'].dt.year\n",
    "df['month'] = df['date'].dt.month\n",
    "df['day'] = df['date'].dt.day"
   ]
  },
  {
   "cell_type": "code",
   "execution_count": 21,
   "metadata": {},
   "outputs": [
    {
     "data": {
      "text/html": [
       "<div>\n",
       "<style scoped>\n",
       "    .dataframe tbody tr th:only-of-type {\n",
       "        vertical-align: middle;\n",
       "    }\n",
       "\n",
       "    .dataframe tbody tr th {\n",
       "        vertical-align: top;\n",
       "    }\n",
       "\n",
       "    .dataframe thead th {\n",
       "        text-align: right;\n",
       "    }\n",
       "</style>\n",
       "<table border=\"1\" class=\"dataframe\">\n",
       "  <thead>\n",
       "    <tr style=\"text-align: right;\">\n",
       "      <th></th>\n",
       "      <th>date</th>\n",
       "      <th>location</th>\n",
       "      <th>mintemp</th>\n",
       "      <th>maxtemp</th>\n",
       "      <th>rainfall</th>\n",
       "      <th>evaporation</th>\n",
       "      <th>sunshine</th>\n",
       "      <th>windgustdir</th>\n",
       "      <th>windgustspeed</th>\n",
       "      <th>winddir9am</th>\n",
       "      <th>...</th>\n",
       "      <th>pressure3pm</th>\n",
       "      <th>cloud9am</th>\n",
       "      <th>cloud3pm</th>\n",
       "      <th>temp9am</th>\n",
       "      <th>temp3pm</th>\n",
       "      <th>raintoday</th>\n",
       "      <th>raintomorrow</th>\n",
       "      <th>year</th>\n",
       "      <th>month</th>\n",
       "      <th>day</th>\n",
       "    </tr>\n",
       "  </thead>\n",
       "  <tbody>\n",
       "    <tr>\n",
       "      <th>0</th>\n",
       "      <td>2008-12-01</td>\n",
       "      <td>Albury</td>\n",
       "      <td>13.4</td>\n",
       "      <td>22.9</td>\n",
       "      <td>0.6</td>\n",
       "      <td>NaN</td>\n",
       "      <td>NaN</td>\n",
       "      <td>W</td>\n",
       "      <td>44.0</td>\n",
       "      <td>W</td>\n",
       "      <td>...</td>\n",
       "      <td>1007.1</td>\n",
       "      <td>8.0</td>\n",
       "      <td>NaN</td>\n",
       "      <td>16.9</td>\n",
       "      <td>21.8</td>\n",
       "      <td>No</td>\n",
       "      <td>No</td>\n",
       "      <td>2008</td>\n",
       "      <td>12</td>\n",
       "      <td>1</td>\n",
       "    </tr>\n",
       "    <tr>\n",
       "      <th>1</th>\n",
       "      <td>2008-12-02</td>\n",
       "      <td>Albury</td>\n",
       "      <td>7.4</td>\n",
       "      <td>25.1</td>\n",
       "      <td>0.0</td>\n",
       "      <td>NaN</td>\n",
       "      <td>NaN</td>\n",
       "      <td>WNW</td>\n",
       "      <td>44.0</td>\n",
       "      <td>NNW</td>\n",
       "      <td>...</td>\n",
       "      <td>1007.8</td>\n",
       "      <td>NaN</td>\n",
       "      <td>NaN</td>\n",
       "      <td>17.2</td>\n",
       "      <td>24.3</td>\n",
       "      <td>No</td>\n",
       "      <td>No</td>\n",
       "      <td>2008</td>\n",
       "      <td>12</td>\n",
       "      <td>2</td>\n",
       "    </tr>\n",
       "    <tr>\n",
       "      <th>2</th>\n",
       "      <td>2008-12-03</td>\n",
       "      <td>Albury</td>\n",
       "      <td>12.9</td>\n",
       "      <td>25.7</td>\n",
       "      <td>0.0</td>\n",
       "      <td>NaN</td>\n",
       "      <td>NaN</td>\n",
       "      <td>WSW</td>\n",
       "      <td>46.0</td>\n",
       "      <td>W</td>\n",
       "      <td>...</td>\n",
       "      <td>1008.7</td>\n",
       "      <td>NaN</td>\n",
       "      <td>2.0</td>\n",
       "      <td>21.0</td>\n",
       "      <td>23.2</td>\n",
       "      <td>No</td>\n",
       "      <td>No</td>\n",
       "      <td>2008</td>\n",
       "      <td>12</td>\n",
       "      <td>3</td>\n",
       "    </tr>\n",
       "    <tr>\n",
       "      <th>3</th>\n",
       "      <td>2008-12-04</td>\n",
       "      <td>Albury</td>\n",
       "      <td>9.2</td>\n",
       "      <td>28.0</td>\n",
       "      <td>0.0</td>\n",
       "      <td>NaN</td>\n",
       "      <td>NaN</td>\n",
       "      <td>NE</td>\n",
       "      <td>24.0</td>\n",
       "      <td>SE</td>\n",
       "      <td>...</td>\n",
       "      <td>1012.8</td>\n",
       "      <td>NaN</td>\n",
       "      <td>NaN</td>\n",
       "      <td>18.1</td>\n",
       "      <td>26.5</td>\n",
       "      <td>No</td>\n",
       "      <td>No</td>\n",
       "      <td>2008</td>\n",
       "      <td>12</td>\n",
       "      <td>4</td>\n",
       "    </tr>\n",
       "    <tr>\n",
       "      <th>4</th>\n",
       "      <td>2008-12-05</td>\n",
       "      <td>Albury</td>\n",
       "      <td>17.5</td>\n",
       "      <td>32.3</td>\n",
       "      <td>1.0</td>\n",
       "      <td>NaN</td>\n",
       "      <td>NaN</td>\n",
       "      <td>W</td>\n",
       "      <td>41.0</td>\n",
       "      <td>ENE</td>\n",
       "      <td>...</td>\n",
       "      <td>1006.0</td>\n",
       "      <td>7.0</td>\n",
       "      <td>8.0</td>\n",
       "      <td>17.8</td>\n",
       "      <td>29.7</td>\n",
       "      <td>No</td>\n",
       "      <td>No</td>\n",
       "      <td>2008</td>\n",
       "      <td>12</td>\n",
       "      <td>5</td>\n",
       "    </tr>\n",
       "  </tbody>\n",
       "</table>\n",
       "<p>5 rows × 26 columns</p>\n",
       "</div>"
      ],
      "text/plain": [
       "        date location  mintemp  maxtemp  rainfall  evaporation  sunshine  \\\n",
       "0 2008-12-01   Albury     13.4     22.9       0.6          NaN       NaN   \n",
       "1 2008-12-02   Albury      7.4     25.1       0.0          NaN       NaN   \n",
       "2 2008-12-03   Albury     12.9     25.7       0.0          NaN       NaN   \n",
       "3 2008-12-04   Albury      9.2     28.0       0.0          NaN       NaN   \n",
       "4 2008-12-05   Albury     17.5     32.3       1.0          NaN       NaN   \n",
       "\n",
       "  windgustdir  windgustspeed winddir9am  ... pressure3pm  cloud9am  cloud3pm  \\\n",
       "0           W           44.0          W  ...      1007.1       8.0       NaN   \n",
       "1         WNW           44.0        NNW  ...      1007.8       NaN       NaN   \n",
       "2         WSW           46.0          W  ...      1008.7       NaN       2.0   \n",
       "3          NE           24.0         SE  ...      1012.8       NaN       NaN   \n",
       "4           W           41.0        ENE  ...      1006.0       7.0       8.0   \n",
       "\n",
       "   temp9am  temp3pm  raintoday  raintomorrow  year  month  day  \n",
       "0     16.9     21.8         No            No  2008     12    1  \n",
       "1     17.2     24.3         No            No  2008     12    2  \n",
       "2     21.0     23.2         No            No  2008     12    3  \n",
       "3     18.1     26.5         No            No  2008     12    4  \n",
       "4     17.8     29.7         No            No  2008     12    5  \n",
       "\n",
       "[5 rows x 26 columns]"
      ]
     },
     "execution_count": 21,
     "metadata": {},
     "output_type": "execute_result"
    }
   ],
   "source": [
    "#To check if we did everythin OK\n",
    "df.head()"
   ]
  },
  {
   "cell_type": "code",
   "execution_count": 22,
   "metadata": {},
   "outputs": [],
   "source": [
    "#remove original Date column\n",
    "df.drop('date', axis=1, inplace=True)"
   ]
  },
  {
   "cell_type": "markdown",
   "metadata": {},
   "source": [
    "Now lets check numerical columns"
   ]
  },
  {
   "cell_type": "code",
   "execution_count": 23,
   "metadata": {},
   "outputs": [
    {
     "name": "stdout",
     "output_type": "stream",
     "text": [
      "There are 19 : ['mintemp', 'maxtemp', 'rainfall', 'evaporation', 'sunshine', 'windgustspeed', 'windspeed9am', 'windspeed3pm', 'humidity9am', 'humidity3pm', 'pressure9am', 'pressure3pm', 'cloud9am', 'cloud3pm', 'temp9am', 'temp3pm', 'year', 'month', 'day']:\n"
     ]
    }
   ],
   "source": [
    "numerical_columns = list(df.dtypes[df.dtypes != 'object'].index)\n",
    "print(f\"There are {19} : {numerical_columns}:\")"
   ]
  },
  {
   "cell_type": "markdown",
   "metadata": {},
   "source": [
    "In numerical values, from the initial look, we have mssing values and outliers, \n",
    "maybe we need to apply also log1p!"
   ]
  },
  {
   "cell_type": "markdown",
   "metadata": {},
   "source": [
    "For outlier detection I will use https://pub.towardsai.net/outlier-detection-and-treatment-a-beginners-guide-c44af0699754 tutorial."
   ]
  },
  {
   "cell_type": "code",
   "execution_count": 24,
   "metadata": {},
   "outputs": [],
   "source": [
    "# mapping \n",
    "rain_map = {'Yes':1, 'No':0}\n",
    "df['raintomorrow'] = df['raintomorrow'].map(rain_map)"
   ]
  },
  {
   "cell_type": "code",
   "execution_count": 25,
   "metadata": {},
   "outputs": [
    {
     "data": {
      "text/html": [
       "<div>\n",
       "<style scoped>\n",
       "    .dataframe tbody tr th:only-of-type {\n",
       "        vertical-align: middle;\n",
       "    }\n",
       "\n",
       "    .dataframe tbody tr th {\n",
       "        vertical-align: top;\n",
       "    }\n",
       "\n",
       "    .dataframe thead th {\n",
       "        text-align: right;\n",
       "    }\n",
       "</style>\n",
       "<table border=\"1\" class=\"dataframe\">\n",
       "  <thead>\n",
       "    <tr style=\"text-align: right;\">\n",
       "      <th></th>\n",
       "      <th>location</th>\n",
       "      <th>mintemp</th>\n",
       "      <th>maxtemp</th>\n",
       "      <th>rainfall</th>\n",
       "      <th>evaporation</th>\n",
       "      <th>sunshine</th>\n",
       "      <th>windgustdir</th>\n",
       "      <th>windgustspeed</th>\n",
       "      <th>winddir9am</th>\n",
       "      <th>winddir3pm</th>\n",
       "      <th>...</th>\n",
       "      <th>pressure3pm</th>\n",
       "      <th>cloud9am</th>\n",
       "      <th>cloud3pm</th>\n",
       "      <th>temp9am</th>\n",
       "      <th>temp3pm</th>\n",
       "      <th>raintoday</th>\n",
       "      <th>raintomorrow</th>\n",
       "      <th>year</th>\n",
       "      <th>month</th>\n",
       "      <th>day</th>\n",
       "    </tr>\n",
       "  </thead>\n",
       "  <tbody>\n",
       "    <tr>\n",
       "      <th>56780</th>\n",
       "      <td>Ballarat</td>\n",
       "      <td>4.1</td>\n",
       "      <td>12.6</td>\n",
       "      <td>6.6</td>\n",
       "      <td>NaN</td>\n",
       "      <td>NaN</td>\n",
       "      <td>SW</td>\n",
       "      <td>46.0</td>\n",
       "      <td>SSW</td>\n",
       "      <td>SSW</td>\n",
       "      <td>...</td>\n",
       "      <td>1021.0</td>\n",
       "      <td>NaN</td>\n",
       "      <td>8.0</td>\n",
       "      <td>6.8</td>\n",
       "      <td>10.7</td>\n",
       "      <td>Yes</td>\n",
       "      <td>0</td>\n",
       "      <td>2013</td>\n",
       "      <td>10</td>\n",
       "      <td>3</td>\n",
       "    </tr>\n",
       "    <tr>\n",
       "      <th>137626</th>\n",
       "      <td>AliceSprings</td>\n",
       "      <td>10.4</td>\n",
       "      <td>17.2</td>\n",
       "      <td>0.0</td>\n",
       "      <td>6.6</td>\n",
       "      <td>0.6</td>\n",
       "      <td>SSE</td>\n",
       "      <td>39.0</td>\n",
       "      <td>SSE</td>\n",
       "      <td>SE</td>\n",
       "      <td>...</td>\n",
       "      <td>1021.7</td>\n",
       "      <td>8.0</td>\n",
       "      <td>8.0</td>\n",
       "      <td>13.1</td>\n",
       "      <td>16.5</td>\n",
       "      <td>No</td>\n",
       "      <td>0</td>\n",
       "      <td>2013</td>\n",
       "      <td>6</td>\n",
       "      <td>2</td>\n",
       "    </tr>\n",
       "    <tr>\n",
       "      <th>135455</th>\n",
       "      <td>Launceston</td>\n",
       "      <td>3.4</td>\n",
       "      <td>19.1</td>\n",
       "      <td>0.0</td>\n",
       "      <td>NaN</td>\n",
       "      <td>NaN</td>\n",
       "      <td>NW</td>\n",
       "      <td>33.0</td>\n",
       "      <td>NNE</td>\n",
       "      <td>NW</td>\n",
       "      <td>...</td>\n",
       "      <td>NaN</td>\n",
       "      <td>NaN</td>\n",
       "      <td>1.0</td>\n",
       "      <td>10.8</td>\n",
       "      <td>18.7</td>\n",
       "      <td>No</td>\n",
       "      <td>0</td>\n",
       "      <td>2015</td>\n",
       "      <td>10</td>\n",
       "      <td>19</td>\n",
       "    </tr>\n",
       "    <tr>\n",
       "      <th>39438</th>\n",
       "      <td>WaggaWagga</td>\n",
       "      <td>13.5</td>\n",
       "      <td>32.1</td>\n",
       "      <td>0.0</td>\n",
       "      <td>NaN</td>\n",
       "      <td>NaN</td>\n",
       "      <td>NE</td>\n",
       "      <td>44.0</td>\n",
       "      <td>SSE</td>\n",
       "      <td>E</td>\n",
       "      <td>...</td>\n",
       "      <td>1020.9</td>\n",
       "      <td>NaN</td>\n",
       "      <td>NaN</td>\n",
       "      <td>20.6</td>\n",
       "      <td>31.0</td>\n",
       "      <td>No</td>\n",
       "      <td>0</td>\n",
       "      <td>2017</td>\n",
       "      <td>3</td>\n",
       "      <td>18</td>\n",
       "    </tr>\n",
       "    <tr>\n",
       "      <th>50904</th>\n",
       "      <td>Tuggeranong</td>\n",
       "      <td>5.2</td>\n",
       "      <td>14.8</td>\n",
       "      <td>0.0</td>\n",
       "      <td>NaN</td>\n",
       "      <td>NaN</td>\n",
       "      <td>WSW</td>\n",
       "      <td>11.0</td>\n",
       "      <td>WNW</td>\n",
       "      <td>SW</td>\n",
       "      <td>...</td>\n",
       "      <td>1019.1</td>\n",
       "      <td>NaN</td>\n",
       "      <td>NaN</td>\n",
       "      <td>12.3</td>\n",
       "      <td>14.4</td>\n",
       "      <td>No</td>\n",
       "      <td>0</td>\n",
       "      <td>2014</td>\n",
       "      <td>4</td>\n",
       "      <td>25</td>\n",
       "    </tr>\n",
       "    <tr>\n",
       "      <th>77566</th>\n",
       "      <td>Portland</td>\n",
       "      <td>14.3</td>\n",
       "      <td>19.4</td>\n",
       "      <td>6.4</td>\n",
       "      <td>2.4</td>\n",
       "      <td>NaN</td>\n",
       "      <td>NNW</td>\n",
       "      <td>43.0</td>\n",
       "      <td>NNW</td>\n",
       "      <td>NW</td>\n",
       "      <td>...</td>\n",
       "      <td>1010.0</td>\n",
       "      <td>7.0</td>\n",
       "      <td>NaN</td>\n",
       "      <td>15.9</td>\n",
       "      <td>19.0</td>\n",
       "      <td>Yes</td>\n",
       "      <td>1</td>\n",
       "      <td>2016</td>\n",
       "      <td>4</td>\n",
       "      <td>29</td>\n",
       "    </tr>\n",
       "    <tr>\n",
       "      <th>50862</th>\n",
       "      <td>Tuggeranong</td>\n",
       "      <td>14.9</td>\n",
       "      <td>27.1</td>\n",
       "      <td>0.0</td>\n",
       "      <td>NaN</td>\n",
       "      <td>NaN</td>\n",
       "      <td>NNW</td>\n",
       "      <td>30.0</td>\n",
       "      <td>E</td>\n",
       "      <td>NNW</td>\n",
       "      <td>...</td>\n",
       "      <td>1013.1</td>\n",
       "      <td>NaN</td>\n",
       "      <td>NaN</td>\n",
       "      <td>19.2</td>\n",
       "      <td>24.7</td>\n",
       "      <td>No</td>\n",
       "      <td>0</td>\n",
       "      <td>2014</td>\n",
       "      <td>3</td>\n",
       "      <td>14</td>\n",
       "    </tr>\n",
       "    <tr>\n",
       "      <th>123604</th>\n",
       "      <td>Perth</td>\n",
       "      <td>11.2</td>\n",
       "      <td>21.2</td>\n",
       "      <td>0.4</td>\n",
       "      <td>6.0</td>\n",
       "      <td>10.0</td>\n",
       "      <td>SW</td>\n",
       "      <td>39.0</td>\n",
       "      <td>WSW</td>\n",
       "      <td>SW</td>\n",
       "      <td>...</td>\n",
       "      <td>1016.4</td>\n",
       "      <td>5.0</td>\n",
       "      <td>4.0</td>\n",
       "      <td>17.9</td>\n",
       "      <td>19.2</td>\n",
       "      <td>No</td>\n",
       "      <td>0</td>\n",
       "      <td>2016</td>\n",
       "      <td>11</td>\n",
       "      <td>11</td>\n",
       "    </tr>\n",
       "    <tr>\n",
       "      <th>29240</th>\n",
       "      <td>Richmond</td>\n",
       "      <td>19.7</td>\n",
       "      <td>37.7</td>\n",
       "      <td>0.0</td>\n",
       "      <td>NaN</td>\n",
       "      <td>NaN</td>\n",
       "      <td>SW</td>\n",
       "      <td>80.0</td>\n",
       "      <td>ENE</td>\n",
       "      <td>WSW</td>\n",
       "      <td>...</td>\n",
       "      <td>1007.5</td>\n",
       "      <td>NaN</td>\n",
       "      <td>NaN</td>\n",
       "      <td>25.6</td>\n",
       "      <td>37.7</td>\n",
       "      <td>No</td>\n",
       "      <td>1</td>\n",
       "      <td>2014</td>\n",
       "      <td>12</td>\n",
       "      <td>3</td>\n",
       "    </tr>\n",
       "    <tr>\n",
       "      <th>72493</th>\n",
       "      <td>Mildura</td>\n",
       "      <td>11.2</td>\n",
       "      <td>28.4</td>\n",
       "      <td>0.0</td>\n",
       "      <td>14.6</td>\n",
       "      <td>12.5</td>\n",
       "      <td>SW</td>\n",
       "      <td>46.0</td>\n",
       "      <td>WSW</td>\n",
       "      <td>SW</td>\n",
       "      <td>...</td>\n",
       "      <td>1013.0</td>\n",
       "      <td>7.0</td>\n",
       "      <td>4.0</td>\n",
       "      <td>17.6</td>\n",
       "      <td>25.7</td>\n",
       "      <td>No</td>\n",
       "      <td>0</td>\n",
       "      <td>2014</td>\n",
       "      <td>12</td>\n",
       "      <td>30</td>\n",
       "    </tr>\n",
       "    <tr>\n",
       "      <th>57454</th>\n",
       "      <td>Ballarat</td>\n",
       "      <td>3.6</td>\n",
       "      <td>10.8</td>\n",
       "      <td>0.0</td>\n",
       "      <td>NaN</td>\n",
       "      <td>NaN</td>\n",
       "      <td>WSW</td>\n",
       "      <td>22.0</td>\n",
       "      <td>WSW</td>\n",
       "      <td>N</td>\n",
       "      <td>...</td>\n",
       "      <td>1023.0</td>\n",
       "      <td>3.0</td>\n",
       "      <td>8.0</td>\n",
       "      <td>6.8</td>\n",
       "      <td>10.2</td>\n",
       "      <td>No</td>\n",
       "      <td>0</td>\n",
       "      <td>2015</td>\n",
       "      <td>8</td>\n",
       "      <td>8</td>\n",
       "    </tr>\n",
       "    <tr>\n",
       "      <th>34660</th>\n",
       "      <td>SydneyAirport</td>\n",
       "      <td>20.2</td>\n",
       "      <td>31.3</td>\n",
       "      <td>0.0</td>\n",
       "      <td>7.8</td>\n",
       "      <td>10.3</td>\n",
       "      <td>NNE</td>\n",
       "      <td>50.0</td>\n",
       "      <td>NNE</td>\n",
       "      <td>NE</td>\n",
       "      <td>...</td>\n",
       "      <td>1009.1</td>\n",
       "      <td>2.0</td>\n",
       "      <td>2.0</td>\n",
       "      <td>24.4</td>\n",
       "      <td>27.2</td>\n",
       "      <td>No</td>\n",
       "      <td>1</td>\n",
       "      <td>2012</td>\n",
       "      <td>3</td>\n",
       "      <td>16</td>\n",
       "    </tr>\n",
       "    <tr>\n",
       "      <th>141916</th>\n",
       "      <td>Darwin</td>\n",
       "      <td>23.5</td>\n",
       "      <td>33.4</td>\n",
       "      <td>0.0</td>\n",
       "      <td>6.8</td>\n",
       "      <td>10.1</td>\n",
       "      <td>NNW</td>\n",
       "      <td>30.0</td>\n",
       "      <td>SSE</td>\n",
       "      <td>NNW</td>\n",
       "      <td>...</td>\n",
       "      <td>1010.6</td>\n",
       "      <td>1.0</td>\n",
       "      <td>2.0</td>\n",
       "      <td>28.5</td>\n",
       "      <td>31.5</td>\n",
       "      <td>No</td>\n",
       "      <td>0</td>\n",
       "      <td>2016</td>\n",
       "      <td>6</td>\n",
       "      <td>3</td>\n",
       "    </tr>\n",
       "    <tr>\n",
       "      <th>67099</th>\n",
       "      <td>MelbourneAirport</td>\n",
       "      <td>13.0</td>\n",
       "      <td>21.9</td>\n",
       "      <td>0.0</td>\n",
       "      <td>2.8</td>\n",
       "      <td>11.3</td>\n",
       "      <td>S</td>\n",
       "      <td>44.0</td>\n",
       "      <td>SE</td>\n",
       "      <td>S</td>\n",
       "      <td>...</td>\n",
       "      <td>1024.0</td>\n",
       "      <td>1.0</td>\n",
       "      <td>0.0</td>\n",
       "      <td>16.3</td>\n",
       "      <td>21.1</td>\n",
       "      <td>No</td>\n",
       "      <td>0</td>\n",
       "      <td>2017</td>\n",
       "      <td>3</td>\n",
       "      <td>17</td>\n",
       "    </tr>\n",
       "    <tr>\n",
       "      <th>117231</th>\n",
       "      <td>PearceRAAF</td>\n",
       "      <td>13.6</td>\n",
       "      <td>19.5</td>\n",
       "      <td>16.2</td>\n",
       "      <td>NaN</td>\n",
       "      <td>6.1</td>\n",
       "      <td>N</td>\n",
       "      <td>57.0</td>\n",
       "      <td>SSW</td>\n",
       "      <td>WSW</td>\n",
       "      <td>...</td>\n",
       "      <td>1007.9</td>\n",
       "      <td>8.0</td>\n",
       "      <td>1.0</td>\n",
       "      <td>15.9</td>\n",
       "      <td>18.1</td>\n",
       "      <td>Yes</td>\n",
       "      <td>0</td>\n",
       "      <td>2016</td>\n",
       "      <td>5</td>\n",
       "      <td>24</td>\n",
       "    </tr>\n",
       "  </tbody>\n",
       "</table>\n",
       "<p>15 rows × 25 columns</p>\n",
       "</div>"
      ],
      "text/plain": [
       "                location  mintemp  maxtemp  rainfall  evaporation  sunshine  \\\n",
       "56780           Ballarat      4.1     12.6       6.6          NaN       NaN   \n",
       "137626      AliceSprings     10.4     17.2       0.0          6.6       0.6   \n",
       "135455        Launceston      3.4     19.1       0.0          NaN       NaN   \n",
       "39438         WaggaWagga     13.5     32.1       0.0          NaN       NaN   \n",
       "50904        Tuggeranong      5.2     14.8       0.0          NaN       NaN   \n",
       "77566           Portland     14.3     19.4       6.4          2.4       NaN   \n",
       "50862        Tuggeranong     14.9     27.1       0.0          NaN       NaN   \n",
       "123604             Perth     11.2     21.2       0.4          6.0      10.0   \n",
       "29240           Richmond     19.7     37.7       0.0          NaN       NaN   \n",
       "72493            Mildura     11.2     28.4       0.0         14.6      12.5   \n",
       "57454           Ballarat      3.6     10.8       0.0          NaN       NaN   \n",
       "34660      SydneyAirport     20.2     31.3       0.0          7.8      10.3   \n",
       "141916            Darwin     23.5     33.4       0.0          6.8      10.1   \n",
       "67099   MelbourneAirport     13.0     21.9       0.0          2.8      11.3   \n",
       "117231        PearceRAAF     13.6     19.5      16.2          NaN       6.1   \n",
       "\n",
       "       windgustdir  windgustspeed winddir9am winddir3pm  ...  pressure3pm  \\\n",
       "56780           SW           46.0        SSW        SSW  ...       1021.0   \n",
       "137626         SSE           39.0        SSE         SE  ...       1021.7   \n",
       "135455          NW           33.0        NNE         NW  ...          NaN   \n",
       "39438           NE           44.0        SSE          E  ...       1020.9   \n",
       "50904          WSW           11.0        WNW         SW  ...       1019.1   \n",
       "77566          NNW           43.0        NNW         NW  ...       1010.0   \n",
       "50862          NNW           30.0          E        NNW  ...       1013.1   \n",
       "123604          SW           39.0        WSW         SW  ...       1016.4   \n",
       "29240           SW           80.0        ENE        WSW  ...       1007.5   \n",
       "72493           SW           46.0        WSW         SW  ...       1013.0   \n",
       "57454          WSW           22.0        WSW          N  ...       1023.0   \n",
       "34660          NNE           50.0        NNE         NE  ...       1009.1   \n",
       "141916         NNW           30.0        SSE        NNW  ...       1010.6   \n",
       "67099            S           44.0         SE          S  ...       1024.0   \n",
       "117231           N           57.0        SSW        WSW  ...       1007.9   \n",
       "\n",
       "        cloud9am  cloud3pm  temp9am  temp3pm  raintoday  raintomorrow  year  \\\n",
       "56780        NaN       8.0      6.8     10.7        Yes             0  2013   \n",
       "137626       8.0       8.0     13.1     16.5         No             0  2013   \n",
       "135455       NaN       1.0     10.8     18.7         No             0  2015   \n",
       "39438        NaN       NaN     20.6     31.0         No             0  2017   \n",
       "50904        NaN       NaN     12.3     14.4         No             0  2014   \n",
       "77566        7.0       NaN     15.9     19.0        Yes             1  2016   \n",
       "50862        NaN       NaN     19.2     24.7         No             0  2014   \n",
       "123604       5.0       4.0     17.9     19.2         No             0  2016   \n",
       "29240        NaN       NaN     25.6     37.7         No             1  2014   \n",
       "72493        7.0       4.0     17.6     25.7         No             0  2014   \n",
       "57454        3.0       8.0      6.8     10.2         No             0  2015   \n",
       "34660        2.0       2.0     24.4     27.2         No             1  2012   \n",
       "141916       1.0       2.0     28.5     31.5         No             0  2016   \n",
       "67099        1.0       0.0     16.3     21.1         No             0  2017   \n",
       "117231       8.0       1.0     15.9     18.1        Yes             0  2016   \n",
       "\n",
       "        month  day  \n",
       "56780      10    3  \n",
       "137626      6    2  \n",
       "135455     10   19  \n",
       "39438       3   18  \n",
       "50904       4   25  \n",
       "77566       4   29  \n",
       "50862       3   14  \n",
       "123604     11   11  \n",
       "29240      12    3  \n",
       "72493      12   30  \n",
       "57454       8    8  \n",
       "34660       3   16  \n",
       "141916      6    3  \n",
       "67099       3   17  \n",
       "117231      5   24  \n",
       "\n",
       "[15 rows x 25 columns]"
      ]
     },
     "execution_count": 25,
     "metadata": {},
     "output_type": "execute_result"
    }
   ],
   "source": [
    "df.sample(15)"
   ]
  },
  {
   "cell_type": "markdown",
   "metadata": {},
   "source": [
    "Taking care of missing values!"
   ]
  },
  {
   "cell_type": "code",
   "execution_count": 26,
   "metadata": {},
   "outputs": [],
   "source": [
    "df[\"mintemp\"]= df[\"mintemp\"].fillna(df[\"mintemp\"].mean())\n",
    "df[\"maxtemp\"]= df[\"maxtemp\"].fillna(df[\"maxtemp\"].mean())\n",
    "df[\"evaporation\"]= df[\"evaporation\"].fillna(df[\"evaporation\"].mean())\n",
    "df[\"sunshine\"]= df[\"sunshine\"].fillna(df[\"sunshine\"].mean())\n",
    "df[\"windgustspeed\"]= df[\"windgustspeed\"].fillna(df[\"windgustspeed\"].mean())\n",
    "df[\"rainfall\"]= df[\"rainfall\"].fillna(df[\"rainfall\"].mean())\n",
    "df[\"windspeed9am\"]= df[\"windspeed9am\"].fillna(df[\"windspeed9am\"].mean())\n",
    "df[\"windspeed3pm\"]= df[\"windspeed3pm\"].fillna(df[\"windspeed3pm\"].mean())\n",
    "df[\"humidity9am\"]= df[\"humidity9am\"].fillna(df[\"humidity9am\"].mean())\n",
    "df[\"humidity3pm\"]= df[\"humidity3pm\"].fillna(df[\"humidity3pm\"].mean())\n",
    "df[\"pressure9am\"]= df[\"pressure9am\"].fillna(df[\"pressure9am\"].mean())\n",
    "df[\"pressure3pm\"]= df[\"pressure3pm\"].fillna(df[\"pressure3pm\"].mean())\n",
    "df[\"cloud9am\"]= df[\"cloud9am\"].fillna(df[\"cloud9am\"].mean())\n",
    "df[\"cloud3pm\"]= df[\"cloud3pm\"].fillna(df[\"cloud3pm\"].mean())\n",
    "df[\"temp9am\"]= df[\"temp9am\"].fillna(df[\"temp9am\"].mean())\n",
    "df[\"temp3pm\"]= df[\"temp3pm\"].fillna(df[\"temp3pm\"].mean())\n",
    "\n",
    "\n",
    "#Filling the missing values for continuous variables with mode\n",
    "df['winddir9am'] = df['winddir9am'].fillna(df['winddir9am'].mode()[0])\n",
    "df['windgustdir'] = df['windgustdir'].fillna(df['windgustdir'].mode()[0])\n",
    "df['winddir3pm'] = df['winddir3pm'].fillna(df['winddir3pm'].mode()[0])"
   ]
  },
  {
   "cell_type": "markdown",
   "metadata": {},
   "source": [
    "Now let's split the data into a test, validation, train sets"
   ]
  },
  {
   "cell_type": "code",
   "execution_count": 27,
   "metadata": {},
   "outputs": [],
   "source": [
    "df_temp, df_test = train_test_split(df, test_size=0.2, random_state=42)\n",
    "df_train, df_val = train_test_split(df_temp, test_size=0.25, random_state=42)"
   ]
  },
  {
   "cell_type": "code",
   "execution_count": 28,
   "metadata": {},
   "outputs": [],
   "source": [
    "y_train = df_train[\"raintomorrow\"]  # dependent or target\n",
    "y_test = df_test[\"raintomorrow\"] \n",
    "y_val = df_val[\"raintomorrow\"] \n",
    "\n",
    "df_train = df_train.drop([\"raintomorrow\"], axis = 1)\n",
    "df_test = df_test.drop([\"raintomorrow\"], axis = 1)\n",
    "df_val = df_val.drop([\"raintomorrow\"], axis = 1)"
   ]
  },
  {
   "cell_type": "code",
   "execution_count": 29,
   "metadata": {},
   "outputs": [
    {
     "name": "stdout",
     "output_type": "stream",
     "text": [
      "The size of the train data is: (84471, 24) \n",
      "The size of the test data is: (28158, 24) \n",
      "The size of validation data is: (28158, 24)\n"
     ]
    }
   ],
   "source": [
    "#To check how the correctly the data was splitted\n",
    "print(f'The size of the train data is: {df_train.shape} \\nThe size of the test data is: {df_test.shape} \\nThe size of validation data is: {df_val.shape}')"
   ]
  },
  {
   "cell_type": "code",
   "execution_count": 30,
   "metadata": {},
   "outputs": [
    {
     "data": {
      "text/plain": [
       "Index(['location', 'mintemp', 'maxtemp', 'rainfall', 'evaporation', 'sunshine',\n",
       "       'windgustdir', 'windgustspeed', 'winddir9am', 'winddir3pm',\n",
       "       'windspeed9am', 'windspeed3pm', 'humidity9am', 'humidity3pm',\n",
       "       'pressure9am', 'pressure3pm', 'cloud9am', 'cloud3pm', 'temp9am',\n",
       "       'temp3pm', 'raintoday', 'year', 'month', 'day'],\n",
       "      dtype='object')"
      ]
     },
     "execution_count": 30,
     "metadata": {},
     "output_type": "execute_result"
    }
   ],
   "source": [
    "df_train.columns"
   ]
  },
  {
   "cell_type": "code",
   "execution_count": 31,
   "metadata": {},
   "outputs": [],
   "source": [
    "df_train = df_train.reset_index(drop=True)\n",
    "df_val = df_val.reset_index(drop=True)\n",
    "df_test = df_test.reset_index(drop=True)\n"
   ]
  },
  {
   "cell_type": "code",
   "execution_count": 32,
   "metadata": {},
   "outputs": [],
   "source": [
    "X_train = df_train\n",
    "X_val = df_val\n",
    "X_test = df_test"
   ]
  },
  {
   "cell_type": "code",
   "execution_count": 33,
   "metadata": {},
   "outputs": [],
   "source": [
    "from sklearn.feature_extraction import DictVectorizer\n",
    "dv = DictVectorizer(sparse=False)\n",
    "\n",
    "dict_train = df_train.to_dict(orient='records')\n",
    "X_train = dv.fit_transform(dict_train)\n",
    "\n",
    "dict_val = df_val.to_dict(orient='records')\n",
    "X_val = dv.transform(dict_val)\n",
    "\n",
    "dict_test = df_test.to_dict(orient='records')\n",
    "X_test = dv.transform(dict_test)"
   ]
  },
  {
   "cell_type": "code",
   "execution_count": 34,
   "metadata": {},
   "outputs": [
    {
     "data": {
      "text/plain": [
       "0.7016947074122267"
      ]
     },
     "execution_count": 34,
     "metadata": {},
     "output_type": "execute_result"
    }
   ],
   "source": [
    "from sklearn.tree import DecisionTreeClassifier\n",
    "from sklearn.metrics import roc_auc_score\n",
    "\n",
    "dt = DecisionTreeClassifier()\n",
    "dt.fit(X_train, y_train)\n",
    "\n",
    "y_pred = dt.predict_proba(X_val)[:, 1]\n",
    "roc_auc_score(y_val, y_pred)"
   ]
  },
  {
   "cell_type": "code",
   "execution_count": 35,
   "metadata": {},
   "outputs": [],
   "source": [
    "dtrain = xgb.DMatrix(X_train, label=y_train, feature_names=dv.feature_names_)\n",
    "dval = xgb.DMatrix(X_val, label=y_val, feature_names=dv.feature_names_)\n"
   ]
  },
  {
   "cell_type": "code",
   "execution_count": 36,
   "metadata": {},
   "outputs": [],
   "source": [
    "xgb_params = {\n",
    " 'eta': 0.3,\n",
    " 'max_depth': 6,\n",
    " 'min_child_weight': 1,\n",
    " 'objective': 'binary:logistic',\n",
    " 'nthread': -1,\n",
    " 'seed': 1,\n",
    " 'silent': 1\n",
    "}"
   ]
  },
  {
   "cell_type": "code",
   "execution_count": 37,
   "metadata": {},
   "outputs": [
    {
     "name": "stdout",
     "output_type": "stream",
     "text": [
      "[23:34:04] WARNING: C:/buildkite-agent/builds/buildkite-windows-cpu-autoscaling-group-i-03de431ba26204c4d-1/xgboost/xgboost-ci-windows/src/learner.cc:767: \n",
      "Parameters: { \"silent\" } are not used.\n",
      "\n"
     ]
    }
   ],
   "source": [
    "model = xgb.train(xgb_params, dtrain, num_boost_round=10)\n"
   ]
  },
  {
   "cell_type": "code",
   "execution_count": 38,
   "metadata": {},
   "outputs": [
    {
     "data": {
      "text/plain": [
       "0.874995822675773"
      ]
     },
     "execution_count": 38,
     "metadata": {},
     "output_type": "execute_result"
    }
   ],
   "source": [
    "y_pred = model.predict(dval)\n",
    "roc_auc_score(y_val, y_pred)\n"
   ]
  },
  {
   "cell_type": "code",
   "execution_count": 39,
   "metadata": {},
   "outputs": [],
   "source": [
    "from sklearn.metrics import accuracy_score"
   ]
  },
  {
   "cell_type": "code",
   "execution_count": 59,
   "metadata": {},
   "outputs": [],
   "source": [
    "import optuna\n",
    "from optuna.samplers import TPESampler"
   ]
  },
  {
   "cell_type": "code",
   "execution_count": 49,
   "metadata": {},
   "outputs": [],
   "source": [
    "def objective(trial):\n",
    "    dtrain = xgb.DMatrix(X_train, label=y_train)\n",
    "    dtest = xgb.DMatrix(X_val, label=y_val)\n",
    "\n",
    "    param = {\n",
    "        \"max_depth\" : trial.suggest_int(\"max_depth\", 2, 10, step=1, log=False),\n",
    "        \"eta\": trial.suggest_float(\"eta\", 0.05, 1, step=0.05, log=False),\n",
    "        \"objective\": \"binary:logistic\",\n",
    "        \"eval_metric\": \"auc\",\n",
    "        \"booster\": trial.suggest_categorical(\"booster\", [\"gbtree\", \"gblinear\", \"dart\"]),\n",
    "        #\"lambda\": trial.suggest_loguniform(\"lambda\", 1e-8, 1.0),\n",
    "        #\"alpha\": trial.suggest_loguniform(\"alpha\", 1e-8, 1.0),\n",
    "    }\n",
    "    # Add a callback for pruning.\n",
    "    pruning_callback = optuna.integration.XGBoostPruningCallback(trial, \"validation-auc\")\n",
    "    bst = xgb.train(param, dtrain, evals=[(dtest, \"validation\")], callbacks=[pruning_callback])\n",
    "    preds = bst.predict(dtest)\n",
    "    pred_labels = np.rint(preds)\n",
    "    accuracy = accuracy_score(y_val, pred_labels)\n",
    "    return accuracy"
   ]
  },
  {
   "cell_type": "code",
   "execution_count": 60,
   "metadata": {},
   "outputs": [
    {
     "name": "stdout",
     "output_type": "stream",
     "text": [
      "[0]\tvalidation-auc:0.83622\n",
      "[1]\tvalidation-auc:0.85635\n",
      "[2]\tvalidation-auc:0.86411\n",
      "[3]\tvalidation-auc:0.86715\n",
      "[4]\tvalidation-auc:0.86884\n",
      "[5]\tvalidation-auc:0.87140\n",
      "[6]\tvalidation-auc:0.87187\n",
      "[7]\tvalidation-auc:0.87343\n",
      "[8]\tvalidation-auc:0.87482\n",
      "[9]\tvalidation-auc:0.87548\n",
      "[0]\tvalidation-auc:0.80561\n",
      "[1]\tvalidation-auc:0.82125\n",
      "[2]\tvalidation-auc:0.82872\n",
      "[3]\tvalidation-auc:0.83211\n",
      "[4]\tvalidation-auc:0.83684\n",
      "[5]\tvalidation-auc:0.83724\n",
      "[6]\tvalidation-auc:0.83950\n",
      "[7]\tvalidation-auc:0.84029\n",
      "[8]\tvalidation-auc:0.84322\n",
      "[9]\tvalidation-auc:0.84489\n",
      "[0]\tvalidation-auc:0.77270\n",
      "[1]\tvalidation-auc:0.81066\n",
      "[2]\tvalidation-auc:0.83777\n",
      "[3]\tvalidation-auc:0.84654\n",
      "[4]\tvalidation-auc:0.85233\n",
      "[5]\tvalidation-auc:0.85463\n",
      "[6]\tvalidation-auc:0.85635\n",
      "[7]\tvalidation-auc:0.85796\n",
      "[8]\tvalidation-auc:0.86015\n",
      "[9]\tvalidation-auc:0.86127\n",
      "[0]\tvalidation-auc:0.80561\n",
      "[1]\tvalidation-auc:0.82841\n",
      "[2]\tvalidation-auc:0.83873\n",
      "[3]\tvalidation-auc:0.84360\n",
      "[4]\tvalidation-auc:0.85152\n",
      "[5]\tvalidation-auc:0.85420\n",
      "[6]\tvalidation-auc:0.85779\n",
      "[7]\tvalidation-auc:0.86010\n",
      "[8]\tvalidation-auc:0.86192\n",
      "[9]\tvalidation-auc:0.86357\n",
      "[0]\tvalidation-auc:0.84970\n",
      "[1]\tvalidation-auc:0.85820\n",
      "[2]\tvalidation-auc:0.86263\n",
      "[3]\tvalidation-auc:0.86476\n",
      "[4]\tvalidation-auc:0.86689\n",
      "[5]\tvalidation-auc:0.86774\n",
      "[6]\tvalidation-auc:0.86844\n",
      "[7]\tvalidation-auc:0.86989\n",
      "[8]\tvalidation-auc:0.87074\n",
      "[9]\tvalidation-auc:0.87191\n",
      "[09:04:39] WARNING: C:/buildkite-agent/builds/buildkite-windows-cpu-autoscaling-group-i-03de431ba26204c4d-1/xgboost/xgboost-ci-windows/src/learner.cc:767: \n",
      "Parameters: { \"max_depth\" } are not used.\n",
      "\n",
      "[0]\tvalidation-auc:0.67794\n",
      "[0]\tvalidation-auc:0.84970\n",
      "[1]\tvalidation-auc:0.86033\n",
      "[2]\tvalidation-auc:0.86297\n",
      "[3]\tvalidation-auc:0.86597\n",
      "[4]\tvalidation-auc:0.86770\n",
      "[5]\tvalidation-auc:0.86975\n",
      "[6]\tvalidation-auc:0.87129\n",
      "[7]\tvalidation-auc:0.87236\n",
      "[8]\tvalidation-auc:0.87393\n",
      "[9]\tvalidation-auc:0.87498\n",
      "[09:04:42] WARNING: C:/buildkite-agent/builds/buildkite-windows-cpu-autoscaling-group-i-03de431ba26204c4d-1/xgboost/xgboost-ci-windows/src/learner.cc:767: \n",
      "Parameters: { \"max_depth\" } are not used.\n",
      "\n",
      "[09:04:43] WARNING: C:/buildkite-agent/builds/buildkite-windows-cpu-autoscaling-group-i-03de431ba26204c4d-1/xgboost/xgboost-ci-windows/src/learner.cc:767: \n",
      "Parameters: { \"max_depth\" } are not used.\n",
      "\n",
      "[0]\tvalidation-auc:0.73016\n",
      "[09:04:43] WARNING: C:/buildkite-agent/builds/buildkite-windows-cpu-autoscaling-group-i-03de431ba26204c4d-1/xgboost/xgboost-ci-windows/src/learner.cc:767: \n",
      "Parameters: { \"max_depth\" } are not used.\n",
      "\n",
      "[0]\tvalidation-auc:0.83622\n",
      "[1]\tvalidation-auc:0.85619\n",
      "[2]\tvalidation-auc:0.86370\n",
      "[3]\tvalidation-auc:0.86634\n",
      "[4]\tvalidation-auc:0.86788\n",
      "[5]\tvalidation-auc:0.86955\n",
      "[6]\tvalidation-auc:0.87123\n",
      "[7]\tvalidation-auc:0.87190\n",
      "[8]\tvalidation-auc:0.87219\n",
      "[9]\tvalidation-auc:0.87316\n",
      "[0]\tvalidation-auc:0.83622\n",
      "[1]\tvalidation-auc:0.85635\n",
      "[2]\tvalidation-auc:0.86411\n",
      "[3]\tvalidation-auc:0.86715\n",
      "[4]\tvalidation-auc:0.86884\n",
      "[5]\tvalidation-auc:0.87140\n",
      "[6]\tvalidation-auc:0.87187\n",
      "[7]\tvalidation-auc:0.87343\n",
      "[8]\tvalidation-auc:0.87482\n",
      "[9]\tvalidation-auc:0.87548\n",
      "[0]\tvalidation-auc:0.83622\n",
      "[1]\tvalidation-auc:0.85626\n",
      "[0]\tvalidation-auc:0.83622\n",
      "[1]\tvalidation-auc:0.85658\n",
      "[0]\tvalidation-auc:0.84351\n",
      "[1]\tvalidation-auc:0.86193\n",
      "[2]\tvalidation-auc:0.86632\n",
      "[3]\tvalidation-auc:0.87015\n",
      "[4]\tvalidation-auc:0.87306\n",
      "[5]\tvalidation-auc:0.87444\n",
      "[6]\tvalidation-auc:0.87492\n",
      "[7]\tvalidation-auc:0.87590\n",
      "[8]\tvalidation-auc:0.87733\n",
      "[9]\tvalidation-auc:0.87745\n",
      "[0]\tvalidation-auc:0.84351\n",
      "[1]\tvalidation-auc:0.86021\n",
      "[2]\tvalidation-auc:0.86482\n",
      "[3]\tvalidation-auc:0.86815\n",
      "[4]\tvalidation-auc:0.87050\n",
      "[5]\tvalidation-auc:0.87237\n",
      "[6]\tvalidation-auc:0.87373\n",
      "[7]\tvalidation-auc:0.87447\n",
      "[8]\tvalidation-auc:0.87510\n",
      "[9]\tvalidation-auc:0.87582\n",
      "[0]\tvalidation-auc:0.85356\n",
      "[1]\tvalidation-auc:0.86395\n",
      "[2]\tvalidation-auc:0.86800\n",
      "[3]\tvalidation-auc:0.87257\n",
      "[4]\tvalidation-auc:0.87395\n",
      "[5]\tvalidation-auc:0.87461\n",
      "[6]\tvalidation-auc:0.87552\n",
      "[7]\tvalidation-auc:0.87599\n",
      "[8]\tvalidation-auc:0.87705\n",
      "[9]\tvalidation-auc:0.87863\n",
      "[0]\tvalidation-auc:0.85356\n",
      "[1]\tvalidation-auc:0.86553\n",
      "[2]\tvalidation-auc:0.86953\n",
      "[3]\tvalidation-auc:0.87218\n",
      "[4]\tvalidation-auc:0.87384\n",
      "[5]\tvalidation-auc:0.87607\n",
      "[6]\tvalidation-auc:0.87781\n",
      "[7]\tvalidation-auc:0.87854\n",
      "[8]\tvalidation-auc:0.87956\n",
      "[9]\tvalidation-auc:0.88011\n",
      "[0]\tvalidation-auc:0.85356\n",
      "[1]\tvalidation-auc:0.86553\n",
      "[2]\tvalidation-auc:0.86953\n",
      "[3]\tvalidation-auc:0.87218\n",
      "[4]\tvalidation-auc:0.87384\n",
      "[5]\tvalidation-auc:0.87607\n",
      "[6]\tvalidation-auc:0.87781\n",
      "[7]\tvalidation-auc:0.87854\n",
      "[8]\tvalidation-auc:0.87956\n",
      "[9]\tvalidation-auc:0.88011\n",
      "[0]\tvalidation-auc:0.85356\n",
      "[1]\tvalidation-auc:0.86553\n",
      "[2]\tvalidation-auc:0.86953\n",
      "[3]\tvalidation-auc:0.87218\n",
      "[4]\tvalidation-auc:0.87384\n",
      "[5]\tvalidation-auc:0.87607\n",
      "[6]\tvalidation-auc:0.87781\n",
      "[7]\tvalidation-auc:0.87854\n",
      "[8]\tvalidation-auc:0.87956\n",
      "[9]\tvalidation-auc:0.88011\n",
      "[0]\tvalidation-auc:0.85356\n",
      "[1]\tvalidation-auc:0.86436\n",
      "[2]\tvalidation-auc:0.86857\n",
      "[3]\tvalidation-auc:0.87156\n",
      "[4]\tvalidation-auc:0.87413\n",
      "[5]\tvalidation-auc:0.87614\n",
      "[6]\tvalidation-auc:0.87862\n",
      "[7]\tvalidation-auc:0.88025\n",
      "[8]\tvalidation-auc:0.88116\n",
      "[9]\tvalidation-auc:0.88117\n",
      "[0]\tvalidation-auc:0.85489\n",
      "[1]\tvalidation-auc:0.86549\n",
      "[2]\tvalidation-auc:0.87041\n",
      "[3]\tvalidation-auc:0.87404\n",
      "[4]\tvalidation-auc:0.87536\n",
      "[5]\tvalidation-auc:0.87812\n",
      "[6]\tvalidation-auc:0.87892\n",
      "[7]\tvalidation-auc:0.88044\n",
      "[8]\tvalidation-auc:0.88141\n",
      "[9]\tvalidation-auc:0.88233\n",
      "[0]\tvalidation-auc:0.85489\n",
      "[1]\tvalidation-auc:0.86549\n",
      "[2]\tvalidation-auc:0.87041\n",
      "[3]\tvalidation-auc:0.87404\n",
      "[4]\tvalidation-auc:0.87536\n",
      "[5]\tvalidation-auc:0.87812\n",
      "[6]\tvalidation-auc:0.87892\n",
      "[7]\tvalidation-auc:0.88044\n",
      "[8]\tvalidation-auc:0.88141\n",
      "[9]\tvalidation-auc:0.88233\n",
      "[0]\tvalidation-auc:0.85284\n",
      "[1]\tvalidation-auc:0.86470\n",
      "[2]\tvalidation-auc:0.86840\n",
      "[3]\tvalidation-auc:0.87213\n",
      "[4]\tvalidation-auc:0.87417\n",
      "[5]\tvalidation-auc:0.87745\n",
      "[6]\tvalidation-auc:0.87870\n",
      "[7]\tvalidation-auc:0.87990\n",
      "[8]\tvalidation-auc:0.88069\n",
      "[9]\tvalidation-auc:0.88179\n",
      "[0]\tvalidation-auc:0.85284\n",
      "[1]\tvalidation-auc:0.86470\n",
      "[2]\tvalidation-auc:0.86840\n",
      "[3]\tvalidation-auc:0.87213\n",
      "[4]\tvalidation-auc:0.87417\n",
      "[5]\tvalidation-auc:0.87745\n",
      "[6]\tvalidation-auc:0.87870\n",
      "[7]\tvalidation-auc:0.87990\n",
      "[8]\tvalidation-auc:0.88069\n",
      "[9]\tvalidation-auc:0.88179\n",
      "[0]\tvalidation-auc:0.85284\n",
      "[1]\tvalidation-auc:0.86400\n",
      "[2]\tvalidation-auc:0.86806\n",
      "[3]\tvalidation-auc:0.87108\n",
      "[4]\tvalidation-auc:0.87323\n",
      "[5]\tvalidation-auc:0.87512\n",
      "[6]\tvalidation-auc:0.87722\n",
      "[7]\tvalidation-auc:0.87900\n",
      "[8]\tvalidation-auc:0.88043\n",
      "[9]\tvalidation-auc:0.88166\n",
      "[0]\tvalidation-auc:0.85284\n",
      "[0]\tvalidation-auc:0.85284\n",
      "[1]\tvalidation-auc:0.86495\n",
      "[2]\tvalidation-auc:0.86869\n",
      "[3]\tvalidation-auc:0.87255\n",
      "[4]\tvalidation-auc:0.87581\n",
      "[5]\tvalidation-auc:0.87680\n",
      "[6]\tvalidation-auc:0.87785\n",
      "[7]\tvalidation-auc:0.87896\n",
      "[8]\tvalidation-auc:0.87883\n",
      "[9]\tvalidation-auc:0.87955\n",
      "[0]\tvalidation-auc:0.85284\n",
      "[1]\tvalidation-auc:0.86295\n",
      "[0]\tvalidation-auc:0.85284\n",
      "[1]\tvalidation-auc:0.86400\n",
      "[2]\tvalidation-auc:0.86806\n",
      "[3]\tvalidation-auc:0.87108\n",
      "[4]\tvalidation-auc:0.87323\n",
      "[5]\tvalidation-auc:0.87512\n",
      "[6]\tvalidation-auc:0.87722\n",
      "[7]\tvalidation-auc:0.87900\n",
      "[8]\tvalidation-auc:0.88043\n",
      "[9]\tvalidation-auc:0.88166\n",
      "[0]\tvalidation-auc:0.85284\n",
      "[1]\tvalidation-auc:0.86470\n",
      "[2]\tvalidation-auc:0.86840\n",
      "[3]\tvalidation-auc:0.87213\n",
      "[4]\tvalidation-auc:0.87417\n",
      "[5]\tvalidation-auc:0.87745\n",
      "[6]\tvalidation-auc:0.87870\n",
      "[7]\tvalidation-auc:0.87990\n",
      "[8]\tvalidation-auc:0.88069\n",
      "[9]\tvalidation-auc:0.88179\n",
      "[0]\tvalidation-auc:0.84970\n",
      "[0]\tvalidation-auc:0.85489\n",
      "[1]\tvalidation-auc:0.85817\n",
      "[0]\tvalidation-auc:0.85489\n",
      "[1]\tvalidation-auc:0.86549\n",
      "[2]\tvalidation-auc:0.87041\n",
      "[3]\tvalidation-auc:0.87404\n",
      "[4]\tvalidation-auc:0.87536\n",
      "[5]\tvalidation-auc:0.87812\n",
      "[6]\tvalidation-auc:0.87892\n",
      "[7]\tvalidation-auc:0.88044\n",
      "[8]\tvalidation-auc:0.88141\n",
      "[9]\tvalidation-auc:0.88233\n",
      "[0]\tvalidation-auc:0.85284\n",
      "[1]\tvalidation-auc:0.86278\n",
      "[0]\tvalidation-auc:0.85489\n",
      "[1]\tvalidation-auc:0.86465\n",
      "[2]\tvalidation-auc:0.86881\n",
      "[3]\tvalidation-auc:0.87237\n",
      "[4]\tvalidation-auc:0.87443\n",
      "[5]\tvalidation-auc:0.87559\n",
      "[0]\tvalidation-auc:0.84351\n",
      "[09:05:51] WARNING: C:/buildkite-agent/builds/buildkite-windows-cpu-autoscaling-group-i-03de431ba26204c4d-1/xgboost/xgboost-ci-windows/src/learner.cc:767: \n",
      "Parameters: { \"max_depth\" } are not used.\n",
      "\n",
      "[0]\tvalidation-auc:0.70149\n",
      "[0]\tvalidation-auc:0.85489\n",
      "[1]\tvalidation-auc:0.86473\n",
      "[2]\tvalidation-auc:0.86824\n",
      "[0]\tvalidation-auc:0.85284\n",
      "[1]\tvalidation-auc:0.86400\n",
      "[2]\tvalidation-auc:0.86806\n",
      "[0]\tvalidation-auc:0.85284\n",
      "[1]\tvalidation-auc:0.86573\n",
      "[2]\tvalidation-auc:0.86988\n",
      "[3]\tvalidation-auc:0.87372\n",
      "[4]\tvalidation-auc:0.87469\n",
      "[5]\tvalidation-auc:0.87711\n",
      "[6]\tvalidation-auc:0.87923\n",
      "[7]\tvalidation-auc:0.88135\n",
      "[8]\tvalidation-auc:0.88245\n",
      "[9]\tvalidation-auc:0.88299\n",
      "[09:05:59] WARNING: C:/buildkite-agent/builds/buildkite-windows-cpu-autoscaling-group-i-03de431ba26204c4d-1/xgboost/xgboost-ci-windows/src/learner.cc:767: \n",
      "Parameters: { \"max_depth\" } are not used.\n",
      "\n",
      "[0]\tvalidation-auc:0.85489\n",
      "[1]\tvalidation-auc:0.86445\n",
      "[2]\tvalidation-auc:0.86863\n",
      "[3]\tvalidation-auc:0.87202\n",
      "[4]\tvalidation-auc:0.87417\n",
      "[5]\tvalidation-auc:0.87637\n",
      "[6]\tvalidation-auc:0.87817\n",
      "[7]\tvalidation-auc:0.87943\n",
      "[8]\tvalidation-auc:0.88095\n",
      "[9]\tvalidation-auc:0.88216\n",
      "[09:06:06] WARNING: C:/buildkite-agent/builds/buildkite-windows-cpu-autoscaling-group-i-03de431ba26204c4d-1/xgboost/xgboost-ci-windows/src/learner.cc:767: \n",
      "Parameters: { \"max_depth\" } are not used.\n",
      "\n",
      "[0]\tvalidation-auc:0.73280\n",
      "[0]\tvalidation-auc:0.85284\n",
      "[1]\tvalidation-auc:0.86295\n",
      "[0]\tvalidation-auc:0.85489\n",
      "[1]\tvalidation-auc:0.86445\n",
      "[2]\tvalidation-auc:0.86863\n",
      "[3]\tvalidation-auc:0.87202\n",
      "[4]\tvalidation-auc:0.87417\n",
      "[5]\tvalidation-auc:0.87637\n",
      "[6]\tvalidation-auc:0.87817\n",
      "[7]\tvalidation-auc:0.87943\n",
      "[8]\tvalidation-auc:0.88095\n",
      "[9]\tvalidation-auc:0.88216\n",
      "[0]\tvalidation-auc:0.85284\n",
      "[0]\tvalidation-auc:0.85489\n",
      "[1]\tvalidation-auc:0.86445\n",
      "[2]\tvalidation-auc:0.86863\n",
      "[3]\tvalidation-auc:0.87202\n",
      "[4]\tvalidation-auc:0.87417\n",
      "[5]\tvalidation-auc:0.87637\n",
      "[6]\tvalidation-auc:0.87817\n",
      "[7]\tvalidation-auc:0.87943\n",
      "[8]\tvalidation-auc:0.88095\n",
      "[9]\tvalidation-auc:0.88216\n",
      "[0]\tvalidation-auc:0.85356\n",
      "[1]\tvalidation-auc:0.86464\n",
      "[2]\tvalidation-auc:0.86984\n",
      "[3]\tvalidation-auc:0.87178\n",
      "[0]\tvalidation-auc:0.85489\n",
      "[1]\tvalidation-auc:0.86445\n",
      "[2]\tvalidation-auc:0.86863\n",
      "[3]\tvalidation-auc:0.87202\n",
      "[4]\tvalidation-auc:0.87417\n",
      "[5]\tvalidation-auc:0.87637\n",
      "[6]\tvalidation-auc:0.87817\n",
      "[7]\tvalidation-auc:0.87943\n",
      "[8]\tvalidation-auc:0.88095\n",
      "[9]\tvalidation-auc:0.88216\n",
      "[0]\tvalidation-auc:0.85356\n",
      "[1]\tvalidation-auc:0.86431\n",
      "[09:06:30] WARNING: C:/buildkite-agent/builds/buildkite-windows-cpu-autoscaling-group-i-03de431ba26204c4d-1/xgboost/xgboost-ci-windows/src/learner.cc:767: \n",
      "Parameters: { \"max_depth\" } are not used.\n",
      "\n",
      "[0]\tvalidation-auc:0.85356\n",
      "[1]\tvalidation-auc:0.86231\n",
      "[0]\tvalidation-auc:0.85489\n",
      "[0]\tvalidation-auc:0.85489\n",
      "[1]\tvalidation-auc:0.86445\n",
      "[2]\tvalidation-auc:0.86863\n",
      "[3]\tvalidation-auc:0.87202\n",
      "[4]\tvalidation-auc:0.87417\n",
      "[5]\tvalidation-auc:0.87637\n",
      "[6]\tvalidation-auc:0.87817\n",
      "[7]\tvalidation-auc:0.87943\n",
      "[8]\tvalidation-auc:0.88095\n",
      "[9]\tvalidation-auc:0.88216\n",
      "[0]\tvalidation-auc:0.85356\n",
      "[0]\tvalidation-auc:0.85489\n",
      "[1]\tvalidation-auc:0.86445\n",
      "[2]\tvalidation-auc:0.86863\n",
      "[3]\tvalidation-auc:0.87202\n",
      "[4]\tvalidation-auc:0.87417\n",
      "[5]\tvalidation-auc:0.87637\n",
      "[6]\tvalidation-auc:0.87817\n",
      "[7]\tvalidation-auc:0.87943\n",
      "[8]\tvalidation-auc:0.88095\n",
      "[9]\tvalidation-auc:0.88216\n",
      "[0]\tvalidation-auc:0.85489\n",
      "[1]\tvalidation-auc:0.86445\n",
      "[2]\tvalidation-auc:0.86863\n",
      "[3]\tvalidation-auc:0.87202\n",
      "[4]\tvalidation-auc:0.87417\n",
      "[5]\tvalidation-auc:0.87637\n",
      "[6]\tvalidation-auc:0.87817\n",
      "[7]\tvalidation-auc:0.87943\n",
      "[8]\tvalidation-auc:0.88095\n",
      "[9]\tvalidation-auc:0.88216\n",
      "[0]\tvalidation-auc:0.85489\n",
      "[1]\tvalidation-auc:0.86480\n",
      "[2]\tvalidation-auc:0.86940\n",
      "[3]\tvalidation-auc:0.87160\n",
      "[0]\tvalidation-auc:0.85489\n",
      "[1]\tvalidation-auc:0.86445\n",
      "[2]\tvalidation-auc:0.86863\n",
      "[3]\tvalidation-auc:0.87202\n",
      "[4]\tvalidation-auc:0.87417\n",
      "[5]\tvalidation-auc:0.87637\n",
      "[6]\tvalidation-auc:0.87817\n",
      "[7]\tvalidation-auc:0.87943\n",
      "[8]\tvalidation-auc:0.88095\n",
      "[9]\tvalidation-auc:0.88216\n",
      "[0]\tvalidation-auc:0.85356\n",
      "[1]\tvalidation-auc:0.86416\n",
      "[0]\tvalidation-auc:0.85489\n",
      "[0]\tvalidation-auc:0.85489\n",
      "[1]\tvalidation-auc:0.86480\n",
      "[2]\tvalidation-auc:0.86940\n",
      "[3]\tvalidation-auc:0.87160\n",
      "[0]\tvalidation-auc:0.85356\n",
      "[0]\tvalidation-auc:0.85489\n",
      "[0]\tvalidation-auc:0.85356\n",
      "[1]\tvalidation-auc:0.86422\n",
      "[0]\tvalidation-auc:0.85489\n",
      "[1]\tvalidation-auc:0.86445\n",
      "[2]\tvalidation-auc:0.86863\n",
      "[3]\tvalidation-auc:0.87202\n",
      "[4]\tvalidation-auc:0.87417\n",
      "[5]\tvalidation-auc:0.87637\n",
      "[6]\tvalidation-auc:0.87817\n",
      "[7]\tvalidation-auc:0.87943\n",
      "[8]\tvalidation-auc:0.88095\n",
      "[9]\tvalidation-auc:0.88216\n",
      "[0]\tvalidation-auc:0.85489\n",
      "[1]\tvalidation-auc:0.86445\n",
      "[2]\tvalidation-auc:0.86863\n",
      "[3]\tvalidation-auc:0.87202\n",
      "[4]\tvalidation-auc:0.87417\n",
      "[5]\tvalidation-auc:0.87637\n",
      "[6]\tvalidation-auc:0.87817\n",
      "[7]\tvalidation-auc:0.87943\n",
      "[8]\tvalidation-auc:0.88095\n",
      "[9]\tvalidation-auc:0.88216\n",
      "[0]\tvalidation-auc:0.85489\n",
      "[1]\tvalidation-auc:0.86445\n",
      "[2]\tvalidation-auc:0.86863\n",
      "[3]\tvalidation-auc:0.87202\n",
      "[4]\tvalidation-auc:0.87417\n",
      "[5]\tvalidation-auc:0.87637\n",
      "[6]\tvalidation-auc:0.87817\n",
      "[7]\tvalidation-auc:0.87943\n",
      "[8]\tvalidation-auc:0.88095\n",
      "[9]\tvalidation-auc:0.88216\n",
      "[0]\tvalidation-auc:0.82249\n",
      "[0]\tvalidation-auc:0.85489\n",
      "[0]\tvalidation-auc:0.85356\n",
      "[1]\tvalidation-auc:0.86431\n",
      "[09:07:26] WARNING: C:/buildkite-agent/builds/buildkite-windows-cpu-autoscaling-group-i-03de431ba26204c4d-1/xgboost/xgboost-ci-windows/src/learner.cc:767: \n",
      "Parameters: { \"max_depth\" } are not used.\n",
      "\n",
      "[0]\tvalidation-auc:0.85284\n",
      "[0]\tvalidation-auc:0.85356\n",
      "[0]\tvalidation-auc:0.85489\n",
      "[1]\tvalidation-auc:0.86445\n",
      "[2]\tvalidation-auc:0.86863\n",
      "[3]\tvalidation-auc:0.87202\n",
      "[4]\tvalidation-auc:0.87417\n",
      "[5]\tvalidation-auc:0.87637\n",
      "[6]\tvalidation-auc:0.87817\n",
      "[7]\tvalidation-auc:0.87943\n",
      "[8]\tvalidation-auc:0.88095\n",
      "[9]\tvalidation-auc:0.88216\n",
      "[0]\tvalidation-auc:0.85489\n",
      "[1]\tvalidation-auc:0.86445\n",
      "[2]\tvalidation-auc:0.86863\n",
      "[3]\tvalidation-auc:0.87202\n",
      "[4]\tvalidation-auc:0.87417\n",
      "[5]\tvalidation-auc:0.87637\n",
      "[6]\tvalidation-auc:0.87817\n",
      "[7]\tvalidation-auc:0.87943\n",
      "[8]\tvalidation-auc:0.88095\n",
      "[9]\tvalidation-auc:0.88216\n",
      "[0]\tvalidation-auc:0.85489\n",
      "[0]\tvalidation-auc:0.85489\n",
      "[0]\tvalidation-auc:0.85284\n",
      "[0]\tvalidation-auc:0.85489\n",
      "[1]\tvalidation-auc:0.86445\n",
      "[2]\tvalidation-auc:0.86863\n",
      "[3]\tvalidation-auc:0.87202\n",
      "[4]\tvalidation-auc:0.87417\n",
      "[5]\tvalidation-auc:0.87637\n",
      "[6]\tvalidation-auc:0.87817\n",
      "[7]\tvalidation-auc:0.87943\n",
      "[8]\tvalidation-auc:0.88095\n",
      "[9]\tvalidation-auc:0.88216\n",
      "[0]\tvalidation-auc:0.85489\n",
      "[0]\tvalidation-auc:0.85356\n",
      "[1]\tvalidation-auc:0.86464\n",
      "[2]\tvalidation-auc:0.86984\n",
      "[0]\tvalidation-auc:0.85489\n",
      "[1]\tvalidation-auc:0.86326\n",
      "[0]\tvalidation-auc:0.85489\n",
      "[1]\tvalidation-auc:0.86445\n",
      "[2]\tvalidation-auc:0.86863\n",
      "[3]\tvalidation-auc:0.87202\n",
      "[4]\tvalidation-auc:0.87417\n",
      "[5]\tvalidation-auc:0.87637\n",
      "[6]\tvalidation-auc:0.87817\n",
      "[7]\tvalidation-auc:0.87943\n",
      "[8]\tvalidation-auc:0.88095\n",
      "[9]\tvalidation-auc:0.88216\n",
      "[0]\tvalidation-auc:0.85489\n",
      "[0]\tvalidation-auc:0.85489\n",
      "[1]\tvalidation-auc:0.86445\n",
      "[2]\tvalidation-auc:0.86863\n",
      "[3]\tvalidation-auc:0.87202\n",
      "[4]\tvalidation-auc:0.87417\n",
      "[5]\tvalidation-auc:0.87637\n",
      "[6]\tvalidation-auc:0.87817\n",
      "[7]\tvalidation-auc:0.87943\n",
      "[8]\tvalidation-auc:0.88095\n",
      "[9]\tvalidation-auc:0.88216\n",
      "[0]\tvalidation-auc:0.85356\n",
      "[1]\tvalidation-auc:0.86416\n",
      "[0]\tvalidation-auc:0.85489\n",
      "[1]\tvalidation-auc:0.86389\n",
      "[09:08:02] WARNING: C:/buildkite-agent/builds/buildkite-windows-cpu-autoscaling-group-i-03de431ba26204c4d-1/xgboost/xgboost-ci-windows/src/learner.cc:767: \n",
      "Parameters: { \"max_depth\" } are not used.\n",
      "\n",
      "[0]\tvalidation-auc:0.85356\n",
      "Best Score:  0.8555650259251367\n",
      "Best Params: \n",
      "  max_depth: 9\n",
      "  eta: 0.35000000000000003\n",
      "  booster: dart\n"
     ]
    }
   ],
   "source": [
    "optuna.logging.set_verbosity(optuna.logging.WARNING) #<- this removes the intermediate results!\n",
    "\n",
    "sampler = TPESampler(seed=42)\n",
    "study = optuna.create_study(direction = \"maximize\", sampler=sampler)\n",
    "study.optimize(objective, n_trials = 100)\n",
    "trial = study.best_trial\n",
    "print(\"Best Score: \", trial.value)\n",
    "print(\"Best Params: \")\n",
    "for key, value in trial.params.items():\n",
    "    print(\"  {}: {}\".format(key, value))"
   ]
  },
  {
   "cell_type": "code",
   "execution_count": 51,
   "metadata": {},
   "outputs": [
    {
     "data": {
      "application/vnd.plotly.v1+json": {
       "config": {
        "plotlyServerURL": "https://plot.ly"
       },
       "data": [
        {
         "mode": "markers",
         "name": "Objective Value",
         "type": "scatter",
         "x": [
          0,
          1,
          2,
          3,
          4,
          8,
          10,
          13,
          14,
          15,
          19,
          21,
          31,
          32,
          41,
          42,
          51,
          52,
          59,
          62,
          63,
          71,
          73,
          78,
          81,
          87,
          90,
          92
         ],
         "y": [
          0.8401875133177072,
          0.8395127494850486,
          0.8529014844804319,
          0.8441650685417998,
          0.8506996235528091,
          0.8557781092407131,
          0.8532921372256552,
          0.8539669010583139,
          0.8537893316286668,
          0.8557781092407131,
          0.8557781092407131,
          0.8557781092407131,
          0.8557781092407131,
          0.8557781092407131,
          0.8557781092407131,
          0.8557781092407131,
          0.8557781092407131,
          0.8557781092407131,
          0.8557781092407131,
          0.8557781092407131,
          0.8557781092407131,
          0.8557781092407131,
          0.8557781092407131,
          0.8557781092407131,
          0.8557781092407131,
          0.8557781092407131,
          0.8557781092407131,
          0.8557781092407131
         ]
        },
        {
         "name": "Best Value",
         "type": "scatter",
         "x": [
          0,
          1,
          2,
          3,
          4,
          8,
          10,
          13,
          14,
          15,
          19,
          21,
          31,
          32,
          41,
          42,
          51,
          52,
          59,
          62,
          63,
          71,
          73,
          78,
          81,
          87,
          90,
          92
         ],
         "y": [
          0.8401875133177072,
          0.8401875133177072,
          0.8529014844804319,
          0.8529014844804319,
          0.8529014844804319,
          0.8557781092407131,
          0.8557781092407131,
          0.8557781092407131,
          0.8557781092407131,
          0.8557781092407131,
          0.8557781092407131,
          0.8557781092407131,
          0.8557781092407131,
          0.8557781092407131,
          0.8557781092407131,
          0.8557781092407131,
          0.8557781092407131,
          0.8557781092407131,
          0.8557781092407131,
          0.8557781092407131,
          0.8557781092407131,
          0.8557781092407131,
          0.8557781092407131,
          0.8557781092407131,
          0.8557781092407131,
          0.8557781092407131,
          0.8557781092407131,
          0.8557781092407131
         ]
        }
       ],
       "layout": {
        "template": {
         "data": {
          "bar": [
           {
            "error_x": {
             "color": "#2a3f5f"
            },
            "error_y": {
             "color": "#2a3f5f"
            },
            "marker": {
             "line": {
              "color": "#E5ECF6",
              "width": 0.5
             },
             "pattern": {
              "fillmode": "overlay",
              "size": 10,
              "solidity": 0.2
             }
            },
            "type": "bar"
           }
          ],
          "barpolar": [
           {
            "marker": {
             "line": {
              "color": "#E5ECF6",
              "width": 0.5
             },
             "pattern": {
              "fillmode": "overlay",
              "size": 10,
              "solidity": 0.2
             }
            },
            "type": "barpolar"
           }
          ],
          "carpet": [
           {
            "aaxis": {
             "endlinecolor": "#2a3f5f",
             "gridcolor": "white",
             "linecolor": "white",
             "minorgridcolor": "white",
             "startlinecolor": "#2a3f5f"
            },
            "baxis": {
             "endlinecolor": "#2a3f5f",
             "gridcolor": "white",
             "linecolor": "white",
             "minorgridcolor": "white",
             "startlinecolor": "#2a3f5f"
            },
            "type": "carpet"
           }
          ],
          "choropleth": [
           {
            "colorbar": {
             "outlinewidth": 0,
             "ticks": ""
            },
            "type": "choropleth"
           }
          ],
          "contour": [
           {
            "colorbar": {
             "outlinewidth": 0,
             "ticks": ""
            },
            "colorscale": [
             [
              0,
              "#0d0887"
             ],
             [
              0.1111111111111111,
              "#46039f"
             ],
             [
              0.2222222222222222,
              "#7201a8"
             ],
             [
              0.3333333333333333,
              "#9c179e"
             ],
             [
              0.4444444444444444,
              "#bd3786"
             ],
             [
              0.5555555555555556,
              "#d8576b"
             ],
             [
              0.6666666666666666,
              "#ed7953"
             ],
             [
              0.7777777777777778,
              "#fb9f3a"
             ],
             [
              0.8888888888888888,
              "#fdca26"
             ],
             [
              1,
              "#f0f921"
             ]
            ],
            "type": "contour"
           }
          ],
          "contourcarpet": [
           {
            "colorbar": {
             "outlinewidth": 0,
             "ticks": ""
            },
            "type": "contourcarpet"
           }
          ],
          "heatmap": [
           {
            "colorbar": {
             "outlinewidth": 0,
             "ticks": ""
            },
            "colorscale": [
             [
              0,
              "#0d0887"
             ],
             [
              0.1111111111111111,
              "#46039f"
             ],
             [
              0.2222222222222222,
              "#7201a8"
             ],
             [
              0.3333333333333333,
              "#9c179e"
             ],
             [
              0.4444444444444444,
              "#bd3786"
             ],
             [
              0.5555555555555556,
              "#d8576b"
             ],
             [
              0.6666666666666666,
              "#ed7953"
             ],
             [
              0.7777777777777778,
              "#fb9f3a"
             ],
             [
              0.8888888888888888,
              "#fdca26"
             ],
             [
              1,
              "#f0f921"
             ]
            ],
            "type": "heatmap"
           }
          ],
          "heatmapgl": [
           {
            "colorbar": {
             "outlinewidth": 0,
             "ticks": ""
            },
            "colorscale": [
             [
              0,
              "#0d0887"
             ],
             [
              0.1111111111111111,
              "#46039f"
             ],
             [
              0.2222222222222222,
              "#7201a8"
             ],
             [
              0.3333333333333333,
              "#9c179e"
             ],
             [
              0.4444444444444444,
              "#bd3786"
             ],
             [
              0.5555555555555556,
              "#d8576b"
             ],
             [
              0.6666666666666666,
              "#ed7953"
             ],
             [
              0.7777777777777778,
              "#fb9f3a"
             ],
             [
              0.8888888888888888,
              "#fdca26"
             ],
             [
              1,
              "#f0f921"
             ]
            ],
            "type": "heatmapgl"
           }
          ],
          "histogram": [
           {
            "marker": {
             "pattern": {
              "fillmode": "overlay",
              "size": 10,
              "solidity": 0.2
             }
            },
            "type": "histogram"
           }
          ],
          "histogram2d": [
           {
            "colorbar": {
             "outlinewidth": 0,
             "ticks": ""
            },
            "colorscale": [
             [
              0,
              "#0d0887"
             ],
             [
              0.1111111111111111,
              "#46039f"
             ],
             [
              0.2222222222222222,
              "#7201a8"
             ],
             [
              0.3333333333333333,
              "#9c179e"
             ],
             [
              0.4444444444444444,
              "#bd3786"
             ],
             [
              0.5555555555555556,
              "#d8576b"
             ],
             [
              0.6666666666666666,
              "#ed7953"
             ],
             [
              0.7777777777777778,
              "#fb9f3a"
             ],
             [
              0.8888888888888888,
              "#fdca26"
             ],
             [
              1,
              "#f0f921"
             ]
            ],
            "type": "histogram2d"
           }
          ],
          "histogram2dcontour": [
           {
            "colorbar": {
             "outlinewidth": 0,
             "ticks": ""
            },
            "colorscale": [
             [
              0,
              "#0d0887"
             ],
             [
              0.1111111111111111,
              "#46039f"
             ],
             [
              0.2222222222222222,
              "#7201a8"
             ],
             [
              0.3333333333333333,
              "#9c179e"
             ],
             [
              0.4444444444444444,
              "#bd3786"
             ],
             [
              0.5555555555555556,
              "#d8576b"
             ],
             [
              0.6666666666666666,
              "#ed7953"
             ],
             [
              0.7777777777777778,
              "#fb9f3a"
             ],
             [
              0.8888888888888888,
              "#fdca26"
             ],
             [
              1,
              "#f0f921"
             ]
            ],
            "type": "histogram2dcontour"
           }
          ],
          "mesh3d": [
           {
            "colorbar": {
             "outlinewidth": 0,
             "ticks": ""
            },
            "type": "mesh3d"
           }
          ],
          "parcoords": [
           {
            "line": {
             "colorbar": {
              "outlinewidth": 0,
              "ticks": ""
             }
            },
            "type": "parcoords"
           }
          ],
          "pie": [
           {
            "automargin": true,
            "type": "pie"
           }
          ],
          "scatter": [
           {
            "fillpattern": {
             "fillmode": "overlay",
             "size": 10,
             "solidity": 0.2
            },
            "type": "scatter"
           }
          ],
          "scatter3d": [
           {
            "line": {
             "colorbar": {
              "outlinewidth": 0,
              "ticks": ""
             }
            },
            "marker": {
             "colorbar": {
              "outlinewidth": 0,
              "ticks": ""
             }
            },
            "type": "scatter3d"
           }
          ],
          "scattercarpet": [
           {
            "marker": {
             "colorbar": {
              "outlinewidth": 0,
              "ticks": ""
             }
            },
            "type": "scattercarpet"
           }
          ],
          "scattergeo": [
           {
            "marker": {
             "colorbar": {
              "outlinewidth": 0,
              "ticks": ""
             }
            },
            "type": "scattergeo"
           }
          ],
          "scattergl": [
           {
            "marker": {
             "colorbar": {
              "outlinewidth": 0,
              "ticks": ""
             }
            },
            "type": "scattergl"
           }
          ],
          "scattermapbox": [
           {
            "marker": {
             "colorbar": {
              "outlinewidth": 0,
              "ticks": ""
             }
            },
            "type": "scattermapbox"
           }
          ],
          "scatterpolar": [
           {
            "marker": {
             "colorbar": {
              "outlinewidth": 0,
              "ticks": ""
             }
            },
            "type": "scatterpolar"
           }
          ],
          "scatterpolargl": [
           {
            "marker": {
             "colorbar": {
              "outlinewidth": 0,
              "ticks": ""
             }
            },
            "type": "scatterpolargl"
           }
          ],
          "scatterternary": [
           {
            "marker": {
             "colorbar": {
              "outlinewidth": 0,
              "ticks": ""
             }
            },
            "type": "scatterternary"
           }
          ],
          "surface": [
           {
            "colorbar": {
             "outlinewidth": 0,
             "ticks": ""
            },
            "colorscale": [
             [
              0,
              "#0d0887"
             ],
             [
              0.1111111111111111,
              "#46039f"
             ],
             [
              0.2222222222222222,
              "#7201a8"
             ],
             [
              0.3333333333333333,
              "#9c179e"
             ],
             [
              0.4444444444444444,
              "#bd3786"
             ],
             [
              0.5555555555555556,
              "#d8576b"
             ],
             [
              0.6666666666666666,
              "#ed7953"
             ],
             [
              0.7777777777777778,
              "#fb9f3a"
             ],
             [
              0.8888888888888888,
              "#fdca26"
             ],
             [
              1,
              "#f0f921"
             ]
            ],
            "type": "surface"
           }
          ],
          "table": [
           {
            "cells": {
             "fill": {
              "color": "#EBF0F8"
             },
             "line": {
              "color": "white"
             }
            },
            "header": {
             "fill": {
              "color": "#C8D4E3"
             },
             "line": {
              "color": "white"
             }
            },
            "type": "table"
           }
          ]
         },
         "layout": {
          "annotationdefaults": {
           "arrowcolor": "#2a3f5f",
           "arrowhead": 0,
           "arrowwidth": 1
          },
          "autotypenumbers": "strict",
          "coloraxis": {
           "colorbar": {
            "outlinewidth": 0,
            "ticks": ""
           }
          },
          "colorscale": {
           "diverging": [
            [
             0,
             "#8e0152"
            ],
            [
             0.1,
             "#c51b7d"
            ],
            [
             0.2,
             "#de77ae"
            ],
            [
             0.3,
             "#f1b6da"
            ],
            [
             0.4,
             "#fde0ef"
            ],
            [
             0.5,
             "#f7f7f7"
            ],
            [
             0.6,
             "#e6f5d0"
            ],
            [
             0.7,
             "#b8e186"
            ],
            [
             0.8,
             "#7fbc41"
            ],
            [
             0.9,
             "#4d9221"
            ],
            [
             1,
             "#276419"
            ]
           ],
           "sequential": [
            [
             0,
             "#0d0887"
            ],
            [
             0.1111111111111111,
             "#46039f"
            ],
            [
             0.2222222222222222,
             "#7201a8"
            ],
            [
             0.3333333333333333,
             "#9c179e"
            ],
            [
             0.4444444444444444,
             "#bd3786"
            ],
            [
             0.5555555555555556,
             "#d8576b"
            ],
            [
             0.6666666666666666,
             "#ed7953"
            ],
            [
             0.7777777777777778,
             "#fb9f3a"
            ],
            [
             0.8888888888888888,
             "#fdca26"
            ],
            [
             1,
             "#f0f921"
            ]
           ],
           "sequentialminus": [
            [
             0,
             "#0d0887"
            ],
            [
             0.1111111111111111,
             "#46039f"
            ],
            [
             0.2222222222222222,
             "#7201a8"
            ],
            [
             0.3333333333333333,
             "#9c179e"
            ],
            [
             0.4444444444444444,
             "#bd3786"
            ],
            [
             0.5555555555555556,
             "#d8576b"
            ],
            [
             0.6666666666666666,
             "#ed7953"
            ],
            [
             0.7777777777777778,
             "#fb9f3a"
            ],
            [
             0.8888888888888888,
             "#fdca26"
            ],
            [
             1,
             "#f0f921"
            ]
           ]
          },
          "colorway": [
           "#636efa",
           "#EF553B",
           "#00cc96",
           "#ab63fa",
           "#FFA15A",
           "#19d3f3",
           "#FF6692",
           "#B6E880",
           "#FF97FF",
           "#FECB52"
          ],
          "font": {
           "color": "#2a3f5f"
          },
          "geo": {
           "bgcolor": "white",
           "lakecolor": "white",
           "landcolor": "#E5ECF6",
           "showlakes": true,
           "showland": true,
           "subunitcolor": "white"
          },
          "hoverlabel": {
           "align": "left"
          },
          "hovermode": "closest",
          "mapbox": {
           "style": "light"
          },
          "paper_bgcolor": "white",
          "plot_bgcolor": "#E5ECF6",
          "polar": {
           "angularaxis": {
            "gridcolor": "white",
            "linecolor": "white",
            "ticks": ""
           },
           "bgcolor": "#E5ECF6",
           "radialaxis": {
            "gridcolor": "white",
            "linecolor": "white",
            "ticks": ""
           }
          },
          "scene": {
           "xaxis": {
            "backgroundcolor": "#E5ECF6",
            "gridcolor": "white",
            "gridwidth": 2,
            "linecolor": "white",
            "showbackground": true,
            "ticks": "",
            "zerolinecolor": "white"
           },
           "yaxis": {
            "backgroundcolor": "#E5ECF6",
            "gridcolor": "white",
            "gridwidth": 2,
            "linecolor": "white",
            "showbackground": true,
            "ticks": "",
            "zerolinecolor": "white"
           },
           "zaxis": {
            "backgroundcolor": "#E5ECF6",
            "gridcolor": "white",
            "gridwidth": 2,
            "linecolor": "white",
            "showbackground": true,
            "ticks": "",
            "zerolinecolor": "white"
           }
          },
          "shapedefaults": {
           "line": {
            "color": "#2a3f5f"
           }
          },
          "ternary": {
           "aaxis": {
            "gridcolor": "white",
            "linecolor": "white",
            "ticks": ""
           },
           "baxis": {
            "gridcolor": "white",
            "linecolor": "white",
            "ticks": ""
           },
           "bgcolor": "#E5ECF6",
           "caxis": {
            "gridcolor": "white",
            "linecolor": "white",
            "ticks": ""
           }
          },
          "title": {
           "x": 0.05
          },
          "xaxis": {
           "automargin": true,
           "gridcolor": "white",
           "linecolor": "white",
           "ticks": "",
           "title": {
            "standoff": 15
           },
           "zerolinecolor": "white",
           "zerolinewidth": 2
          },
          "yaxis": {
           "automargin": true,
           "gridcolor": "white",
           "linecolor": "white",
           "ticks": "",
           "title": {
            "standoff": 15
           },
           "zerolinecolor": "white",
           "zerolinewidth": 2
          }
         }
        },
        "title": {
         "text": "Optimization History Plot"
        },
        "xaxis": {
         "title": {
          "text": "Trial"
         }
        },
        "yaxis": {
         "title": {
          "text": "Objective Value"
         }
        }
       }
      }
     },
     "metadata": {},
     "output_type": "display_data"
    }
   ],
   "source": [
    "optuna.visualization.plot_optimization_history(study)"
   ]
  },
  {
   "cell_type": "code",
   "execution_count": 52,
   "metadata": {},
   "outputs": [
    {
     "data": {
      "application/vnd.plotly.v1+json": {
       "config": {
        "plotlyServerURL": "https://plot.ly"
       },
       "data": [
        {
         "cliponaxis": false,
         "hovertemplate": [
          "booster (CategoricalDistribution): 0.0045444979324185016<extra></extra>",
          "eta (FloatDistribution): 0.2097628620056311<extra></extra>",
          "max_depth (IntDistribution): 0.7856926400619504<extra></extra>"
         ],
         "marker": {
          "color": "rgb(66,146,198)"
         },
         "orientation": "h",
         "text": [
          "<0.01",
          "0.21",
          "0.79"
         ],
         "textposition": "outside",
         "type": "bar",
         "x": [
          0.0045444979324185016,
          0.2097628620056311,
          0.7856926400619504
         ],
         "y": [
          "booster",
          "eta",
          "max_depth"
         ]
        }
       ],
       "layout": {
        "showlegend": false,
        "template": {
         "data": {
          "bar": [
           {
            "error_x": {
             "color": "#2a3f5f"
            },
            "error_y": {
             "color": "#2a3f5f"
            },
            "marker": {
             "line": {
              "color": "#E5ECF6",
              "width": 0.5
             },
             "pattern": {
              "fillmode": "overlay",
              "size": 10,
              "solidity": 0.2
             }
            },
            "type": "bar"
           }
          ],
          "barpolar": [
           {
            "marker": {
             "line": {
              "color": "#E5ECF6",
              "width": 0.5
             },
             "pattern": {
              "fillmode": "overlay",
              "size": 10,
              "solidity": 0.2
             }
            },
            "type": "barpolar"
           }
          ],
          "carpet": [
           {
            "aaxis": {
             "endlinecolor": "#2a3f5f",
             "gridcolor": "white",
             "linecolor": "white",
             "minorgridcolor": "white",
             "startlinecolor": "#2a3f5f"
            },
            "baxis": {
             "endlinecolor": "#2a3f5f",
             "gridcolor": "white",
             "linecolor": "white",
             "minorgridcolor": "white",
             "startlinecolor": "#2a3f5f"
            },
            "type": "carpet"
           }
          ],
          "choropleth": [
           {
            "colorbar": {
             "outlinewidth": 0,
             "ticks": ""
            },
            "type": "choropleth"
           }
          ],
          "contour": [
           {
            "colorbar": {
             "outlinewidth": 0,
             "ticks": ""
            },
            "colorscale": [
             [
              0,
              "#0d0887"
             ],
             [
              0.1111111111111111,
              "#46039f"
             ],
             [
              0.2222222222222222,
              "#7201a8"
             ],
             [
              0.3333333333333333,
              "#9c179e"
             ],
             [
              0.4444444444444444,
              "#bd3786"
             ],
             [
              0.5555555555555556,
              "#d8576b"
             ],
             [
              0.6666666666666666,
              "#ed7953"
             ],
             [
              0.7777777777777778,
              "#fb9f3a"
             ],
             [
              0.8888888888888888,
              "#fdca26"
             ],
             [
              1,
              "#f0f921"
             ]
            ],
            "type": "contour"
           }
          ],
          "contourcarpet": [
           {
            "colorbar": {
             "outlinewidth": 0,
             "ticks": ""
            },
            "type": "contourcarpet"
           }
          ],
          "heatmap": [
           {
            "colorbar": {
             "outlinewidth": 0,
             "ticks": ""
            },
            "colorscale": [
             [
              0,
              "#0d0887"
             ],
             [
              0.1111111111111111,
              "#46039f"
             ],
             [
              0.2222222222222222,
              "#7201a8"
             ],
             [
              0.3333333333333333,
              "#9c179e"
             ],
             [
              0.4444444444444444,
              "#bd3786"
             ],
             [
              0.5555555555555556,
              "#d8576b"
             ],
             [
              0.6666666666666666,
              "#ed7953"
             ],
             [
              0.7777777777777778,
              "#fb9f3a"
             ],
             [
              0.8888888888888888,
              "#fdca26"
             ],
             [
              1,
              "#f0f921"
             ]
            ],
            "type": "heatmap"
           }
          ],
          "heatmapgl": [
           {
            "colorbar": {
             "outlinewidth": 0,
             "ticks": ""
            },
            "colorscale": [
             [
              0,
              "#0d0887"
             ],
             [
              0.1111111111111111,
              "#46039f"
             ],
             [
              0.2222222222222222,
              "#7201a8"
             ],
             [
              0.3333333333333333,
              "#9c179e"
             ],
             [
              0.4444444444444444,
              "#bd3786"
             ],
             [
              0.5555555555555556,
              "#d8576b"
             ],
             [
              0.6666666666666666,
              "#ed7953"
             ],
             [
              0.7777777777777778,
              "#fb9f3a"
             ],
             [
              0.8888888888888888,
              "#fdca26"
             ],
             [
              1,
              "#f0f921"
             ]
            ],
            "type": "heatmapgl"
           }
          ],
          "histogram": [
           {
            "marker": {
             "pattern": {
              "fillmode": "overlay",
              "size": 10,
              "solidity": 0.2
             }
            },
            "type": "histogram"
           }
          ],
          "histogram2d": [
           {
            "colorbar": {
             "outlinewidth": 0,
             "ticks": ""
            },
            "colorscale": [
             [
              0,
              "#0d0887"
             ],
             [
              0.1111111111111111,
              "#46039f"
             ],
             [
              0.2222222222222222,
              "#7201a8"
             ],
             [
              0.3333333333333333,
              "#9c179e"
             ],
             [
              0.4444444444444444,
              "#bd3786"
             ],
             [
              0.5555555555555556,
              "#d8576b"
             ],
             [
              0.6666666666666666,
              "#ed7953"
             ],
             [
              0.7777777777777778,
              "#fb9f3a"
             ],
             [
              0.8888888888888888,
              "#fdca26"
             ],
             [
              1,
              "#f0f921"
             ]
            ],
            "type": "histogram2d"
           }
          ],
          "histogram2dcontour": [
           {
            "colorbar": {
             "outlinewidth": 0,
             "ticks": ""
            },
            "colorscale": [
             [
              0,
              "#0d0887"
             ],
             [
              0.1111111111111111,
              "#46039f"
             ],
             [
              0.2222222222222222,
              "#7201a8"
             ],
             [
              0.3333333333333333,
              "#9c179e"
             ],
             [
              0.4444444444444444,
              "#bd3786"
             ],
             [
              0.5555555555555556,
              "#d8576b"
             ],
             [
              0.6666666666666666,
              "#ed7953"
             ],
             [
              0.7777777777777778,
              "#fb9f3a"
             ],
             [
              0.8888888888888888,
              "#fdca26"
             ],
             [
              1,
              "#f0f921"
             ]
            ],
            "type": "histogram2dcontour"
           }
          ],
          "mesh3d": [
           {
            "colorbar": {
             "outlinewidth": 0,
             "ticks": ""
            },
            "type": "mesh3d"
           }
          ],
          "parcoords": [
           {
            "line": {
             "colorbar": {
              "outlinewidth": 0,
              "ticks": ""
             }
            },
            "type": "parcoords"
           }
          ],
          "pie": [
           {
            "automargin": true,
            "type": "pie"
           }
          ],
          "scatter": [
           {
            "fillpattern": {
             "fillmode": "overlay",
             "size": 10,
             "solidity": 0.2
            },
            "type": "scatter"
           }
          ],
          "scatter3d": [
           {
            "line": {
             "colorbar": {
              "outlinewidth": 0,
              "ticks": ""
             }
            },
            "marker": {
             "colorbar": {
              "outlinewidth": 0,
              "ticks": ""
             }
            },
            "type": "scatter3d"
           }
          ],
          "scattercarpet": [
           {
            "marker": {
             "colorbar": {
              "outlinewidth": 0,
              "ticks": ""
             }
            },
            "type": "scattercarpet"
           }
          ],
          "scattergeo": [
           {
            "marker": {
             "colorbar": {
              "outlinewidth": 0,
              "ticks": ""
             }
            },
            "type": "scattergeo"
           }
          ],
          "scattergl": [
           {
            "marker": {
             "colorbar": {
              "outlinewidth": 0,
              "ticks": ""
             }
            },
            "type": "scattergl"
           }
          ],
          "scattermapbox": [
           {
            "marker": {
             "colorbar": {
              "outlinewidth": 0,
              "ticks": ""
             }
            },
            "type": "scattermapbox"
           }
          ],
          "scatterpolar": [
           {
            "marker": {
             "colorbar": {
              "outlinewidth": 0,
              "ticks": ""
             }
            },
            "type": "scatterpolar"
           }
          ],
          "scatterpolargl": [
           {
            "marker": {
             "colorbar": {
              "outlinewidth": 0,
              "ticks": ""
             }
            },
            "type": "scatterpolargl"
           }
          ],
          "scatterternary": [
           {
            "marker": {
             "colorbar": {
              "outlinewidth": 0,
              "ticks": ""
             }
            },
            "type": "scatterternary"
           }
          ],
          "surface": [
           {
            "colorbar": {
             "outlinewidth": 0,
             "ticks": ""
            },
            "colorscale": [
             [
              0,
              "#0d0887"
             ],
             [
              0.1111111111111111,
              "#46039f"
             ],
             [
              0.2222222222222222,
              "#7201a8"
             ],
             [
              0.3333333333333333,
              "#9c179e"
             ],
             [
              0.4444444444444444,
              "#bd3786"
             ],
             [
              0.5555555555555556,
              "#d8576b"
             ],
             [
              0.6666666666666666,
              "#ed7953"
             ],
             [
              0.7777777777777778,
              "#fb9f3a"
             ],
             [
              0.8888888888888888,
              "#fdca26"
             ],
             [
              1,
              "#f0f921"
             ]
            ],
            "type": "surface"
           }
          ],
          "table": [
           {
            "cells": {
             "fill": {
              "color": "#EBF0F8"
             },
             "line": {
              "color": "white"
             }
            },
            "header": {
             "fill": {
              "color": "#C8D4E3"
             },
             "line": {
              "color": "white"
             }
            },
            "type": "table"
           }
          ]
         },
         "layout": {
          "annotationdefaults": {
           "arrowcolor": "#2a3f5f",
           "arrowhead": 0,
           "arrowwidth": 1
          },
          "autotypenumbers": "strict",
          "coloraxis": {
           "colorbar": {
            "outlinewidth": 0,
            "ticks": ""
           }
          },
          "colorscale": {
           "diverging": [
            [
             0,
             "#8e0152"
            ],
            [
             0.1,
             "#c51b7d"
            ],
            [
             0.2,
             "#de77ae"
            ],
            [
             0.3,
             "#f1b6da"
            ],
            [
             0.4,
             "#fde0ef"
            ],
            [
             0.5,
             "#f7f7f7"
            ],
            [
             0.6,
             "#e6f5d0"
            ],
            [
             0.7,
             "#b8e186"
            ],
            [
             0.8,
             "#7fbc41"
            ],
            [
             0.9,
             "#4d9221"
            ],
            [
             1,
             "#276419"
            ]
           ],
           "sequential": [
            [
             0,
             "#0d0887"
            ],
            [
             0.1111111111111111,
             "#46039f"
            ],
            [
             0.2222222222222222,
             "#7201a8"
            ],
            [
             0.3333333333333333,
             "#9c179e"
            ],
            [
             0.4444444444444444,
             "#bd3786"
            ],
            [
             0.5555555555555556,
             "#d8576b"
            ],
            [
             0.6666666666666666,
             "#ed7953"
            ],
            [
             0.7777777777777778,
             "#fb9f3a"
            ],
            [
             0.8888888888888888,
             "#fdca26"
            ],
            [
             1,
             "#f0f921"
            ]
           ],
           "sequentialminus": [
            [
             0,
             "#0d0887"
            ],
            [
             0.1111111111111111,
             "#46039f"
            ],
            [
             0.2222222222222222,
             "#7201a8"
            ],
            [
             0.3333333333333333,
             "#9c179e"
            ],
            [
             0.4444444444444444,
             "#bd3786"
            ],
            [
             0.5555555555555556,
             "#d8576b"
            ],
            [
             0.6666666666666666,
             "#ed7953"
            ],
            [
             0.7777777777777778,
             "#fb9f3a"
            ],
            [
             0.8888888888888888,
             "#fdca26"
            ],
            [
             1,
             "#f0f921"
            ]
           ]
          },
          "colorway": [
           "#636efa",
           "#EF553B",
           "#00cc96",
           "#ab63fa",
           "#FFA15A",
           "#19d3f3",
           "#FF6692",
           "#B6E880",
           "#FF97FF",
           "#FECB52"
          ],
          "font": {
           "color": "#2a3f5f"
          },
          "geo": {
           "bgcolor": "white",
           "lakecolor": "white",
           "landcolor": "#E5ECF6",
           "showlakes": true,
           "showland": true,
           "subunitcolor": "white"
          },
          "hoverlabel": {
           "align": "left"
          },
          "hovermode": "closest",
          "mapbox": {
           "style": "light"
          },
          "paper_bgcolor": "white",
          "plot_bgcolor": "#E5ECF6",
          "polar": {
           "angularaxis": {
            "gridcolor": "white",
            "linecolor": "white",
            "ticks": ""
           },
           "bgcolor": "#E5ECF6",
           "radialaxis": {
            "gridcolor": "white",
            "linecolor": "white",
            "ticks": ""
           }
          },
          "scene": {
           "xaxis": {
            "backgroundcolor": "#E5ECF6",
            "gridcolor": "white",
            "gridwidth": 2,
            "linecolor": "white",
            "showbackground": true,
            "ticks": "",
            "zerolinecolor": "white"
           },
           "yaxis": {
            "backgroundcolor": "#E5ECF6",
            "gridcolor": "white",
            "gridwidth": 2,
            "linecolor": "white",
            "showbackground": true,
            "ticks": "",
            "zerolinecolor": "white"
           },
           "zaxis": {
            "backgroundcolor": "#E5ECF6",
            "gridcolor": "white",
            "gridwidth": 2,
            "linecolor": "white",
            "showbackground": true,
            "ticks": "",
            "zerolinecolor": "white"
           }
          },
          "shapedefaults": {
           "line": {
            "color": "#2a3f5f"
           }
          },
          "ternary": {
           "aaxis": {
            "gridcolor": "white",
            "linecolor": "white",
            "ticks": ""
           },
           "baxis": {
            "gridcolor": "white",
            "linecolor": "white",
            "ticks": ""
           },
           "bgcolor": "#E5ECF6",
           "caxis": {
            "gridcolor": "white",
            "linecolor": "white",
            "ticks": ""
           }
          },
          "title": {
           "x": 0.05
          },
          "xaxis": {
           "automargin": true,
           "gridcolor": "white",
           "linecolor": "white",
           "ticks": "",
           "title": {
            "standoff": 15
           },
           "zerolinecolor": "white",
           "zerolinewidth": 2
          },
          "yaxis": {
           "automargin": true,
           "gridcolor": "white",
           "linecolor": "white",
           "ticks": "",
           "title": {
            "standoff": 15
           },
           "zerolinecolor": "white",
           "zerolinewidth": 2
          }
         }
        },
        "title": {
         "text": "Hyperparameter Importances"
        },
        "xaxis": {
         "title": {
          "text": "Importance for Objective Value"
         }
        },
        "yaxis": {
         "title": {
          "text": "Hyperparameter"
         }
        }
       }
      }
     },
     "metadata": {},
     "output_type": "display_data"
    }
   ],
   "source": [
    "optuna.visualization.plot_param_importances(study)"
   ]
  },
  {
   "cell_type": "code",
   "execution_count": 61,
   "metadata": {},
   "outputs": [
    {
     "name": "stdout",
     "output_type": "stream",
     "text": [
      "85.6\n"
     ]
    }
   ],
   "source": [
    "dtrain = xgb.DMatrix(X_train, label=y_train)\n",
    "dtest = xgb.DMatrix(X_val, label=y_val)\n",
    "\n",
    "param_final = {\n",
    "    \"max_depth\": 9,\n",
    "    \"eta\": 0.35,\n",
    "    \"objective\": \"binary:logistic\",\n",
    "    \"eval_metric\": \"auc\",\n",
    "    \"booster\": \"dart\",\n",
    "    }\n",
    "\n",
    "# Add a callback for pruning.\n",
    "pruning_callback = optuna.integration.XGBoostPruningCallback(trial, \"validation-auc\")\n",
    "\n",
    "model = xgb.train(param_final, dtrain)\n",
    "\n",
    "preds = model.predict(dtest)\n",
    "pred_labels = np.rint(preds)\n",
    "accuracy = round(accuracy_score(y_val, pred_labels)*100, 1)\n",
    "\n",
    "print(accuracy)"
   ]
  },
  {
   "cell_type": "code",
   "execution_count": 54,
   "metadata": {},
   "outputs": [],
   "source": [
    "import pickle\n",
    "with open('rain_model.bin', 'wb') as f_out: \n",
    "    pickle.dump((dv, model), f_out) "
   ]
  }
 ],
 "metadata": {
  "kernelspec": {
   "display_name": "Python 3.9.13 ('base')",
   "language": "python",
   "name": "python3"
  },
  "language_info": {
   "codemirror_mode": {
    "name": "ipython",
    "version": 3
   },
   "file_extension": ".py",
   "mimetype": "text/x-python",
   "name": "python",
   "nbconvert_exporter": "python",
   "pygments_lexer": "ipython3",
   "version": "3.9.13"
  },
  "orig_nbformat": 4,
  "vscode": {
   "interpreter": {
    "hash": "f53a7badd13ae37b8b3419fa4250863d0aa7cd7f1846d3520596eeaafc36c784"
   }
  }
 },
 "nbformat": 4,
 "nbformat_minor": 2
}
